{
  "nbformat": 4,
  "nbformat_minor": 0,
  "metadata": {
    "colab": {
      "name": "Untitled2.ipynb",
      "provenance": [],
      "collapsed_sections": [],
      "toc_visible": true,
      "authorship_tag": "ABX9TyOcNPuu53bRsTE8/8zCofXS",
      "include_colab_link": true
    },
    "kernelspec": {
      "name": "python3",
      "display_name": "Python 3"
    },
    "language_info": {
      "name": "python"
    }
  },
  "cells": [
    {
      "cell_type": "markdown",
      "metadata": {
        "id": "view-in-github",
        "colab_type": "text"
      },
      "source": [
        "<a href=\"https://colab.research.google.com/github/ankitoscar/handsonml/blob/main/chapter_11/exercises.ipynb\" target=\"_parent\"><img src=\"https://colab.research.google.com/assets/colab-badge.svg\" alt=\"Open In Colab\"/></a>"
      ]
    },
    {
      "cell_type": "markdown",
      "metadata": {
        "id": "TcmAYwyB8T4V"
      },
      "source": [
        "## Training Deep Neural Networks using Keras\n",
        "This chapter involves different training, intitialization and normalization strategies used for enhancing the performance of a neural network in keras. "
      ]
    },
    {
      "cell_type": "markdown",
      "metadata": {
        "id": "IPQHBCy-9Q3L"
      },
      "source": [
        "## Exercises\n",
        "\n",
        "### Deep Learning"
      ]
    },
    {
      "cell_type": "markdown",
      "metadata": {
        "id": "kglGvw809gCm"
      },
      "source": [
        "#### Build a DNN with five hidden layers of 100 neurons each, He initialization, and the ELU activation function."
      ]
    },
    {
      "cell_type": "code",
      "metadata": {
        "id": "62Yemcsn9tet"
      },
      "source": [
        "#  importing essential libraries \n",
        "import tensorflow as tf \n",
        "from tensorflow import keras\n",
        "import numpy as np \n",
        "import pandas as pd \n",
        "import matplotlib.pyplot as plt"
      ],
      "execution_count": null,
      "outputs": []
    },
    {
      "cell_type": "code",
      "metadata": {
        "colab": {
          "base_uri": "https://localhost:8080/"
        },
        "id": "m3q3woXF97JG",
        "outputId": "46fd745a-46fb-4f5e-db8d-1d154d6f5d1f"
      },
      "source": [
        "# Loading the MNIST digits dataset \n",
        "from keras.datasets import mnist \n",
        "(X_train, y_train), (X_test, y_test) = mnist.load_data()"
      ],
      "execution_count": null,
      "outputs": [
        {
          "output_type": "stream",
          "text": [
            "Downloading data from https://storage.googleapis.com/tensorflow/tf-keras-datasets/mnist.npz\n",
            "11493376/11490434 [==============================] - 0s 0us/step\n"
          ],
          "name": "stdout"
        }
      ]
    },
    {
      "cell_type": "code",
      "metadata": {
        "colab": {
          "base_uri": "https://localhost:8080/"
        },
        "id": "sAZemaTj-xAY",
        "outputId": "3c17593e-6efe-4170-cece-2d18ae25cdfa"
      },
      "source": [
        "# Seeing shape of the dataset \n",
        "print(X_train.shape)\n",
        "print(y_train.shape)\n",
        "print(X_test.shape)\n",
        "print(y_test.shape)"
      ],
      "execution_count": null,
      "outputs": [
        {
          "output_type": "stream",
          "text": [
            "(60000, 28, 28)\n",
            "(60000,)\n",
            "(10000, 28, 28)\n",
            "(10000,)\n"
          ],
          "name": "stdout"
        }
      ]
    },
    {
      "cell_type": "code",
      "metadata": {
        "colab": {
          "base_uri": "https://localhost:8080/",
          "height": 761
        },
        "id": "8cnXHzYz-9su",
        "outputId": "17af4a8c-9748-4b5c-8f30-1f6271cd20aa"
      },
      "source": [
        "# Printing first 10 images in the training dataset \n",
        "for image in X_train[:3]:\n",
        "  plt.figure()\n",
        "  plt.imshow(image)\n",
        "  plt.show()"
      ],
      "execution_count": null,
      "outputs": [
        {
          "output_type": "display_data",
          "data": {
            "image/png": "[encoded data removed]",
            "text/plain": [
              "<Figure size 432x288 with 1 Axes>"
            ]
          },
          "metadata": {
            "tags": [],
            "needs_background": "light"
          }
        },
        {
          "output_type": "display_data",
          "data": {
            "image/png": "[encoded data removed]",
            "text/plain": [
              "<Figure size 432x288 with 1 Axes>"
            ]
          },
          "metadata": {
            "tags": [],
            "needs_background": "light"
          }
        },
        {
          "output_type": "display_data",
          "data": {
            "image/png": "[encoded data removed]",
            "text/plain": [
              "<Figure size 432x288 with 1 Axes>"
            ]
          },
          "metadata": {
            "tags": [],
            "needs_background": "light"
          }
        }
      ]
    },
    {
      "cell_type": "code",
      "metadata": {
        "colab": {
          "base_uri": "https://localhost:8080/"
        },
        "id": "srPdJlWv_ng8",
        "outputId": "6579cc67-80ec-4b44-988c-c433002d0407"
      },
      "source": [
        "# Seeing the first 5 elements of the training dataset\n",
        "X_train[:5]"
      ],
      "execution_count": null,
      "outputs": [
        {
          "output_type": "execute_result",
          "data": {
            "text/plain": [
              "array([[[0, 0, 0, ..., 0, 0, 0],\n",
              "        [0, 0, 0, ..., 0, 0, 0],\n",
              "        [0, 0, 0, ..., 0, 0, 0],\n",
              "        ...,\n",
              "        [0, 0, 0, ..., 0, 0, 0],\n",
              "        [0, 0, 0, ..., 0, 0, 0],\n",
              "        [0, 0, 0, ..., 0, 0, 0]],\n",
              "\n",
              "       [[0, 0, 0, ..., 0, 0, 0],\n",
              "        [0, 0, 0, ..., 0, 0, 0],\n",
              "        [0, 0, 0, ..., 0, 0, 0],\n",
              "        ...,\n",
              "        [0, 0, 0, ..., 0, 0, 0],\n",
              "        [0, 0, 0, ..., 0, 0, 0],\n",
              "        [0, 0, 0, ..., 0, 0, 0]],\n",
              "\n",
              "       [[0, 0, 0, ..., 0, 0, 0],\n",
              "        [0, 0, 0, ..., 0, 0, 0],\n",
              "        [0, 0, 0, ..., 0, 0, 0],\n",
              "        ...,\n",
              "        [0, 0, 0, ..., 0, 0, 0],\n",
              "        [0, 0, 0, ..., 0, 0, 0],\n",
              "        [0, 0, 0, ..., 0, 0, 0]],\n",
              "\n",
              "       [[0, 0, 0, ..., 0, 0, 0],\n",
              "        [0, 0, 0, ..., 0, 0, 0],\n",
              "        [0, 0, 0, ..., 0, 0, 0],\n",
              "        ...,\n",
              "        [0, 0, 0, ..., 0, 0, 0],\n",
              "        [0, 0, 0, ..., 0, 0, 0],\n",
              "        [0, 0, 0, ..., 0, 0, 0]],\n",
              "\n",
              "       [[0, 0, 0, ..., 0, 0, 0],\n",
              "        [0, 0, 0, ..., 0, 0, 0],\n",
              "        [0, 0, 0, ..., 0, 0, 0],\n",
              "        ...,\n",
              "        [0, 0, 0, ..., 0, 0, 0],\n",
              "        [0, 0, 0, ..., 0, 0, 0],\n",
              "        [0, 0, 0, ..., 0, 0, 0]]], dtype=uint8)"
            ]
          },
          "metadata": {
            "tags": []
          },
          "execution_count": 8
        }
      ]
    },
    {
      "cell_type": "code",
      "metadata": {
        "colab": {
          "base_uri": "https://localhost:8080/"
        },
        "id": "HdiTydAw_5Ru",
        "outputId": "c34222b7-9160-4f88-fdeb-1066d9a752a6"
      },
      "source": [
        "y_train[:5]"
      ],
      "execution_count": null,
      "outputs": [
        {
          "output_type": "execute_result",
          "data": {
            "text/plain": [
              "array([5, 0, 4, 1, 9], dtype=uint8)"
            ]
          },
          "metadata": {
            "tags": []
          },
          "execution_count": 9
        }
      ]
    },
    {
      "cell_type": "markdown",
      "metadata": {
        "id": "XAOK2AOnAMlp"
      },
      "source": [
        "The DNN which we are going to make is having 5 layers, with 100 neurons each, He initialization and ELU activation function."
      ]
    },
    {
      "cell_type": "code",
      "metadata": {
        "colab": {
          "base_uri": "https://localhost:8080/"
        },
        "id": "sW2rjD3LAomG",
        "outputId": "96259052-3e9d-4cd0-f280-fba301042cfd"
      },
      "source": [
        "# Making the network architecture\n",
        "model = keras.models.Sequential([\n",
        "              keras.layers.Flatten(input_shape=[28,28]),  \n",
        "              keras.layers.Dense(100, activation='elu', kernel_initializer='he_normal'),\n",
        "              keras.layers.Dense(100, activation='elu', kernel_initializer='he_normal'),\n",
        "              keras.layers.Dense(100, activation='elu', kernel_initializer='he_normal'),\n",
        "              keras.layers.Dense(100, activation='elu', kernel_initializer='he_normal'),\n",
        "              keras.layers.Dense(100, activation='elu', kernel_initializer='he_normal'),\n",
        "              keras.layers.Dense(5, activation='softmax')\n",
        "])\n",
        "\n",
        "model.summary()"
      ],
      "execution_count": null,
      "outputs": [
        {
          "output_type": "stream",
          "text": [
            "Model: \"sequential\"\n",
            "_________________________________________________________________\n",
            "Layer (type)                 Output Shape              Param #   \n",
            "=================================================================\n",
            "flatten (Flatten)            (None, 784)               0         \n",
            "_________________________________________________________________\n",
            "dense (Dense)                (None, 100)               78500     \n",
            "_________________________________________________________________\n",
            "dense_1 (Dense)              (None, 100)               10100     \n",
            "_________________________________________________________________\n",
            "dense_2 (Dense)              (None, 100)               10100     \n",
            "_________________________________________________________________\n",
            "dense_3 (Dense)              (None, 100)               10100     \n",
            "_________________________________________________________________\n",
            "dense_4 (Dense)              (None, 100)               10100     \n",
            "_________________________________________________________________\n",
            "dense_5 (Dense)              (None, 5)                 505       \n",
            "=================================================================\n",
            "Total params: 119,405\n",
            "Trainable params: 119,405\n",
            "Non-trainable params: 0\n",
            "_________________________________________________________________\n"
          ],
          "name": "stdout"
        }
      ]
    },
    {
      "cell_type": "code",
      "metadata": {
        "id": "TUA7KzodA71P"
      },
      "source": [
        "# Seperating the dataset between 0-4 and 5-9 \n",
        "train04_filter = np.isin(y_train, [0, 1, 2, 3, 4])\n",
        "train59_filter = np.isin(y_train, [5, 6, 7, 8, 9])\n",
        "\n",
        "test04_filter = np.isin(y_test, [0, 1, 2, 3, 4])\n",
        "test59_filter = np.isin(y_test, [5, 6, 7, 8, 9])"
      ],
      "execution_count": null,
      "outputs": []
    },
    {
      "cell_type": "code",
      "metadata": {
        "id": "rkq9FKsOD-lo"
      },
      "source": [
        "# Splitting the data \n",
        "X_train04, y_train04, X_test04, y_test04 =  X_train[train04_filter], y_train[train04_filter], X_test[test04_filter], y_test[test04_filter]\n",
        "X_train59, y_train59, X_test59, y_test59 =  X_train[train59_filter], y_train[train59_filter], X_test[test59_filter], y_test[test59_filter]\n"
      ],
      "execution_count": null,
      "outputs": []
    },
    {
      "cell_type": "code",
      "metadata": {
        "colab": {
          "base_uri": "https://localhost:8080/"
        },
        "id": "MaWlMbUVGHcY",
        "outputId": "c13d6587-0c81-4476-d8fb-54ca149f5f19"
      },
      "source": [
        "print(X_train.shape)\n",
        "print(X_train04.shape)\n",
        "print(X_train59.shape)"
      ],
      "execution_count": null,
      "outputs": [
        {
          "output_type": "stream",
          "text": [
            "(60000, 28, 28)\n",
            "(30596, 28, 28)\n",
            "(29404, 28, 28)\n"
          ],
          "name": "stdout"
        }
      ]
    },
    {
      "cell_type": "code",
      "metadata": {
        "colab": {
          "base_uri": "https://localhost:8080/",
          "height": 265
        },
        "id": "Q-RvKTKBEhLL",
        "outputId": "321114c3-6b6b-4f1f-ebd9-a69560d618be"
      },
      "source": [
        "# Seeing a sample from each dataset \n",
        "plt.figure()\n",
        "plt.imshow(X_train04[0])\n",
        "plt.show()"
      ],
      "execution_count": null,
      "outputs": [
        {
          "output_type": "display_data",
          "data": {
            "image/png": "[encoded data removed]",
            "text/plain": [
              "<Figure size 432x288 with 1 Axes>"
            ]
          },
          "metadata": {
            "tags": [],
            "needs_background": "light"
          }
        }
      ]
    },
    {
      "cell_type": "code",
      "metadata": {
        "colab": {
          "base_uri": "https://localhost:8080/",
          "height": 265
        },
        "id": "xq2oikmWEvPl",
        "outputId": "e504e14a-e1b0-438b-a364-57356f9cc459"
      },
      "source": [
        "plt.figure()\n",
        "plt.imshow(X_train59[0])\n",
        "plt.show()"
      ],
      "execution_count": null,
      "outputs": [
        {
          "output_type": "display_data",
          "data": {
            "image/png": "[encoded data removed]",
            "text/plain": [
              "<Figure size 432x288 with 1 Axes>"
            ]
          },
          "metadata": {
            "tags": [],
            "needs_background": "light"
          }
        }
      ]
    },
    {
      "cell_type": "code",
      "metadata": {
        "colab": {
          "base_uri": "https://localhost:8080/"
        },
        "id": "Y1g34TgVE12t",
        "outputId": "530d001b-af81-443d-9884-82bfec8f354d"
      },
      "source": [
        "# Training the model \n",
        "\n",
        "# Making callbacks \n",
        "checkpoints_cb = keras.callbacks.ModelCheckpoint('my_model.h5',save_best_only=True)\n",
        "early_stopping_cb = keras.callbacks.EarlyStopping(patience=10)\n",
        "\n",
        "# Compiling the model \n",
        "model.compile(loss='sparse_categorical_crossentropy', optimizer='Adam')\n",
        "\n",
        "# Training the model \n",
        "history = model.fit(X_train04, y_train04, epochs=100,\n",
        "                    validation_split=0.15, callbacks = [checkpoints_cb, early_stopping_cb])"
      ],
      "execution_count": null,
      "outputs": [
        {
          "output_type": "stream",
          "text": [
            "Epoch 1/100\n",
            "813/813 [==============================] - 3s 3ms/step - loss: 5.8736 - val_loss: 0.3810\n",
            "Epoch 2/100\n",
            "813/813 [==============================] - 2s 3ms/step - loss: 0.2996 - val_loss: 0.1582\n",
            "Epoch 3/100\n",
            "813/813 [==============================] - 2s 3ms/step - loss: 0.1504 - val_loss: 0.1857\n",
            "Epoch 4/100\n",
            "813/813 [==============================] - 2s 3ms/step - loss: 0.1324 - val_loss: 0.1267\n",
            "Epoch 5/100\n",
            "813/813 [==============================] - 2s 3ms/step - loss: 0.0926 - val_loss: 0.0846\n",
            "Epoch 6/100\n",
            "813/813 [==============================] - 2s 3ms/step - loss: 0.0791 - val_loss: 0.0923\n",
            "Epoch 7/100\n",
            "813/813 [==============================] - 2s 3ms/step - loss: 0.0764 - val_loss: 0.0636\n",
            "Epoch 8/100\n",
            "813/813 [==============================] - 2s 3ms/step - loss: 0.0536 - val_loss: 0.0624\n",
            "Epoch 9/100\n",
            "813/813 [==============================] - 2s 3ms/step - loss: 0.0453 - val_loss: 0.0628\n",
            "Epoch 10/100\n",
            "813/813 [==============================] - 2s 3ms/step - loss: 0.0448 - val_loss: 0.0711\n",
            "Epoch 11/100\n",
            "813/813 [==============================] - 2s 3ms/step - loss: 0.0578 - val_loss: 0.0443\n",
            "Epoch 12/100\n",
            "813/813 [==============================] - 2s 3ms/step - loss: 0.0376 - val_loss: 0.0551\n",
            "Epoch 13/100\n",
            "813/813 [==============================] - 2s 3ms/step - loss: 0.0393 - val_loss: 0.0687\n",
            "Epoch 14/100\n",
            "813/813 [==============================] - 2s 3ms/step - loss: 0.0369 - val_loss: 0.0410\n",
            "Epoch 15/100\n",
            "813/813 [==============================] - 2s 3ms/step - loss: 0.0308 - val_loss: 0.0523\n",
            "Epoch 16/100\n",
            "813/813 [==============================] - 2s 3ms/step - loss: 0.0194 - val_loss: 0.0709\n",
            "Epoch 17/100\n",
            "813/813 [==============================] - 2s 3ms/step - loss: 0.0151 - val_loss: 0.0449\n",
            "Epoch 18/100\n",
            "813/813 [==============================] - 2s 3ms/step - loss: 0.0217 - val_loss: 0.0842\n",
            "Epoch 19/100\n",
            "813/813 [==============================] - 2s 3ms/step - loss: 0.0154 - val_loss: 0.0644\n",
            "Epoch 20/100\n",
            "813/813 [==============================] - 2s 3ms/step - loss: 0.0161 - val_loss: 0.1007\n",
            "Epoch 21/100\n",
            "813/813 [==============================] - 2s 3ms/step - loss: 0.0275 - val_loss: 0.0422\n",
            "Epoch 22/100\n",
            "813/813 [==============================] - 2s 3ms/step - loss: 0.0069 - val_loss: 0.0576\n",
            "Epoch 23/100\n",
            "813/813 [==============================] - 2s 3ms/step - loss: 0.0133 - val_loss: 0.0644\n",
            "Epoch 24/100\n",
            "813/813 [==============================] - 2s 3ms/step - loss: 0.0223 - val_loss: 0.0749\n"
          ],
          "name": "stdout"
        }
      ]
    },
    {
      "cell_type": "code",
      "metadata": {
        "colab": {
          "base_uri": "https://localhost:8080/",
          "height": 324
        },
        "id": "s6BCF23JGnyP",
        "outputId": "6d77f3d3-a889-48c6-ea71-3ba1d7753a6e"
      },
      "source": [
        "# Seeing learning curve \n",
        "pd.DataFrame(history.history).plot(figsize=(8, 5))\n",
        "plt.grid(True)\n",
        "plt.gca().set_ylim(0, 1)\n",
        "plt.show()"
      ],
      "execution_count": null,
      "outputs": [
        {
          "output_type": "display_data",
          "data": {
            "image/png": "[encoded data removed]",
            "text/plain": [
              "<Figure size 576x360 with 1 Axes>"
            ]
          },
          "metadata": {
            "tags": [],
            "needs_background": "light"
          }
        }
      ]
    },
    {
      "cell_type": "code",
      "metadata": {
        "colab": {
          "base_uri": "https://localhost:8080/"
        },
        "id": "_r96W1BfInWx",
        "outputId": "f5f01237-79a1-437f-b45d-bbc63524094b"
      },
      "source": [
        "# Evaluating the model \n",
        "model.evaluate(X_test04, y_test04)"
      ],
      "execution_count": null,
      "outputs": [
        {
          "output_type": "stream",
          "text": [
            "161/161 [==============================] - 0s 1ms/step - loss: 0.0497\n"
          ],
          "name": "stdout"
        },
        {
          "output_type": "execute_result",
          "data": {
            "text/plain": [
              "0.04966454580426216"
            ]
          },
          "metadata": {
            "tags": []
          },
          "execution_count": 21
        }
      ]
    },
    {
      "cell_type": "code",
      "metadata": {
        "colab": {
          "base_uri": "https://localhost:8080/"
        },
        "id": "MSJHR3WLIufu",
        "outputId": "b1bb9239-6a11-41e1-f9ef-5d6115b1e9fa"
      },
      "source": [
        "# Adding batch normalization and repeating the process \n",
        "\n",
        "# Making the network architecture\n",
        "model = keras.models.Sequential([\n",
        "              keras.layers.Flatten(input_shape=[28,28]),\n",
        "              keras.layers.BatchNormalization(),  \n",
        "              keras.layers.Dense(100, activation='elu', kernel_initializer='he_normal'),\n",
        "              keras.layers.BatchNormalization(),\n",
        "              keras.layers.Dense(100, activation='elu', kernel_initializer='he_normal'),\n",
        "              keras.layers.BatchNormalization(),\n",
        "              keras.layers.Dense(100, activation='elu', kernel_initializer='he_normal'),\n",
        "              keras.layers.BatchNormalization(),\n",
        "              keras.layers.Dense(100, activation='elu', kernel_initializer='he_normal'),\n",
        "              keras.layers.BatchNormalization(),\n",
        "              keras.layers.Dense(100, activation='elu', kernel_initializer='he_normal'),\n",
        "              keras.layers.Dense(5, activation='softmax')\n",
        "])\n",
        "\n",
        "model.summary()"
      ],
      "execution_count": null,
      "outputs": [
        {
          "output_type": "stream",
          "text": [
            "Model: \"sequential_1\"\n",
            "_________________________________________________________________\n",
            "Layer (type)                 Output Shape              Param #   \n",
            "=================================================================\n",
            "flatten_1 (Flatten)          (None, 784)               0         \n",
            "_________________________________________________________________\n",
            "batch_normalization (BatchNo (None, 784)               3136      \n",
            "_________________________________________________________________\n",
            "dense_6 (Dense)              (None, 100)               78500     \n",
            "_________________________________________________________________\n",
            "batch_normalization_1 (Batch (None, 100)               400       \n",
            "_________________________________________________________________\n",
            "dense_7 (Dense)              (None, 100)               10100     \n",
            "_________________________________________________________________\n",
            "batch_normalization_2 (Batch (None, 100)               400       \n",
            "_________________________________________________________________\n",
            "dense_8 (Dense)              (None, 100)               10100     \n",
            "_________________________________________________________________\n",
            "batch_normalization_3 (Batch (None, 100)               400       \n",
            "_________________________________________________________________\n",
            "dense_9 (Dense)              (None, 100)               10100     \n",
            "_________________________________________________________________\n",
            "batch_normalization_4 (Batch (None, 100)               400       \n",
            "_________________________________________________________________\n",
            "dense_10 (Dense)             (None, 100)               10100     \n",
            "_________________________________________________________________\n",
            "dense_11 (Dense)             (None, 5)                 505       \n",
            "=================================================================\n",
            "Total params: 124,141\n",
            "Trainable params: 121,773\n",
            "Non-trainable params: 2,368\n",
            "_________________________________________________________________\n"
          ],
          "name": "stdout"
        }
      ]
    },
    {
      "cell_type": "code",
      "metadata": {
        "colab": {
          "base_uri": "https://localhost:8080/"
        },
        "id": "jOh9z7KmJ8OJ",
        "outputId": "ff1fc5cf-7ce1-4807-fc5a-acf91e3279bf"
      },
      "source": [
        "# Making callbacks \n",
        "checkpoints_cb = keras.callbacks.ModelCheckpoint('my_model.h5',save_best_only=True)\n",
        "early_stopping_cb = keras.callbacks.EarlyStopping(patience=10)\n",
        "\n",
        "# Compiling the model \n",
        "model.compile(loss='sparse_categorical_crossentropy', optimizer='Adam')\n",
        "\n",
        "# Training the model \n",
        "history = model.fit(X_train04, y_train04, epochs=100,\n",
        "                    validation_split=0.15, callbacks = [checkpoints_cb, early_stopping_cb])"
      ],
      "execution_count": null,
      "outputs": [
        {
          "output_type": "stream",
          "text": [
            "Epoch 1/100\n",
            "813/813 [==============================] - 5s 5ms/step - loss: 0.2306 - val_loss: 0.1106\n",
            "Epoch 2/100\n",
            "813/813 [==============================] - 3s 4ms/step - loss: 0.0707 - val_loss: 0.1102\n",
            "Epoch 3/100\n",
            "813/813 [==============================] - 3s 4ms/step - loss: 0.0497 - val_loss: 0.1024\n",
            "Epoch 4/100\n",
            "813/813 [==============================] - 3s 4ms/step - loss: 0.0404 - val_loss: 0.0999\n",
            "Epoch 5/100\n",
            "813/813 [==============================] - 3s 4ms/step - loss: 0.0307 - val_loss: 0.1160\n",
            "Epoch 6/100\n",
            "813/813 [==============================] - 4s 4ms/step - loss: 0.0269 - val_loss: 0.1122\n",
            "Epoch 7/100\n",
            "813/813 [==============================] - 4s 4ms/step - loss: 0.0255 - val_loss: 0.1327\n",
            "Epoch 8/100\n",
            "813/813 [==============================] - 4s 4ms/step - loss: 0.0214 - val_loss: 0.1785\n",
            "Epoch 9/100\n",
            "813/813 [==============================] - 4s 4ms/step - loss: 0.0221 - val_loss: 0.1586\n",
            "Epoch 10/100\n",
            "813/813 [==============================] - 4s 4ms/step - loss: 0.0202 - val_loss: 0.1173\n",
            "Epoch 11/100\n",
            "813/813 [==============================] - 3s 4ms/step - loss: 0.0157 - val_loss: 0.1541\n",
            "Epoch 12/100\n",
            "813/813 [==============================] - 3s 4ms/step - loss: 0.0199 - val_loss: 0.1554\n",
            "Epoch 13/100\n",
            "813/813 [==============================] - 4s 4ms/step - loss: 0.0141 - val_loss: 0.1267\n",
            "Epoch 14/100\n",
            "813/813 [==============================] - 3s 4ms/step - loss: 0.0143 - val_loss: 0.2046\n"
          ],
          "name": "stdout"
        }
      ]
    },
    {
      "cell_type": "code",
      "metadata": {
        "colab": {
          "base_uri": "https://localhost:8080/",
          "height": 324
        },
        "id": "UgO9SjX7KEyV",
        "outputId": "8e888945-f6fc-4019-8e06-ba29e485edac"
      },
      "source": [
        "# Seeing learning curve \n",
        "pd.DataFrame(history.history).plot(figsize=(8, 5))\n",
        "plt.grid(True)\n",
        "plt.gca().set_ylim(0, 1)\n",
        "plt.show()"
      ],
      "execution_count": null,
      "outputs": [
        {
          "output_type": "display_data",
          "data": {
            "image/png": "[encoded data removed]",
            "text/plain": [
              "<Figure size 576x360 with 1 Axes>"
            ]
          },
          "metadata": {
            "tags": [],
            "needs_background": "light"
          }
        }
      ]
    },
    {
      "cell_type": "code",
      "metadata": {
        "colab": {
          "base_uri": "https://localhost:8080/"
        },
        "id": "Z9uzfFqhKYOJ",
        "outputId": "63660fd0-efaa-4815-de4f-dba6f593f473"
      },
      "source": [
        "# Evaluating model on test data \n",
        "model.evaluate(X_test04, y_test04)"
      ],
      "execution_count": null,
      "outputs": [
        {
          "output_type": "stream",
          "text": [
            "161/161 [==============================] - 0s 1ms/step - loss: 0.2778\n"
          ],
          "name": "stdout"
        },
        {
          "output_type": "execute_result",
          "data": {
            "text/plain": [
              "0.2777937054634094"
            ]
          },
          "metadata": {
            "tags": []
          },
          "execution_count": 25
        }
      ]
    },
    {
      "cell_type": "markdown",
      "metadata": {
        "id": "oB9QlzoMKxYG"
      },
      "source": [
        "The model has in turn performed worse than the previous iteration, it has most probably overfitted."
      ]
    },
    {
      "cell_type": "code",
      "metadata": {
        "colab": {
          "base_uri": "https://localhost:8080/"
        },
        "id": "0SuO_0WELBOA",
        "outputId": "db286313-55d4-4b9a-d1eb-a5bc716315f3"
      },
      "source": [
        "# Creating a new model with dropout before every layer\n",
        "\n",
        "# Making the network architecture\n",
        "model = keras.models.Sequential([\n",
        "              keras.layers.Flatten(input_shape=[28,28]),\n",
        "              keras.layers.Dropout(rate=0.2),  \n",
        "              keras.layers.Dense(100, activation='elu', kernel_initializer='he_normal'),\n",
        "              keras.layers.Dropout(rate=0.2),\n",
        "              keras.layers.Dense(100, activation='elu', kernel_initializer='he_normal'),\n",
        "              keras.layers.Dropout(rate=0.2),\n",
        "              keras.layers.Dense(100, activation='elu', kernel_initializer='he_normal'),\n",
        "              keras.layers.Dropout(rate=0.2),\n",
        "              keras.layers.Dense(100, activation='elu', kernel_initializer='he_normal'),\n",
        "              keras.layers.Dropout(rate=0.2),\n",
        "              keras.layers.Dense(100, activation='elu', kernel_initializer='he_normal'),\n",
        "              keras.layers.Dense(5, activation='softmax')\n",
        "])\n",
        "\n",
        "model.summary()"
      ],
      "execution_count": null,
      "outputs": [
        {
          "output_type": "stream",
          "text": [
            "Model: \"sequential_2\"\n",
            "_________________________________________________________________\n",
            "Layer (type)                 Output Shape              Param #   \n",
            "=================================================================\n",
            "flatten_2 (Flatten)          (None, 784)               0         \n",
            "_________________________________________________________________\n",
            "dropout (Dropout)            (None, 784)               0         \n",
            "_________________________________________________________________\n",
            "dense_12 (Dense)             (None, 100)               78500     \n",
            "_________________________________________________________________\n",
            "dropout_1 (Dropout)          (None, 100)               0         \n",
            "_________________________________________________________________\n",
            "dense_13 (Dense)             (None, 100)               10100     \n",
            "_________________________________________________________________\n",
            "dropout_2 (Dropout)          (None, 100)               0         \n",
            "_________________________________________________________________\n",
            "dense_14 (Dense)             (None, 100)               10100     \n",
            "_________________________________________________________________\n",
            "dropout_3 (Dropout)          (None, 100)               0         \n",
            "_________________________________________________________________\n",
            "dense_15 (Dense)             (None, 100)               10100     \n",
            "_________________________________________________________________\n",
            "dropout_4 (Dropout)          (None, 100)               0         \n",
            "_________________________________________________________________\n",
            "dense_16 (Dense)             (None, 100)               10100     \n",
            "_________________________________________________________________\n",
            "dense_17 (Dense)             (None, 5)                 505       \n",
            "=================================================================\n",
            "Total params: 119,405\n",
            "Trainable params: 119,405\n",
            "Non-trainable params: 0\n",
            "_________________________________________________________________\n"
          ],
          "name": "stdout"
        }
      ]
    },
    {
      "cell_type": "code",
      "metadata": {
        "colab": {
          "base_uri": "https://localhost:8080/"
        },
        "id": "w7NK4b5-NAte",
        "outputId": "0b4149c8-fa1a-47b3-d275-6c6a675ec278"
      },
      "source": [
        "# Making callbacks \n",
        "checkpoints_cb = keras.callbacks.ModelCheckpoint('my_model.h5',save_best_only=True)\n",
        "early_stopping_cb = keras.callbacks.EarlyStopping(patience=10)\n",
        "\n",
        "# Compiling the model \n",
        "model.compile(loss='sparse_categorical_crossentropy', optimizer='Adam')\n",
        "\n",
        "# Training the model \n",
        "history = model.fit(X_train04, y_train04, epochs=100,\n",
        "                    validation_split=0.15, callbacks = [checkpoints_cb, early_stopping_cb])"
      ],
      "execution_count": null,
      "outputs": [
        {
          "output_type": "stream",
          "text": [
            "Epoch 1/100\n",
            "813/813 [==============================] - 3s 3ms/step - loss: 21.3494 - val_loss: 0.2550\n",
            "Epoch 2/100\n",
            "813/813 [==============================] - 3s 3ms/step - loss: 0.7097 - val_loss: 0.2083\n",
            "Epoch 3/100\n",
            "813/813 [==============================] - 3s 3ms/step - loss: 0.4805 - val_loss: 0.1559\n",
            "Epoch 4/100\n",
            "813/813 [==============================] - 3s 3ms/step - loss: 0.3667 - val_loss: 0.1294\n",
            "Epoch 5/100\n",
            "813/813 [==============================] - 3s 3ms/step - loss: 0.2906 - val_loss: 0.1256\n",
            "Epoch 6/100\n",
            "813/813 [==============================] - 3s 3ms/step - loss: 0.2644 - val_loss: 0.1080\n",
            "Epoch 7/100\n",
            "813/813 [==============================] - 3s 3ms/step - loss: 0.2236 - val_loss: 0.0963\n",
            "Epoch 8/100\n",
            "813/813 [==============================] - 3s 3ms/step - loss: 0.2082 - val_loss: 0.1000\n",
            "Epoch 9/100\n",
            "813/813 [==============================] - 3s 3ms/step - loss: 0.1920 - val_loss: 0.0982\n",
            "Epoch 10/100\n",
            "813/813 [==============================] - 3s 3ms/step - loss: 0.1743 - val_loss: 0.1015\n",
            "Epoch 11/100\n",
            "813/813 [==============================] - 3s 3ms/step - loss: 0.1645 - val_loss: 0.0844\n",
            "Epoch 12/100\n",
            "813/813 [==============================] - 3s 3ms/step - loss: 0.1457 - val_loss: 0.0762\n",
            "Epoch 13/100\n",
            "813/813 [==============================] - 3s 3ms/step - loss: 0.1256 - val_loss: 0.0755\n",
            "Epoch 14/100\n",
            "813/813 [==============================] - 3s 3ms/step - loss: 0.1244 - val_loss: 0.0629\n",
            "Epoch 15/100\n",
            "813/813 [==============================] - 3s 3ms/step - loss: 0.1215 - val_loss: 0.0616\n",
            "Epoch 16/100\n",
            "813/813 [==============================] - 3s 3ms/step - loss: 0.1112 - val_loss: 0.0648\n",
            "Epoch 17/100\n",
            "813/813 [==============================] - 3s 3ms/step - loss: 0.1091 - val_loss: 0.0596\n",
            "Epoch 18/100\n",
            "813/813 [==============================] - 3s 3ms/step - loss: 0.1075 - val_loss: 0.0567\n",
            "Epoch 19/100\n",
            "813/813 [==============================] - 3s 3ms/step - loss: 0.1076 - val_loss: 0.0706\n",
            "Epoch 20/100\n",
            "813/813 [==============================] - 3s 3ms/step - loss: 0.1061 - val_loss: 0.0481\n",
            "Epoch 21/100\n",
            "813/813 [==============================] - 3s 3ms/step - loss: 0.1012 - val_loss: 0.0536\n",
            "Epoch 22/100\n",
            "813/813 [==============================] - 3s 3ms/step - loss: 0.0912 - val_loss: 0.0624\n",
            "Epoch 23/100\n",
            "813/813 [==============================] - 3s 3ms/step - loss: 0.0955 - val_loss: 0.0433\n",
            "Epoch 24/100\n",
            "813/813 [==============================] - 3s 3ms/step - loss: 0.0887 - val_loss: 0.0564\n",
            "Epoch 25/100\n",
            "813/813 [==============================] - 3s 3ms/step - loss: 0.0816 - val_loss: 0.0512\n",
            "Epoch 26/100\n",
            "813/813 [==============================] - 3s 3ms/step - loss: 0.0880 - val_loss: 0.0426\n",
            "Epoch 27/100\n",
            "813/813 [==============================] - 3s 3ms/step - loss: 0.0833 - val_loss: 0.0474\n",
            "Epoch 28/100\n",
            "813/813 [==============================] - 3s 3ms/step - loss: 0.0801 - val_loss: 0.0493\n",
            "Epoch 29/100\n",
            "813/813 [==============================] - 3s 3ms/step - loss: 0.0855 - val_loss: 0.0397\n",
            "Epoch 30/100\n",
            "813/813 [==============================] - 3s 3ms/step - loss: 0.0757 - val_loss: 0.0411\n",
            "Epoch 31/100\n",
            "813/813 [==============================] - 3s 3ms/step - loss: 0.0913 - val_loss: 0.0465\n",
            "Epoch 32/100\n",
            "813/813 [==============================] - 3s 3ms/step - loss: 0.0687 - val_loss: 0.0434\n",
            "Epoch 33/100\n",
            "813/813 [==============================] - 3s 3ms/step - loss: 0.0704 - val_loss: 0.0482\n",
            "Epoch 34/100\n",
            "813/813 [==============================] - 3s 3ms/step - loss: 0.0700 - val_loss: 0.0417\n",
            "Epoch 35/100\n",
            "813/813 [==============================] - 3s 3ms/step - loss: 0.0721 - val_loss: 0.0505\n",
            "Epoch 36/100\n",
            "813/813 [==============================] - 3s 3ms/step - loss: 0.0700 - val_loss: 0.0484\n",
            "Epoch 37/100\n",
            "813/813 [==============================] - 3s 3ms/step - loss: 0.0729 - val_loss: 0.0505\n",
            "Epoch 38/100\n",
            "813/813 [==============================] - 3s 3ms/step - loss: 0.0714 - val_loss: 0.0582\n",
            "Epoch 39/100\n",
            "813/813 [==============================] - 3s 3ms/step - loss: 0.0611 - val_loss: 0.0437\n"
          ],
          "name": "stdout"
        }
      ]
    },
    {
      "cell_type": "code",
      "metadata": {
        "id": "6s5kwd_qNGBp",
        "colab": {
          "base_uri": "https://localhost:8080/",
          "height": 324
        },
        "outputId": "2076759d-9e47-4ba2-c25e-2060435b7d9f"
      },
      "source": [
        "# Seeing learning curve \n",
        "pd.DataFrame(history.history).plot(figsize=(8, 5))\n",
        "plt.grid(True)\n",
        "plt.gca().set_ylim(0, 1)\n",
        "plt.show()"
      ],
      "execution_count": 28,
      "outputs": [
        {
          "output_type": "display_data",
          "data": {
            "image/png": "[encoded data removed]",
            "text/plain": [
              "<Figure size 576x360 with 1 Axes>"
            ]
          },
          "metadata": {
            "tags": [],
            "needs_background": "light"
          }
        }
      ]
    },
    {
      "cell_type": "code",
      "metadata": {
        "colab": {
          "base_uri": "https://localhost:8080/"
        },
        "id": "MuGbHxy2N5fg",
        "outputId": "7560b6e3-782a-4204-84cf-1b8c0f1c1878"
      },
      "source": [
        "# Evaluating the model \n",
        "model.evaluate(X_test04, y_test04)"
      ],
      "execution_count": 30,
      "outputs": [
        {
          "output_type": "stream",
          "text": [
            "161/161 [==============================] - 0s 1ms/step - loss: 0.0440\n"
          ],
          "name": "stdout"
        },
        {
          "output_type": "execute_result",
          "data": {
            "text/plain": [
              "0.043982960283756256"
            ]
          },
          "metadata": {
            "tags": []
          },
          "execution_count": 30
        }
      ]
    },
    {
      "cell_type": "markdown",
      "metadata": {
        "id": "b_MYn-z0N_DJ"
      },
      "source": [
        "#### Conclusion\n",
        "Dropout turned out to be more efficient in improving the model's performance in this case as compared to batch normalization."
      ]
    },
    {
      "cell_type": "code",
      "metadata": {
        "id": "tXhk1COvOU8R"
      },
      "source": [
        ""
      ],
      "execution_count": null,
      "outputs": []
    }
  ]
}