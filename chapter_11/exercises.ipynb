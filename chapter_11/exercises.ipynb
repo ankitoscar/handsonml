{
  "nbformat": 4,
  "nbformat_minor": 0,
  "metadata": {
    "colab": {
      "name": "Untitled2.ipynb",
      "provenance": [],
      "collapsed_sections": [],
      "toc_visible": true,
      "authorship_tag": "ABX9TyO9UgtiF2sbUmFsHXvAV1At",
      "include_colab_link": true
    },
    "kernelspec": {
      "name": "python3",
      "display_name": "Python 3"
    },
    "language_info": {
      "name": "python"
    }
  },
  "cells": [
    {
      "cell_type": "markdown",
      "metadata": {
        "id": "view-in-github",
        "colab_type": "text"
      },
      "source": [
        "<a href=\"https://colab.research.google.com/github/ankitoscar/handsonml/blob/main/chapter_11/exercises.ipynb\" target=\"_parent\"><img src=\"https://colab.research.google.com/assets/colab-badge.svg\" alt=\"Open In Colab\"/></a>"
      ]
    },
    {
      "cell_type": "markdown",
      "metadata": {
        "id": "TcmAYwyB8T4V"
      },
      "source": [
        "## Training Deep Neural Networks using Keras\n",
        "This chapter involves different training, intitialization and normalization strategies used for enhancing the performance of a neural network in keras. "
      ]
    },
    {
      "cell_type": "markdown",
      "metadata": {
        "id": "IPQHBCy-9Q3L"
      },
      "source": [
        "## Exercises\n",
        "\n",
        "### Deep Learning"
      ]
    },
    {
      "cell_type": "markdown",
      "metadata": {
        "id": "kglGvw809gCm"
      },
      "source": [
        "#### Build a DNN with five hidden layers of 100 neurons each, He initialization, and the ELU activation function."
      ]
    },
    {
      "cell_type": "code",
      "metadata": {
        "id": "62Yemcsn9tet"
      },
      "source": [
        "#  importing essential libraries \n",
        "import tensorflow as tf \n",
        "from tensorflow import keras\n",
        "import numpy as np \n",
        "import pandas as pd \n",
        "import matplotlib.pyplot as plt"
      ],
      "execution_count": 1,
      "outputs": []
    },
    {
      "cell_type": "code",
      "metadata": {
        "colab": {
          "base_uri": "https://localhost:8080/"
        },
        "id": "m3q3woXF97JG",
        "outputId": "418a8861-fcb7-4ac8-9dad-473bb14f7be3"
      },
      "source": [
        "# Loading the MNIST digits dataset \n",
        "from keras.datasets import mnist \n",
        "(X_train, y_train), (X_test, y_test) = mnist.load_data()"
      ],
      "execution_count": 2,
      "outputs": [
        {
          "output_type": "stream",
          "text": [
            "Downloading data from https://storage.googleapis.com/tensorflow/tf-keras-datasets/mnist.npz\n",
            "11493376/11490434 [==============================] - 0s 0us/step\n"
          ],
          "name": "stdout"
        }
      ]
    },
    {
      "cell_type": "code",
      "metadata": {
        "colab": {
          "base_uri": "https://localhost:8080/"
        },
        "id": "sAZemaTj-xAY",
        "outputId": "cbcd8302-e2e3-4d8c-feba-4764e8eae524"
      },
      "source": [
        "# Seeing shape of the dataset \n",
        "print(X_train.shape)\n",
        "print(y_train.shape)\n",
        "print(X_test.shape)\n",
        "print(y_test.shape)"
      ],
      "execution_count": 3,
      "outputs": [
        {
          "output_type": "stream",
          "text": [
            "(60000, 28, 28)\n",
            "(60000,)\n",
            "(10000, 28, 28)\n",
            "(10000,)\n"
          ],
          "name": "stdout"
        }
      ]
    },
    {
      "cell_type": "code",
      "metadata": {
        "colab": {
          "base_uri": "https://localhost:8080/",
          "height": 761
        },
        "id": "8cnXHzYz-9su",
        "outputId": "f7bb07d9-a4bb-45ca-baa4-f6be8738afc1"
      },
      "source": [
        "# Printing first 10 images in the training dataset \n",
        "for image in X_train[:3]:\n",
        "  plt.figure()\n",
        "  plt.imshow(image)\n",
        "  plt.show()"
      ],
      "execution_count": 4,
      "outputs": [
        {
          "output_type": "display_data",
          "data": {
            "image/png": "[encoded data removed]",
            "text/plain": [
              "<Figure size 432x288 with 1 Axes>"
            ]
          },
          "metadata": {
            "tags": [],
            "needs_background": "light"
          }
        },
        {
          "output_type": "display_data",
          "data": {
            "image/png": "[encoded data removed]",
            "text/plain": [
              "<Figure size 432x288 with 1 Axes>"
            ]
          },
          "metadata": {
            "tags": [],
            "needs_background": "light"
          }
        },
        {
          "output_type": "display_data",
          "data": {
            "image/png": "[encoded data removed]",
            "text/plain": [
              "<Figure size 432x288 with 1 Axes>"
            ]
          },
          "metadata": {
            "tags": [],
            "needs_background": "light"
          }
        }
      ]
    },
    {
      "cell_type": "code",
      "metadata": {
        "colab": {
          "base_uri": "https://localhost:8080/"
        },
        "id": "srPdJlWv_ng8",
        "outputId": "ed29085c-88d4-4959-d33f-8642ee5be173"
      },
      "source": [
        "# Seeing the first 5 elements of the training dataset\n",
        "X_train[:5]"
      ],
      "execution_count": 5,
      "outputs": [
        {
          "output_type": "execute_result",
          "data": {
            "text/plain": [
              "array([[[0, 0, 0, ..., 0, 0, 0],\n",
              "        [0, 0, 0, ..., 0, 0, 0],\n",
              "        [0, 0, 0, ..., 0, 0, 0],\n",
              "        ...,\n",
              "        [0, 0, 0, ..., 0, 0, 0],\n",
              "        [0, 0, 0, ..., 0, 0, 0],\n",
              "        [0, 0, 0, ..., 0, 0, 0]],\n",
              "\n",
              "       [[0, 0, 0, ..., 0, 0, 0],\n",
              "        [0, 0, 0, ..., 0, 0, 0],\n",
              "        [0, 0, 0, ..., 0, 0, 0],\n",
              "        ...,\n",
              "        [0, 0, 0, ..., 0, 0, 0],\n",
              "        [0, 0, 0, ..., 0, 0, 0],\n",
              "        [0, 0, 0, ..., 0, 0, 0]],\n",
              "\n",
              "       [[0, 0, 0, ..., 0, 0, 0],\n",
              "        [0, 0, 0, ..., 0, 0, 0],\n",
              "        [0, 0, 0, ..., 0, 0, 0],\n",
              "        ...,\n",
              "        [0, 0, 0, ..., 0, 0, 0],\n",
              "        [0, 0, 0, ..., 0, 0, 0],\n",
              "        [0, 0, 0, ..., 0, 0, 0]],\n",
              "\n",
              "       [[0, 0, 0, ..., 0, 0, 0],\n",
              "        [0, 0, 0, ..., 0, 0, 0],\n",
              "        [0, 0, 0, ..., 0, 0, 0],\n",
              "        ...,\n",
              "        [0, 0, 0, ..., 0, 0, 0],\n",
              "        [0, 0, 0, ..., 0, 0, 0],\n",
              "        [0, 0, 0, ..., 0, 0, 0]],\n",
              "\n",
              "       [[0, 0, 0, ..., 0, 0, 0],\n",
              "        [0, 0, 0, ..., 0, 0, 0],\n",
              "        [0, 0, 0, ..., 0, 0, 0],\n",
              "        ...,\n",
              "        [0, 0, 0, ..., 0, 0, 0],\n",
              "        [0, 0, 0, ..., 0, 0, 0],\n",
              "        [0, 0, 0, ..., 0, 0, 0]]], dtype=uint8)"
            ]
          },
          "metadata": {
            "tags": []
          },
          "execution_count": 5
        }
      ]
    },
    {
      "cell_type": "code",
      "metadata": {
        "colab": {
          "base_uri": "https://localhost:8080/"
        },
        "id": "HdiTydAw_5Ru",
        "outputId": "e89397a2-0e4a-4444-b1c7-739bff3d1742"
      },
      "source": [
        "y_train[:5]"
      ],
      "execution_count": 6,
      "outputs": [
        {
          "output_type": "execute_result",
          "data": {
            "text/plain": [
              "array([5, 0, 4, 1, 9], dtype=uint8)"
            ]
          },
          "metadata": {
            "tags": []
          },
          "execution_count": 6
        }
      ]
    },
    {
      "cell_type": "markdown",
      "metadata": {
        "id": "XAOK2AOnAMlp"
      },
      "source": [
        "The DNN which we are going to make is having 5 layers, with 100 neurons each, He initialization and ELU activation function."
      ]
    },
    {
      "cell_type": "code",
      "metadata": {
        "colab": {
          "base_uri": "https://localhost:8080/"
        },
        "id": "sW2rjD3LAomG",
        "outputId": "42dd66fa-8db9-408b-82a5-975a68fec7ee"
      },
      "source": [
        "# Making the network architecture\n",
        "model = keras.models.Sequential([\n",
        "              keras.layers.Flatten(input_shape=[28,28]),  \n",
        "              keras.layers.Dense(100, activation='elu', kernel_initializer='he_normal'),\n",
        "              keras.layers.Dense(100, activation='elu', kernel_initializer='he_normal'),\n",
        "              keras.layers.Dense(100, activation='elu', kernel_initializer='he_normal'),\n",
        "              keras.layers.Dense(100, activation='elu', kernel_initializer='he_normal'),\n",
        "              keras.layers.Dense(100, activation='elu', kernel_initializer='he_normal'),\n",
        "              keras.layers.Dense(5, activation='softmax')\n",
        "])\n",
        "\n",
        "model.summary()"
      ],
      "execution_count": 7,
      "outputs": [
        {
          "output_type": "stream",
          "text": [
            "Model: \"sequential\"\n",
            "_________________________________________________________________\n",
            "Layer (type)                 Output Shape              Param #   \n",
            "=================================================================\n",
            "flatten (Flatten)            (None, 784)               0         \n",
            "_________________________________________________________________\n",
            "dense (Dense)                (None, 100)               78500     \n",
            "_________________________________________________________________\n",
            "dense_1 (Dense)              (None, 100)               10100     \n",
            "_________________________________________________________________\n",
            "dense_2 (Dense)              (None, 100)               10100     \n",
            "_________________________________________________________________\n",
            "dense_3 (Dense)              (None, 100)               10100     \n",
            "_________________________________________________________________\n",
            "dense_4 (Dense)              (None, 100)               10100     \n",
            "_________________________________________________________________\n",
            "dense_5 (Dense)              (None, 5)                 505       \n",
            "=================================================================\n",
            "Total params: 119,405\n",
            "Trainable params: 119,405\n",
            "Non-trainable params: 0\n",
            "_________________________________________________________________\n"
          ],
          "name": "stdout"
        }
      ]
    },
    {
      "cell_type": "code",
      "metadata": {
        "id": "TUA7KzodA71P"
      },
      "source": [
        "# Seperating the dataset between 0-4 and 5-9 \n",
        "train04_filter = np.isin(y_train, [0, 1, 2, 3, 4])\n",
        "train59_filter = np.isin(y_train, [5, 6, 7, 8, 9])\n",
        "\n",
        "test04_filter = np.isin(y_test, [0, 1, 2, 3, 4])\n",
        "test59_filter = np.isin(y_test, [5, 6, 7, 8, 9])"
      ],
      "execution_count": 8,
      "outputs": []
    },
    {
      "cell_type": "code",
      "metadata": {
        "id": "rkq9FKsOD-lo"
      },
      "source": [
        "# Splitting the data \n",
        "X_train04, y_train04, X_test04, y_test04 =  X_train[train04_filter], y_train[train04_filter], X_test[test04_filter], y_test[test04_filter]\n",
        "X_train59, y_train59, X_test59, y_test59 =  X_train[train59_filter], y_train[train59_filter], X_test[test59_filter], y_test[test59_filter]\n"
      ],
      "execution_count": 9,
      "outputs": []
    },
    {
      "cell_type": "code",
      "metadata": {
        "colab": {
          "base_uri": "https://localhost:8080/"
        },
        "id": "MaWlMbUVGHcY",
        "outputId": "d7f9c945-5755-4346-de90-e81bfb67aa5a"
      },
      "source": [
        "print(X_train.shape)\n",
        "print(X_train04.shape)\n",
        "print(X_train59.shape)"
      ],
      "execution_count": 10,
      "outputs": [
        {
          "output_type": "stream",
          "text": [
            "(60000, 28, 28)\n",
            "(30596, 28, 28)\n",
            "(29404, 28, 28)\n"
          ],
          "name": "stdout"
        }
      ]
    },
    {
      "cell_type": "code",
      "metadata": {
        "colab": {
          "base_uri": "https://localhost:8080/",
          "height": 265
        },
        "id": "Q-RvKTKBEhLL",
        "outputId": "7d78b9cf-fbe1-4e5e-a458-dc862c5fbd2a"
      },
      "source": [
        "# Seeing a sample from each dataset \n",
        "plt.figure()\n",
        "plt.imshow(X_train04[0])\n",
        "plt.show()"
      ],
      "execution_count": 11,
      "outputs": [
        {
          "output_type": "display_data",
          "data": {
            "image/png": "[encoded data removed]",
            "text/plain": [
              "<Figure size 432x288 with 1 Axes>"
            ]
          },
          "metadata": {
            "tags": [],
            "needs_background": "light"
          }
        }
      ]
    },
    {
      "cell_type": "code",
      "metadata": {
        "colab": {
          "base_uri": "https://localhost:8080/",
          "height": 265
        },
        "id": "xq2oikmWEvPl",
        "outputId": "34d20fad-3b85-4852-d59a-8204f0a8d9aa"
      },
      "source": [
        "plt.figure()\n",
        "plt.imshow(X_train59[0])\n",
        "plt.show()"
      ],
      "execution_count": 12,
      "outputs": [
        {
          "output_type": "display_data",
          "data": {
            "image/png": "[encoded data removed]",
            "text/plain": [
              "<Figure size 432x288 with 1 Axes>"
            ]
          },
          "metadata": {
            "tags": [],
            "needs_background": "light"
          }
        }
      ]
    },
    {
      "cell_type": "code",
      "metadata": {
        "colab": {
          "base_uri": "https://localhost:8080/"
        },
        "id": "Y1g34TgVE12t",
        "outputId": "39fbf83a-8dd1-4334-edda-43838341ee9f"
      },
      "source": [
        "# Training the model \n",
        "\n",
        "# Making callbacks \n",
        "checkpoints_cb = keras.callbacks.ModelCheckpoint('my_model.h5',save_best_only=True)\n",
        "early_stopping_cb = keras.callbacks.EarlyStopping(patience=10)\n",
        "\n",
        "# Compiling the model \n",
        "model.compile(loss='sparse_categorical_crossentropy', optimizer='Adam')\n",
        "\n",
        "# Training the model \n",
        "history = model.fit(X_train04, y_train04, epochs=100,\n",
        "                    validation_split=0.15, callbacks = [checkpoints_cb, early_stopping_cb])"
      ],
      "execution_count": 13,
      "outputs": [
        {
          "output_type": "stream",
          "text": [
            "Epoch 1/100\n",
            "813/813 [==============================] - 4s 4ms/step - loss: 5.0551 - val_loss: 0.3620\n",
            "Epoch 2/100\n",
            "813/813 [==============================] - 3s 3ms/step - loss: 0.3343 - val_loss: 0.1584\n",
            "Epoch 3/100\n",
            "813/813 [==============================] - 3s 3ms/step - loss: 0.1829 - val_loss: 0.1481\n",
            "Epoch 4/100\n",
            "813/813 [==============================] - 3s 3ms/step - loss: 0.1113 - val_loss: 0.1415\n",
            "Epoch 5/100\n",
            "813/813 [==============================] - 3s 3ms/step - loss: 0.0885 - val_loss: 0.1267\n",
            "Epoch 6/100\n",
            "813/813 [==============================] - 3s 3ms/step - loss: 0.0863 - val_loss: 0.1083\n",
            "Epoch 7/100\n",
            "813/813 [==============================] - 3s 3ms/step - loss: 0.0666 - val_loss: 0.0664\n",
            "Epoch 8/100\n",
            "813/813 [==============================] - 3s 3ms/step - loss: 0.0685 - val_loss: 0.0782\n",
            "Epoch 9/100\n",
            "813/813 [==============================] - 3s 3ms/step - loss: 0.0422 - val_loss: 0.0638\n",
            "Epoch 10/100\n",
            "813/813 [==============================] - 3s 3ms/step - loss: 0.0433 - val_loss: 0.1504\n",
            "Epoch 11/100\n",
            "813/813 [==============================] - 3s 3ms/step - loss: 0.0471 - val_loss: 0.0613\n",
            "Epoch 12/100\n",
            "813/813 [==============================] - 3s 3ms/step - loss: 0.0301 - val_loss: 0.0491\n",
            "Epoch 13/100\n",
            "813/813 [==============================] - 3s 3ms/step - loss: 0.0340 - val_loss: 0.1745\n",
            "Epoch 14/100\n",
            "813/813 [==============================] - 3s 3ms/step - loss: 0.0459 - val_loss: 0.0600\n",
            "Epoch 15/100\n",
            "813/813 [==============================] - 3s 3ms/step - loss: 0.0180 - val_loss: 0.0740\n",
            "Epoch 16/100\n",
            "813/813 [==============================] - 3s 3ms/step - loss: 0.0293 - val_loss: 0.0598\n",
            "Epoch 17/100\n",
            "813/813 [==============================] - 3s 3ms/step - loss: 0.0236 - val_loss: 0.0416\n",
            "Epoch 18/100\n",
            "813/813 [==============================] - 3s 3ms/step - loss: 0.0178 - val_loss: 0.0448\n",
            "Epoch 19/100\n",
            "813/813 [==============================] - 3s 3ms/step - loss: 0.0172 - val_loss: 0.0481\n",
            "Epoch 20/100\n",
            "813/813 [==============================] - 3s 3ms/step - loss: 0.0129 - val_loss: 0.0608\n",
            "Epoch 21/100\n",
            "813/813 [==============================] - 3s 3ms/step - loss: 0.0122 - val_loss: 0.0342\n",
            "Epoch 22/100\n",
            "813/813 [==============================] - 3s 3ms/step - loss: 0.0130 - val_loss: 0.0469\n",
            "Epoch 23/100\n",
            "813/813 [==============================] - 3s 3ms/step - loss: 0.0078 - val_loss: 0.0441\n",
            "Epoch 24/100\n",
            "813/813 [==============================] - 3s 3ms/step - loss: 0.0206 - val_loss: 0.0506\n",
            "Epoch 25/100\n",
            "813/813 [==============================] - 3s 3ms/step - loss: 0.0333 - val_loss: 0.0533\n",
            "Epoch 26/100\n",
            "813/813 [==============================] - 3s 3ms/step - loss: 0.0112 - val_loss: 0.0584\n",
            "Epoch 27/100\n",
            "813/813 [==============================] - 3s 3ms/step - loss: 0.0081 - val_loss: 0.0452\n",
            "Epoch 28/100\n",
            "813/813 [==============================] - 3s 3ms/step - loss: 0.0072 - val_loss: 0.0521\n",
            "Epoch 29/100\n",
            "813/813 [==============================] - 3s 3ms/step - loss: 0.0124 - val_loss: 0.0743\n",
            "Epoch 30/100\n",
            "813/813 [==============================] - 3s 3ms/step - loss: 0.0133 - val_loss: 0.0987\n",
            "Epoch 31/100\n",
            "813/813 [==============================] - 3s 3ms/step - loss: 0.0175 - val_loss: 0.0612\n"
          ],
          "name": "stdout"
        }
      ]
    },
    {
      "cell_type": "code",
      "metadata": {
        "colab": {
          "base_uri": "https://localhost:8080/",
          "height": 324
        },
        "id": "s6BCF23JGnyP",
        "outputId": "874b3b26-0944-4a80-9c8c-c7b2d0bc22e6"
      },
      "source": [
        "# Seeing learning curve \n",
        "pd.DataFrame(history.history).plot(figsize=(8, 5))\n",
        "plt.grid(True)\n",
        "plt.gca().set_ylim(0, 1)\n",
        "plt.show()"
      ],
      "execution_count": 14,
      "outputs": [
        {
          "output_type": "display_data",
          "data": {
            "image/png": "[encoded data removed]",
            "text/plain": [
              "<Figure size 576x360 with 1 Axes>"
            ]
          },
          "metadata": {
            "tags": [],
            "needs_background": "light"
          }
        }
      ]
    },
    {
      "cell_type": "code",
      "metadata": {
        "colab": {
          "base_uri": "https://localhost:8080/"
        },
        "id": "_r96W1BfInWx",
        "outputId": "d5bccc86-6e0f-4365-fecd-7ae760b29a1a"
      },
      "source": [
        "# Evaluating the model \n",
        "model.evaluate(X_test04, y_test04)"
      ],
      "execution_count": 15,
      "outputs": [
        {
          "output_type": "stream",
          "text": [
            "161/161 [==============================] - 0s 1ms/step - loss: 0.0451\n"
          ],
          "name": "stdout"
        },
        {
          "output_type": "execute_result",
          "data": {
            "text/plain": [
              "0.04511374607682228"
            ]
          },
          "metadata": {
            "tags": []
          },
          "execution_count": 15
        }
      ]
    },
    {
      "cell_type": "code",
      "metadata": {
        "colab": {
          "base_uri": "https://localhost:8080/"
        },
        "id": "MSJHR3WLIufu",
        "outputId": "ab660496-88a5-4b32-e7f1-53b586125b6d"
      },
      "source": [
        "# Adding batch normalization and repeating the process \n",
        "\n",
        "# Making the network architecture\n",
        "model = keras.models.Sequential([\n",
        "              keras.layers.Flatten(input_shape=[28,28]),\n",
        "              keras.layers.BatchNormalization(),  \n",
        "              keras.layers.Dense(100, activation='elu', kernel_initializer='he_normal'),\n",
        "              keras.layers.BatchNormalization(),\n",
        "              keras.layers.Dense(100, activation='elu', kernel_initializer='he_normal'),\n",
        "              keras.layers.BatchNormalization(),\n",
        "              keras.layers.Dense(100, activation='elu', kernel_initializer='he_normal'),\n",
        "              keras.layers.BatchNormalization(),\n",
        "              keras.layers.Dense(100, activation='elu', kernel_initializer='he_normal'),\n",
        "              keras.layers.BatchNormalization(),\n",
        "              keras.layers.Dense(100, activation='elu', kernel_initializer='he_normal'),\n",
        "              keras.layers.Dense(5, activation='softmax')\n",
        "])\n",
        "\n",
        "model.summary()"
      ],
      "execution_count": 16,
      "outputs": [
        {
          "output_type": "stream",
          "text": [
            "Model: \"sequential_1\"\n",
            "_________________________________________________________________\n",
            "Layer (type)                 Output Shape              Param #   \n",
            "=================================================================\n",
            "flatten_1 (Flatten)          (None, 784)               0         \n",
            "_________________________________________________________________\n",
            "batch_normalization (BatchNo (None, 784)               3136      \n",
            "_________________________________________________________________\n",
            "dense_6 (Dense)              (None, 100)               78500     \n",
            "_________________________________________________________________\n",
            "batch_normalization_1 (Batch (None, 100)               400       \n",
            "_________________________________________________________________\n",
            "dense_7 (Dense)              (None, 100)               10100     \n",
            "_________________________________________________________________\n",
            "batch_normalization_2 (Batch (None, 100)               400       \n",
            "_________________________________________________________________\n",
            "dense_8 (Dense)              (None, 100)               10100     \n",
            "_________________________________________________________________\n",
            "batch_normalization_3 (Batch (None, 100)               400       \n",
            "_________________________________________________________________\n",
            "dense_9 (Dense)              (None, 100)               10100     \n",
            "_________________________________________________________________\n",
            "batch_normalization_4 (Batch (None, 100)               400       \n",
            "_________________________________________________________________\n",
            "dense_10 (Dense)             (None, 100)               10100     \n",
            "_________________________________________________________________\n",
            "dense_11 (Dense)             (None, 5)                 505       \n",
            "=================================================================\n",
            "Total params: 124,141\n",
            "Trainable params: 121,773\n",
            "Non-trainable params: 2,368\n",
            "_________________________________________________________________\n"
          ],
          "name": "stdout"
        }
      ]
    },
    {
      "cell_type": "code",
      "metadata": {
        "colab": {
          "base_uri": "https://localhost:8080/"
        },
        "id": "jOh9z7KmJ8OJ",
        "outputId": "13373942-19c6-4f28-ad9d-819a7de911d4"
      },
      "source": [
        "# Making callbacks \n",
        "checkpoints_cb = keras.callbacks.ModelCheckpoint('my_model.h5',save_best_only=True)\n",
        "early_stopping_cb = keras.callbacks.EarlyStopping(patience=10)\n",
        "\n",
        "# Compiling the model \n",
        "model.compile(loss='sparse_categorical_crossentropy', optimizer='Adam')\n",
        "\n",
        "# Training the model \n",
        "history = model.fit(X_train04, y_train04, epochs=100,\n",
        "                    validation_split=0.15, callbacks = [checkpoints_cb, early_stopping_cb])"
      ],
      "execution_count": 17,
      "outputs": [
        {
          "output_type": "stream",
          "text": [
            "Epoch 1/100\n",
            "813/813 [==============================] - 6s 5ms/step - loss: 0.2277 - val_loss: 0.1192\n",
            "Epoch 2/100\n",
            "813/813 [==============================] - 4s 5ms/step - loss: 0.0781 - val_loss: 0.0821\n",
            "Epoch 3/100\n",
            "813/813 [==============================] - 4s 5ms/step - loss: 0.0478 - val_loss: 0.1301\n",
            "Epoch 4/100\n",
            "813/813 [==============================] - 4s 5ms/step - loss: 0.0366 - val_loss: 0.1470\n",
            "Epoch 5/100\n",
            "813/813 [==============================] - 4s 5ms/step - loss: 0.0342 - val_loss: 0.1663\n",
            "Epoch 6/100\n",
            "813/813 [==============================] - 4s 5ms/step - loss: 0.0343 - val_loss: 0.2013\n",
            "Epoch 7/100\n",
            "813/813 [==============================] - 4s 5ms/step - loss: 0.0286 - val_loss: 0.1919\n",
            "Epoch 8/100\n",
            "813/813 [==============================] - 4s 5ms/step - loss: 0.0265 - val_loss: 0.1090\n",
            "Epoch 9/100\n",
            "813/813 [==============================] - 4s 5ms/step - loss: 0.0246 - val_loss: 0.1416\n",
            "Epoch 10/100\n",
            "813/813 [==============================] - 4s 5ms/step - loss: 0.0177 - val_loss: 0.1816\n",
            "Epoch 11/100\n",
            "813/813 [==============================] - 4s 5ms/step - loss: 0.0207 - val_loss: 0.1732\n",
            "Epoch 12/100\n",
            "813/813 [==============================] - 4s 5ms/step - loss: 0.0209 - val_loss: 0.1328\n"
          ],
          "name": "stdout"
        }
      ]
    },
    {
      "cell_type": "code",
      "metadata": {
        "colab": {
          "base_uri": "https://localhost:8080/",
          "height": 324
        },
        "id": "UgO9SjX7KEyV",
        "outputId": "db3df182-caf0-45a5-f48b-556eedd6ddfb"
      },
      "source": [
        "# Seeing learning curve \n",
        "pd.DataFrame(history.history).plot(figsize=(8, 5))\n",
        "plt.grid(True)\n",
        "plt.gca().set_ylim(0, 1)\n",
        "plt.show()"
      ],
      "execution_count": 18,
      "outputs": [
        {
          "output_type": "display_data",
          "data": {
            "image/png": "[encoded data removed]",
            "text/plain": [
              "<Figure size 576x360 with 1 Axes>"
            ]
          },
          "metadata": {
            "tags": [],
            "needs_background": "light"
          }
        }
      ]
    },
    {
      "cell_type": "code",
      "metadata": {
        "colab": {
          "base_uri": "https://localhost:8080/"
        },
        "id": "Z9uzfFqhKYOJ",
        "outputId": "1a7965cd-09e3-4304-f459-d45bb8bfd8e8"
      },
      "source": [
        "# Evaluating model on test data \n",
        "model.evaluate(X_test04, y_test04)"
      ],
      "execution_count": 19,
      "outputs": [
        {
          "output_type": "stream",
          "text": [
            "161/161 [==============================] - 0s 2ms/step - loss: 0.6353\n"
          ],
          "name": "stdout"
        },
        {
          "output_type": "execute_result",
          "data": {
            "text/plain": [
              "0.6353304982185364"
            ]
          },
          "metadata": {
            "tags": []
          },
          "execution_count": 19
        }
      ]
    },
    {
      "cell_type": "markdown",
      "metadata": {
        "id": "oB9QlzoMKxYG"
      },
      "source": [
        "The model has in turn performed worse than the previous iteration, it has most probably overfitted."
      ]
    },
    {
      "cell_type": "code",
      "metadata": {
        "colab": {
          "base_uri": "https://localhost:8080/"
        },
        "id": "0SuO_0WELBOA",
        "outputId": "c40dc3ee-2c3a-47b2-c4f4-863fdbc34dc3"
      },
      "source": [
        "# Creating a new model with dropout before every layer\n",
        "\n",
        "# Making the network architecture\n",
        "model = keras.models.Sequential([\n",
        "              keras.layers.Flatten(input_shape=[28,28]),\n",
        "              keras.layers.Dropout(rate=0.2),  \n",
        "              keras.layers.Dense(100, activation='elu', kernel_initializer='he_normal'),\n",
        "              keras.layers.Dropout(rate=0.2),\n",
        "              keras.layers.Dense(100, activation='elu', kernel_initializer='he_normal'),\n",
        "              keras.layers.Dropout(rate=0.2),\n",
        "              keras.layers.Dense(100, activation='elu', kernel_initializer='he_normal'),\n",
        "              keras.layers.Dropout(rate=0.2),\n",
        "              keras.layers.Dense(100, activation='elu', kernel_initializer='he_normal'),\n",
        "              keras.layers.Dropout(rate=0.2),\n",
        "              keras.layers.Dense(100, activation='elu', kernel_initializer='he_normal'),\n",
        "              keras.layers.Dense(5, activation='softmax')\n",
        "])\n",
        "\n",
        "model.summary()"
      ],
      "execution_count": 20,
      "outputs": [
        {
          "output_type": "stream",
          "text": [
            "Model: \"sequential_2\"\n",
            "_________________________________________________________________\n",
            "Layer (type)                 Output Shape              Param #   \n",
            "=================================================================\n",
            "flatten_2 (Flatten)          (None, 784)               0         \n",
            "_________________________________________________________________\n",
            "dropout (Dropout)            (None, 784)               0         \n",
            "_________________________________________________________________\n",
            "dense_12 (Dense)             (None, 100)               78500     \n",
            "_________________________________________________________________\n",
            "dropout_1 (Dropout)          (None, 100)               0         \n",
            "_________________________________________________________________\n",
            "dense_13 (Dense)             (None, 100)               10100     \n",
            "_________________________________________________________________\n",
            "dropout_2 (Dropout)          (None, 100)               0         \n",
            "_________________________________________________________________\n",
            "dense_14 (Dense)             (None, 100)               10100     \n",
            "_________________________________________________________________\n",
            "dropout_3 (Dropout)          (None, 100)               0         \n",
            "_________________________________________________________________\n",
            "dense_15 (Dense)             (None, 100)               10100     \n",
            "_________________________________________________________________\n",
            "dropout_4 (Dropout)          (None, 100)               0         \n",
            "_________________________________________________________________\n",
            "dense_16 (Dense)             (None, 100)               10100     \n",
            "_________________________________________________________________\n",
            "dense_17 (Dense)             (None, 5)                 505       \n",
            "=================================================================\n",
            "Total params: 119,405\n",
            "Trainable params: 119,405\n",
            "Non-trainable params: 0\n",
            "_________________________________________________________________\n"
          ],
          "name": "stdout"
        }
      ]
    },
    {
      "cell_type": "code",
      "metadata": {
        "colab": {
          "base_uri": "https://localhost:8080/"
        },
        "id": "w7NK4b5-NAte",
        "outputId": "9e9a334e-d4af-4835-ceb1-9e67ea7fa7ec"
      },
      "source": [
        "# Making callbacks \n",
        "checkpoints_cb = keras.callbacks.ModelCheckpoint('my_model.h5',save_best_only=True)\n",
        "early_stopping_cb = keras.callbacks.EarlyStopping(patience=10)\n",
        "\n",
        "# Compiling the model \n",
        "model.compile(loss='sparse_categorical_crossentropy', optimizer='Adam')\n",
        "\n",
        "# Training the model \n",
        "history = model.fit(X_train04, y_train04, epochs=100,\n",
        "                    validation_split=0.15, callbacks = [checkpoints_cb, early_stopping_cb])"
      ],
      "execution_count": 21,
      "outputs": [
        {
          "output_type": "stream",
          "text": [
            "Epoch 1/100\n",
            "813/813 [==============================] - 4s 4ms/step - loss: 21.2944 - val_loss: 0.2690\n",
            "Epoch 2/100\n",
            "813/813 [==============================] - 3s 4ms/step - loss: 0.8081 - val_loss: 0.1699\n",
            "Epoch 3/100\n",
            "813/813 [==============================] - 3s 4ms/step - loss: 0.4301 - val_loss: 0.1377\n",
            "Epoch 4/100\n",
            "813/813 [==============================] - 3s 4ms/step - loss: 0.3447 - val_loss: 0.1108\n",
            "Epoch 5/100\n",
            "813/813 [==============================] - 3s 4ms/step - loss: 0.2679 - val_loss: 0.1137\n",
            "Epoch 6/100\n",
            "813/813 [==============================] - 3s 4ms/step - loss: 0.2426 - val_loss: 0.1016\n",
            "Epoch 7/100\n",
            "813/813 [==============================] - 3s 4ms/step - loss: 0.1960 - val_loss: 0.0919\n",
            "Epoch 8/100\n",
            "813/813 [==============================] - 3s 4ms/step - loss: 0.1895 - val_loss: 0.0742\n",
            "Epoch 9/100\n",
            "813/813 [==============================] - 3s 4ms/step - loss: 0.1738 - val_loss: 0.0677\n",
            "Epoch 10/100\n",
            "813/813 [==============================] - 3s 4ms/step - loss: 0.1481 - val_loss: 0.0889\n",
            "Epoch 11/100\n",
            "813/813 [==============================] - 3s 4ms/step - loss: 0.1300 - val_loss: 0.0641\n",
            "Epoch 12/100\n",
            "813/813 [==============================] - 3s 4ms/step - loss: 0.1236 - val_loss: 0.0602\n",
            "Epoch 13/100\n",
            "813/813 [==============================] - 3s 4ms/step - loss: 0.1128 - val_loss: 0.0943\n",
            "Epoch 14/100\n",
            "813/813 [==============================] - 3s 4ms/step - loss: 0.1110 - val_loss: 0.0559\n",
            "Epoch 15/100\n",
            "813/813 [==============================] - 3s 4ms/step - loss: 0.1139 - val_loss: 0.0652\n",
            "Epoch 16/100\n",
            "813/813 [==============================] - 3s 4ms/step - loss: 0.1056 - val_loss: 0.0549\n",
            "Epoch 17/100\n",
            "813/813 [==============================] - 3s 4ms/step - loss: 0.1003 - val_loss: 0.0580\n",
            "Epoch 18/100\n",
            "813/813 [==============================] - 3s 4ms/step - loss: 0.0899 - val_loss: 0.0515\n",
            "Epoch 19/100\n",
            "813/813 [==============================] - 3s 4ms/step - loss: 0.0833 - val_loss: 0.0546\n",
            "Epoch 20/100\n",
            "813/813 [==============================] - 3s 4ms/step - loss: 0.0919 - val_loss: 0.0506\n",
            "Epoch 21/100\n",
            "813/813 [==============================] - 3s 4ms/step - loss: 0.0830 - val_loss: 0.0475\n",
            "Epoch 22/100\n",
            "813/813 [==============================] - 3s 4ms/step - loss: 0.0829 - val_loss: 0.0438\n",
            "Epoch 23/100\n",
            "813/813 [==============================] - 3s 4ms/step - loss: 0.0828 - val_loss: 0.0409\n",
            "Epoch 24/100\n",
            "813/813 [==============================] - 3s 4ms/step - loss: 0.0836 - val_loss: 0.0461\n",
            "Epoch 25/100\n",
            "813/813 [==============================] - 3s 4ms/step - loss: 0.0847 - val_loss: 0.0494\n",
            "Epoch 26/100\n",
            "813/813 [==============================] - 3s 4ms/step - loss: 0.0672 - val_loss: 0.0360\n",
            "Epoch 27/100\n",
            "813/813 [==============================] - 3s 4ms/step - loss: 0.0727 - val_loss: 0.0437\n",
            "Epoch 28/100\n",
            "813/813 [==============================] - 3s 4ms/step - loss: 0.0694 - val_loss: 0.0452\n",
            "Epoch 29/100\n",
            "813/813 [==============================] - 3s 4ms/step - loss: 0.0656 - val_loss: 0.0399\n",
            "Epoch 30/100\n",
            "813/813 [==============================] - 3s 4ms/step - loss: 0.0607 - val_loss: 0.0376\n",
            "Epoch 31/100\n",
            "813/813 [==============================] - 3s 4ms/step - loss: 0.0648 - val_loss: 0.0412\n",
            "Epoch 32/100\n",
            "813/813 [==============================] - 3s 4ms/step - loss: 0.0622 - val_loss: 0.0364\n",
            "Epoch 33/100\n",
            "813/813 [==============================] - 3s 4ms/step - loss: 0.0660 - val_loss: 0.0453\n",
            "Epoch 34/100\n",
            "813/813 [==============================] - 3s 4ms/step - loss: 0.0633 - val_loss: 0.0395\n",
            "Epoch 35/100\n",
            "813/813 [==============================] - 3s 4ms/step - loss: 0.0599 - val_loss: 0.0383\n",
            "Epoch 36/100\n",
            "813/813 [==============================] - 3s 4ms/step - loss: 0.0513 - val_loss: 0.0422\n"
          ],
          "name": "stdout"
        }
      ]
    },
    {
      "cell_type": "code",
      "metadata": {
        "id": "6s5kwd_qNGBp",
        "colab": {
          "base_uri": "https://localhost:8080/",
          "height": 324
        },
        "outputId": "40f6cb36-c34a-4782-933a-8bce7cfc8b61"
      },
      "source": [
        "# Seeing learning curve \n",
        "pd.DataFrame(history.history).plot(figsize=(8, 5))\n",
        "plt.grid(True)\n",
        "plt.gca().set_ylim(0, 1)\n",
        "plt.show()"
      ],
      "execution_count": 22,
      "outputs": [
        {
          "output_type": "display_data",
          "data": {
            "image/png": "[encoded data removed]",
            "text/plain": [
              "<Figure size 576x360 with 1 Axes>"
            ]
          },
          "metadata": {
            "tags": [],
            "needs_background": "light"
          }
        }
      ]
    },
    {
      "cell_type": "code",
      "metadata": {
        "colab": {
          "base_uri": "https://localhost:8080/"
        },
        "id": "MuGbHxy2N5fg",
        "outputId": "86a322f9-5160-49c5-9ce4-d21f81708827"
      },
      "source": [
        "# Evaluating the model \n",
        "model.evaluate(X_test04, y_test04)"
      ],
      "execution_count": 23,
      "outputs": [
        {
          "output_type": "stream",
          "text": [
            "161/161 [==============================] - 0s 1ms/step - loss: 0.0404\n"
          ],
          "name": "stdout"
        },
        {
          "output_type": "execute_result",
          "data": {
            "text/plain": [
              "0.040377579629421234"
            ]
          },
          "metadata": {
            "tags": []
          },
          "execution_count": 23
        }
      ]
    },
    {
      "cell_type": "markdown",
      "metadata": {
        "id": "b_MYn-z0N_DJ"
      },
      "source": [
        "#### Conclusion\n",
        "Dropout turned out to be more efficient in improving the model's performance in this case as compared to batch normalization."
      ]
    },
    {
      "cell_type": "markdown",
      "metadata": {
        "id": "tXhk1COvOU8R"
      },
      "source": [
        "#### Create a new DNN reusing all the pretrained layers of the previous model, freeeze them, and replace the softmax output layer with a new one. Train this new DNN digits 5-9 and see the results."
      ]
    },
    {
      "cell_type": "code",
      "metadata": {
        "id": "pc-7E1k_8n_b",
        "colab": {
          "base_uri": "https://localhost:8080/"
        },
        "outputId": "a381a594-f10c-422e-d356-a14ea4ace2db"
      },
      "source": [
        "# Loading the pretrained model\n",
        "model_old = keras.models.load_model('my_model.h5')\n",
        "\n",
        "# Copying pretrained layers\n",
        "model_new = keras.models.Sequential(model_old.layers[:-1])\n",
        "model_new.add(keras.layers.Dense(5, activation='softmax'))\n",
        "\n",
        "# Cloning old model \n",
        "model_old_clone = keras.models.clone_model(model_old)\n",
        "model_old_clone.set_weights(model_old.get_weights())\n",
        "\n",
        "# Freezing the pretrained layers \n",
        "for layer in model_new.layers[:-1]:\n",
        "  layer.trainable = False\n",
        "\n",
        "# Compiling the new model and seeing its summary \n",
        "model_new.compile(loss='sparse_categorical_crossentropy', optimizer='Adam')\n",
        "model_new.summary()"
      ],
      "execution_count": 24,
      "outputs": [
        {
          "output_type": "stream",
          "text": [
            "Model: \"sequential_3\"\n",
            "_________________________________________________________________\n",
            "Layer (type)                 Output Shape              Param #   \n",
            "=================================================================\n",
            "flatten_2 (Flatten)          (None, 784)               0         \n",
            "_________________________________________________________________\n",
            "dropout (Dropout)            (None, 784)               0         \n",
            "_________________________________________________________________\n",
            "dense_12 (Dense)             (None, 100)               78500     \n",
            "_________________________________________________________________\n",
            "dropout_1 (Dropout)          (None, 100)               0         \n",
            "_________________________________________________________________\n",
            "dense_13 (Dense)             (None, 100)               10100     \n",
            "_________________________________________________________________\n",
            "dropout_2 (Dropout)          (None, 100)               0         \n",
            "_________________________________________________________________\n",
            "dense_14 (Dense)             (None, 100)               10100     \n",
            "_________________________________________________________________\n",
            "dropout_3 (Dropout)          (None, 100)               0         \n",
            "_________________________________________________________________\n",
            "dense_15 (Dense)             (None, 100)               10100     \n",
            "_________________________________________________________________\n",
            "dropout_4 (Dropout)          (None, 100)               0         \n",
            "_________________________________________________________________\n",
            "dense_16 (Dense)             (None, 100)               10100     \n",
            "_________________________________________________________________\n",
            "dense_18 (Dense)             (None, 5)                 505       \n",
            "=================================================================\n",
            "Total params: 119,405\n",
            "Trainable params: 505\n",
            "Non-trainable params: 118,900\n",
            "_________________________________________________________________\n"
          ],
          "name": "stdout"
        }
      ]
    },
    {
      "cell_type": "code",
      "metadata": {
        "id": "RKsi_I6YMOr1"
      },
      "source": [
        "# Subtracting 5 from the y_train59 \n",
        "y_train59 = y_train59 - 5"
      ],
      "execution_count": 25,
      "outputs": []
    },
    {
      "cell_type": "code",
      "metadata": {
        "id": "6ouiWy1v95pt",
        "colab": {
          "base_uri": "https://localhost:8080/"
        },
        "outputId": "98f837dc-2d77-4469-ad60-7738e73928e8"
      },
      "source": [
        "# Training the newly loaded model for classify digits 5-9\n",
        "\n",
        "# Callbacks\n",
        "checkpoints_cb = keras.callbacks.ModelCheckpoint('my_new_model.h5')\n",
        "early_stopping_cb = keras.callbacks.EarlyStopping(patience=100)\n",
        "\n",
        "# Training \n",
        "history = model_new.fit(X_train59, y_train59, epochs=100,\n",
        "                        validation_split=0.15, callbacks=[checkpoints_cb, early_stopping_cb])"
      ],
      "execution_count": 26,
      "outputs": [
        {
          "output_type": "stream",
          "text": [
            "Epoch 1/100\n",
            "782/782 [==============================] - 2s 3ms/step - loss: 6.0179 - val_loss: 1.2435\n",
            "Epoch 2/100\n",
            "782/782 [==============================] - 2s 2ms/step - loss: 1.4230 - val_loss: 1.2421\n",
            "Epoch 3/100\n",
            "782/782 [==============================] - 2s 2ms/step - loss: 1.3668 - val_loss: 1.2568\n",
            "Epoch 4/100\n",
            "782/782 [==============================] - 2s 2ms/step - loss: 1.3430 - val_loss: 1.2356\n",
            "Epoch 5/100\n",
            "782/782 [==============================] - 2s 2ms/step - loss: 1.3386 - val_loss: 1.2791\n",
            "Epoch 6/100\n",
            "782/782 [==============================] - 2s 2ms/step - loss: 1.3288 - val_loss: 1.2453\n",
            "Epoch 7/100\n",
            "782/782 [==============================] - 2s 2ms/step - loss: 1.3354 - val_loss: 1.2367\n",
            "Epoch 8/100\n",
            "782/782 [==============================] - 2s 2ms/step - loss: 1.3233 - val_loss: 1.2504\n",
            "Epoch 9/100\n",
            "782/782 [==============================] - 2s 2ms/step - loss: 1.3306 - val_loss: 1.2439\n",
            "Epoch 10/100\n",
            "782/782 [==============================] - 2s 2ms/step - loss: 1.3314 - val_loss: 1.2603\n",
            "Epoch 11/100\n",
            "782/782 [==============================] - 2s 2ms/step - loss: 1.3175 - val_loss: 1.2361\n",
            "Epoch 12/100\n",
            "782/782 [==============================] - 2s 2ms/step - loss: 1.3289 - val_loss: 1.2337\n",
            "Epoch 13/100\n",
            "782/782 [==============================] - 2s 2ms/step - loss: 1.3211 - val_loss: 1.2528\n",
            "Epoch 14/100\n",
            "782/782 [==============================] - 2s 2ms/step - loss: 1.3218 - val_loss: 1.2252\n",
            "Epoch 15/100\n",
            "782/782 [==============================] - 2s 2ms/step - loss: 1.3236 - val_loss: 1.2472\n",
            "Epoch 16/100\n",
            "782/782 [==============================] - 2s 2ms/step - loss: 1.3272 - val_loss: 1.2304\n",
            "Epoch 17/100\n",
            "782/782 [==============================] - 2s 2ms/step - loss: 1.3164 - val_loss: 1.2273\n",
            "Epoch 18/100\n",
            "782/782 [==============================] - 2s 2ms/step - loss: 1.3307 - val_loss: 1.2356\n",
            "Epoch 19/100\n",
            "782/782 [==============================] - 2s 2ms/step - loss: 1.3268 - val_loss: 1.2259\n",
            "Epoch 20/100\n",
            "782/782 [==============================] - 2s 2ms/step - loss: 1.3252 - val_loss: 1.2382\n",
            "Epoch 21/100\n",
            "782/782 [==============================] - 2s 2ms/step - loss: 1.3237 - val_loss: 1.2401\n",
            "Epoch 22/100\n",
            "782/782 [==============================] - 2s 2ms/step - loss: 1.3192 - val_loss: 1.2241\n",
            "Epoch 23/100\n",
            "782/782 [==============================] - 2s 2ms/step - loss: 1.3322 - val_loss: 1.2306\n",
            "Epoch 24/100\n",
            "782/782 [==============================] - 2s 2ms/step - loss: 1.3185 - val_loss: 1.2320\n",
            "Epoch 25/100\n",
            "782/782 [==============================] - 2s 2ms/step - loss: 1.3118 - val_loss: 1.2398\n",
            "Epoch 26/100\n",
            "782/782 [==============================] - 2s 2ms/step - loss: 1.3205 - val_loss: 1.2419\n",
            "Epoch 27/100\n",
            "782/782 [==============================] - 2s 2ms/step - loss: 1.3244 - val_loss: 1.2388\n",
            "Epoch 28/100\n",
            "782/782 [==============================] - 2s 2ms/step - loss: 1.3271 - val_loss: 1.2346\n",
            "Epoch 29/100\n",
            "782/782 [==============================] - 2s 2ms/step - loss: 1.3287 - val_loss: 1.2465\n",
            "Epoch 30/100\n",
            "782/782 [==============================] - 2s 3ms/step - loss: 1.3098 - val_loss: 1.2533\n",
            "Epoch 31/100\n",
            "782/782 [==============================] - 2s 3ms/step - loss: 1.3239 - val_loss: 1.2498\n",
            "Epoch 32/100\n",
            "782/782 [==============================] - 2s 3ms/step - loss: 1.3408 - val_loss: 1.2360\n",
            "Epoch 33/100\n",
            "782/782 [==============================] - 2s 3ms/step - loss: 1.3150 - val_loss: 1.2431\n",
            "Epoch 34/100\n",
            "782/782 [==============================] - 2s 2ms/step - loss: 1.3151 - val_loss: 1.2444\n",
            "Epoch 35/100\n",
            "782/782 [==============================] - 2s 3ms/step - loss: 1.3282 - val_loss: 1.2268\n",
            "Epoch 36/100\n",
            "782/782 [==============================] - 2s 3ms/step - loss: 1.3139 - val_loss: 1.2448\n",
            "Epoch 37/100\n",
            "782/782 [==============================] - 2s 3ms/step - loss: 1.3184 - val_loss: 1.2291\n",
            "Epoch 38/100\n",
            "782/782 [==============================] - 2s 3ms/step - loss: 1.3152 - val_loss: 1.2307\n",
            "Epoch 39/100\n",
            "782/782 [==============================] - 2s 3ms/step - loss: 1.3289 - val_loss: 1.2311\n",
            "Epoch 40/100\n",
            "782/782 [==============================] - 2s 3ms/step - loss: 1.3154 - val_loss: 1.2522\n",
            "Epoch 41/100\n",
            "782/782 [==============================] - 2s 3ms/step - loss: 1.3234 - val_loss: 1.2922\n",
            "Epoch 42/100\n",
            "782/782 [==============================] - 2s 3ms/step - loss: 1.3193 - val_loss: 1.2403\n",
            "Epoch 43/100\n",
            "782/782 [==============================] - 2s 2ms/step - loss: 1.3091 - val_loss: 1.2570\n",
            "Epoch 44/100\n",
            "782/782 [==============================] - 2s 2ms/step - loss: 1.3249 - val_loss: 1.2434\n",
            "Epoch 45/100\n",
            "782/782 [==============================] - 2s 2ms/step - loss: 1.3225 - val_loss: 1.2268\n",
            "Epoch 46/100\n",
            "782/782 [==============================] - 2s 2ms/step - loss: 1.3131 - val_loss: 1.2428\n",
            "Epoch 47/100\n",
            "782/782 [==============================] - 2s 2ms/step - loss: 1.3244 - val_loss: 1.2890\n",
            "Epoch 48/100\n",
            "782/782 [==============================] - 2s 2ms/step - loss: 1.3265 - val_loss: 1.2456\n",
            "Epoch 49/100\n",
            "782/782 [==============================] - 2s 2ms/step - loss: 1.3214 - val_loss: 1.2446\n",
            "Epoch 50/100\n",
            "782/782 [==============================] - 2s 2ms/step - loss: 1.3153 - val_loss: 1.2316\n",
            "Epoch 51/100\n",
            "782/782 [==============================] - 2s 2ms/step - loss: 1.3157 - val_loss: 1.2436\n",
            "Epoch 52/100\n",
            "782/782 [==============================] - 2s 2ms/step - loss: 1.3222 - val_loss: 1.2571\n",
            "Epoch 53/100\n",
            "782/782 [==============================] - 2s 2ms/step - loss: 1.3239 - val_loss: 1.2530\n",
            "Epoch 54/100\n",
            "782/782 [==============================] - 2s 2ms/step - loss: 1.3189 - val_loss: 1.2478\n",
            "Epoch 55/100\n",
            "782/782 [==============================] - 2s 2ms/step - loss: 1.3123 - val_loss: 1.2276\n",
            "Epoch 56/100\n",
            "782/782 [==============================] - 2s 2ms/step - loss: 1.3240 - val_loss: 1.2289\n",
            "Epoch 57/100\n",
            "782/782 [==============================] - 2s 2ms/step - loss: 1.3228 - val_loss: 1.2474\n",
            "Epoch 58/100\n",
            "782/782 [==============================] - 2s 2ms/step - loss: 1.3265 - val_loss: 1.2471\n",
            "Epoch 59/100\n",
            "782/782 [==============================] - 2s 2ms/step - loss: 1.3264 - val_loss: 1.2282\n",
            "Epoch 60/100\n",
            "782/782 [==============================] - 2s 2ms/step - loss: 1.3302 - val_loss: 1.2591\n",
            "Epoch 61/100\n",
            "782/782 [==============================] - 2s 2ms/step - loss: 1.3205 - val_loss: 1.2518\n",
            "Epoch 62/100\n",
            "782/782 [==============================] - 2s 2ms/step - loss: 1.3231 - val_loss: 1.2202\n",
            "Epoch 63/100\n",
            "782/782 [==============================] - 2s 2ms/step - loss: 1.3268 - val_loss: 1.2276\n",
            "Epoch 64/100\n",
            "782/782 [==============================] - 2s 2ms/step - loss: 1.3255 - val_loss: 1.2409\n",
            "Epoch 65/100\n",
            "782/782 [==============================] - 2s 2ms/step - loss: 1.3138 - val_loss: 1.2240\n",
            "Epoch 66/100\n",
            "782/782 [==============================] - 2s 2ms/step - loss: 1.3296 - val_loss: 1.2328\n",
            "Epoch 67/100\n",
            "782/782 [==============================] - 2s 2ms/step - loss: 1.3142 - val_loss: 1.2451\n",
            "Epoch 68/100\n",
            "782/782 [==============================] - 2s 2ms/step - loss: 1.3081 - val_loss: 1.2365\n",
            "Epoch 69/100\n",
            "782/782 [==============================] - 2s 2ms/step - loss: 1.3227 - val_loss: 1.2242\n",
            "Epoch 70/100\n",
            "782/782 [==============================] - 2s 2ms/step - loss: 1.3361 - val_loss: 1.2413\n",
            "Epoch 71/100\n",
            "782/782 [==============================] - 2s 2ms/step - loss: 1.3261 - val_loss: 1.2335\n",
            "Epoch 72/100\n",
            "782/782 [==============================] - 2s 2ms/step - loss: 1.3179 - val_loss: 1.2338\n",
            "Epoch 73/100\n",
            "782/782 [==============================] - 2s 2ms/step - loss: 1.3225 - val_loss: 1.2379\n",
            "Epoch 74/100\n",
            "782/782 [==============================] - 2s 3ms/step - loss: 1.3172 - val_loss: 1.2294\n",
            "Epoch 75/100\n",
            "782/782 [==============================] - 2s 3ms/step - loss: 1.3226 - val_loss: 1.2355\n",
            "Epoch 76/100\n",
            "782/782 [==============================] - 2s 2ms/step - loss: 1.3300 - val_loss: 1.2298\n",
            "Epoch 77/100\n",
            "782/782 [==============================] - 2s 2ms/step - loss: 1.3088 - val_loss: 1.2341\n",
            "Epoch 78/100\n",
            "782/782 [==============================] - 2s 2ms/step - loss: 1.3284 - val_loss: 1.2094\n",
            "Epoch 79/100\n",
            "782/782 [==============================] - 2s 2ms/step - loss: 1.3128 - val_loss: 1.2429\n",
            "Epoch 80/100\n",
            "782/782 [==============================] - 2s 2ms/step - loss: 1.3201 - val_loss: 1.2169\n",
            "Epoch 81/100\n",
            "782/782 [==============================] - 2s 2ms/step - loss: 1.3120 - val_loss: 1.2610\n",
            "Epoch 82/100\n",
            "782/782 [==============================] - 2s 2ms/step - loss: 1.3162 - val_loss: 1.2391\n",
            "Epoch 83/100\n",
            "782/782 [==============================] - 2s 2ms/step - loss: 1.3194 - val_loss: 1.2283\n",
            "Epoch 84/100\n",
            "782/782 [==============================] - 2s 2ms/step - loss: 1.3210 - val_loss: 1.2667\n",
            "Epoch 85/100\n",
            "782/782 [==============================] - 2s 2ms/step - loss: 1.3522 - val_loss: 1.2528\n",
            "Epoch 86/100\n",
            "782/782 [==============================] - 2s 2ms/step - loss: 1.3280 - val_loss: 1.2411\n",
            "Epoch 87/100\n",
            "782/782 [==============================] - 2s 2ms/step - loss: 1.3151 - val_loss: 1.2566\n",
            "Epoch 88/100\n",
            "782/782 [==============================] - 2s 2ms/step - loss: 1.3186 - val_loss: 1.2374\n",
            "Epoch 89/100\n",
            "782/782 [==============================] - 2s 2ms/step - loss: 1.3331 - val_loss: 1.2365\n",
            "Epoch 90/100\n",
            "782/782 [==============================] - 2s 2ms/step - loss: 1.3284 - val_loss: 1.2515\n",
            "Epoch 91/100\n",
            "782/782 [==============================] - 2s 2ms/step - loss: 1.3106 - val_loss: 1.2593\n",
            "Epoch 92/100\n",
            "782/782 [==============================] - 2s 2ms/step - loss: 1.3294 - val_loss: 1.2334\n",
            "Epoch 93/100\n",
            "782/782 [==============================] - 2s 2ms/step - loss: 1.3170 - val_loss: 1.2366\n",
            "Epoch 94/100\n",
            "782/782 [==============================] - 2s 3ms/step - loss: 1.3199 - val_loss: 1.2147\n",
            "Epoch 95/100\n",
            "782/782 [==============================] - 2s 2ms/step - loss: 1.3209 - val_loss: 1.2341\n",
            "Epoch 96/100\n",
            "782/782 [==============================] - 2s 2ms/step - loss: 1.3258 - val_loss: 1.2397\n",
            "Epoch 97/100\n",
            "782/782 [==============================] - 2s 3ms/step - loss: 1.3168 - val_loss: 1.2480\n",
            "Epoch 98/100\n",
            "782/782 [==============================] - 2s 3ms/step - loss: 1.3198 - val_loss: 1.2339\n",
            "Epoch 99/100\n",
            "782/782 [==============================] - 2s 3ms/step - loss: 1.3240 - val_loss: 1.2376\n",
            "Epoch 100/100\n",
            "782/782 [==============================] - 2s 3ms/step - loss: 1.3185 - val_loss: 1.2472\n"
          ],
          "name": "stdout"
        }
      ]
    },
    {
      "cell_type": "code",
      "metadata": {
        "id": "0-R6_IAUA2V8"
      },
      "source": [
        "# Evaluating the model on test data \n",
        "y_test59 = y_test59 - 5"
      ],
      "execution_count": 27,
      "outputs": []
    },
    {
      "cell_type": "code",
      "metadata": {
        "id": "xJMB6bm9FXb8",
        "colab": {
          "base_uri": "https://localhost:8080/"
        },
        "outputId": "113a2a13-605e-4da7-b1a6-71c51f839adc"
      },
      "source": [
        "model_new.evaluate(X_test59, y_test59)"
      ],
      "execution_count": 28,
      "outputs": [
        {
          "output_type": "stream",
          "text": [
            "152/152 [==============================] - 0s 2ms/step - loss: 1.2703\n"
          ],
          "name": "stdout"
        },
        {
          "output_type": "execute_result",
          "data": {
            "text/plain": [
              "1.270324468612671"
            ]
          },
          "metadata": {
            "tags": []
          },
          "execution_count": 28
        }
      ]
    },
    {
      "cell_type": "markdown",
      "metadata": {
        "id": "pDAT5nnwTXHM"
      },
      "source": [
        "#### Unfreezing the top two and continuing training \n",
        "Our model has dropout layers with dense layers, hence we will unfreeze the top 4 layers."
      ]
    },
    {
      "cell_type": "code",
      "metadata": {
        "id": "vKymZVVPOYZ1",
        "outputId": "db677060-101d-4873-8769-e0fc1dd8703a",
        "colab": {
          "base_uri": "https://localhost:8080/"
        }
      },
      "source": [
        "# Loading the pretrained model\n",
        "model_old = keras.models.load_model('my_model.h5')\n",
        "\n",
        "# Copying pretrained layers\n",
        "model_new = keras.models.Sequential(model_old.layers[:-1])\n",
        "model_new.add(keras.layers.Dense(5, activation='softmax'))\n",
        "\n",
        "# Cloning old model \n",
        "model_old_clone = keras.models.clone_model(model_old)\n",
        "model_old_clone.set_weights(model_old.get_weights())\n",
        "\n",
        "# Freezing the pretrained layers \n",
        "for layer in model_new.layers[:8]:\n",
        "  layer.trainable = False\n",
        "\n",
        "# Compiling the new model and seeing its summary \n",
        "model_new.compile(loss='sparse_categorical_crossentropy', optimizer='Adam')\n",
        "model_new.summary()"
      ],
      "execution_count": 29,
      "outputs": [
        {
          "output_type": "stream",
          "text": [
            "Model: \"sequential_4\"\n",
            "_________________________________________________________________\n",
            "Layer (type)                 Output Shape              Param #   \n",
            "=================================================================\n",
            "flatten_2 (Flatten)          (None, 784)               0         \n",
            "_________________________________________________________________\n",
            "dropout (Dropout)            (None, 784)               0         \n",
            "_________________________________________________________________\n",
            "dense_12 (Dense)             (None, 100)               78500     \n",
            "_________________________________________________________________\n",
            "dropout_1 (Dropout)          (None, 100)               0         \n",
            "_________________________________________________________________\n",
            "dense_13 (Dense)             (None, 100)               10100     \n",
            "_________________________________________________________________\n",
            "dropout_2 (Dropout)          (None, 100)               0         \n",
            "_________________________________________________________________\n",
            "dense_14 (Dense)             (None, 100)               10100     \n",
            "_________________________________________________________________\n",
            "dropout_3 (Dropout)          (None, 100)               0         \n",
            "_________________________________________________________________\n",
            "dense_15 (Dense)             (None, 100)               10100     \n",
            "_________________________________________________________________\n",
            "dropout_4 (Dropout)          (None, 100)               0         \n",
            "_________________________________________________________________\n",
            "dense_16 (Dense)             (None, 100)               10100     \n",
            "_________________________________________________________________\n",
            "dense_19 (Dense)             (None, 5)                 505       \n",
            "=================================================================\n",
            "Total params: 119,405\n",
            "Trainable params: 20,705\n",
            "Non-trainable params: 98,700\n",
            "_________________________________________________________________\n"
          ],
          "name": "stdout"
        }
      ]
    },
    {
      "cell_type": "code",
      "metadata": {
        "id": "RgMwmUCLULN4",
        "outputId": "5daff35f-592f-47eb-da50-30586a0cd750",
        "colab": {
          "base_uri": "https://localhost:8080/"
        }
      },
      "source": [
        "# Training the newly loaded model for classify digits 5-9\n",
        "\n",
        "# Callbacks\n",
        "checkpoints_cb = keras.callbacks.ModelCheckpoint('my_new_model.h5')\n",
        "early_stopping_cb = keras.callbacks.EarlyStopping(patience=100)\n",
        "\n",
        "# Training \n",
        "history = model_new.fit(X_train59, y_train59, epochs=100,\n",
        "                        validation_split=0.15, callbacks=[checkpoints_cb, early_stopping_cb])"
      ],
      "execution_count": 30,
      "outputs": [
        {
          "output_type": "stream",
          "text": [
            "Epoch 1/100\n",
            "782/782 [==============================] - 3s 3ms/step - loss: 3.1952 - val_loss: 1.1376\n",
            "Epoch 2/100\n",
            "782/782 [==============================] - 2s 3ms/step - loss: 1.2996 - val_loss: 1.1007\n",
            "Epoch 3/100\n",
            "782/782 [==============================] - 2s 3ms/step - loss: 1.2409 - val_loss: 1.0189\n",
            "Epoch 4/100\n",
            "782/782 [==============================] - 2s 3ms/step - loss: 1.2021 - val_loss: 1.0005\n",
            "Epoch 5/100\n",
            "782/782 [==============================] - 2s 3ms/step - loss: 1.1761 - val_loss: 0.9567\n",
            "Epoch 6/100\n",
            "782/782 [==============================] - 2s 3ms/step - loss: 1.1398 - val_loss: 0.9151\n",
            "Epoch 7/100\n",
            "782/782 [==============================] - 2s 3ms/step - loss: 1.1274 - val_loss: 0.9361\n",
            "Epoch 8/100\n",
            "782/782 [==============================] - 2s 3ms/step - loss: 1.1104 - val_loss: 0.9141\n",
            "Epoch 9/100\n",
            "782/782 [==============================] - 2s 3ms/step - loss: 1.1154 - val_loss: 0.8928\n",
            "Epoch 10/100\n",
            "782/782 [==============================] - 2s 3ms/step - loss: 1.1027 - val_loss: 0.8843\n",
            "Epoch 11/100\n",
            "782/782 [==============================] - 2s 3ms/step - loss: 1.1129 - val_loss: 0.8897\n",
            "Epoch 12/100\n",
            "782/782 [==============================] - 2s 3ms/step - loss: 1.1036 - val_loss: 0.8595\n",
            "Epoch 13/100\n",
            "782/782 [==============================] - 2s 3ms/step - loss: 1.0868 - val_loss: 0.8750\n",
            "Epoch 14/100\n",
            "782/782 [==============================] - 2s 3ms/step - loss: 1.0893 - val_loss: 0.8841\n",
            "Epoch 15/100\n",
            "782/782 [==============================] - 2s 3ms/step - loss: 1.0847 - val_loss: 0.8884\n",
            "Epoch 16/100\n",
            "782/782 [==============================] - 2s 3ms/step - loss: 1.0869 - val_loss: 0.8537\n",
            "Epoch 17/100\n",
            "782/782 [==============================] - 2s 3ms/step - loss: 1.0682 - val_loss: 0.8592\n",
            "Epoch 18/100\n",
            "782/782 [==============================] - 2s 3ms/step - loss: 1.0825 - val_loss: 0.8643\n",
            "Epoch 19/100\n",
            "782/782 [==============================] - 2s 3ms/step - loss: 1.0814 - val_loss: 0.8385\n",
            "Epoch 20/100\n",
            "782/782 [==============================] - 2s 3ms/step - loss: 1.0823 - val_loss: 0.8383\n",
            "Epoch 21/100\n",
            "782/782 [==============================] - 2s 3ms/step - loss: 1.0761 - val_loss: 0.8527\n",
            "Epoch 22/100\n",
            "782/782 [==============================] - 2s 3ms/step - loss: 1.0665 - val_loss: 0.8537\n",
            "Epoch 23/100\n",
            "782/782 [==============================] - 2s 3ms/step - loss: 1.0595 - val_loss: 0.8537\n",
            "Epoch 24/100\n",
            "782/782 [==============================] - 2s 3ms/step - loss: 1.0782 - val_loss: 0.8338\n",
            "Epoch 25/100\n",
            "782/782 [==============================] - 2s 3ms/step - loss: 1.0698 - val_loss: 0.8431\n",
            "Epoch 26/100\n",
            "782/782 [==============================] - 2s 3ms/step - loss: 1.0688 - val_loss: 0.8393\n",
            "Epoch 27/100\n",
            "782/782 [==============================] - 2s 3ms/step - loss: 1.0699 - val_loss: 0.8539\n",
            "Epoch 28/100\n",
            "782/782 [==============================] - 2s 3ms/step - loss: 1.0628 - val_loss: 0.8240\n",
            "Epoch 29/100\n",
            "782/782 [==============================] - 2s 3ms/step - loss: 1.0585 - val_loss: 0.8410\n",
            "Epoch 30/100\n",
            "782/782 [==============================] - 2s 3ms/step - loss: 1.0530 - val_loss: 0.8447\n",
            "Epoch 31/100\n",
            "782/782 [==============================] - 2s 3ms/step - loss: 1.0649 - val_loss: 0.8318\n",
            "Epoch 32/100\n",
            "782/782 [==============================] - 2s 3ms/step - loss: 1.0616 - val_loss: 0.8145\n",
            "Epoch 33/100\n",
            "782/782 [==============================] - 2s 3ms/step - loss: 1.0599 - val_loss: 0.8176\n",
            "Epoch 34/100\n",
            "782/782 [==============================] - 2s 3ms/step - loss: 1.0540 - val_loss: 0.8634\n",
            "Epoch 35/100\n",
            "782/782 [==============================] - 2s 3ms/step - loss: 1.0642 - val_loss: 0.8527\n",
            "Epoch 36/100\n",
            "782/782 [==============================] - 2s 3ms/step - loss: 1.0616 - val_loss: 0.8213\n",
            "Epoch 37/100\n",
            "782/782 [==============================] - 2s 3ms/step - loss: 1.0541 - val_loss: 0.8301\n",
            "Epoch 38/100\n",
            "782/782 [==============================] - 2s 3ms/step - loss: 1.0589 - val_loss: 0.8329\n",
            "Epoch 39/100\n",
            "782/782 [==============================] - 2s 3ms/step - loss: 1.0568 - val_loss: 0.8381\n",
            "Epoch 40/100\n",
            "782/782 [==============================] - 2s 3ms/step - loss: 1.0494 - val_loss: 0.8199\n",
            "Epoch 41/100\n",
            "782/782 [==============================] - 2s 3ms/step - loss: 1.0652 - val_loss: 0.8383\n",
            "Epoch 42/100\n",
            "782/782 [==============================] - 2s 3ms/step - loss: 1.0513 - val_loss: 0.8240\n",
            "Epoch 43/100\n",
            "782/782 [==============================] - 2s 3ms/step - loss: 1.0531 - val_loss: 0.8099\n",
            "Epoch 44/100\n",
            "782/782 [==============================] - 2s 3ms/step - loss: 1.0612 - val_loss: 0.8148\n",
            "Epoch 45/100\n",
            "782/782 [==============================] - 2s 3ms/step - loss: 1.0671 - val_loss: 0.8259\n",
            "Epoch 46/100\n",
            "782/782 [==============================] - 2s 3ms/step - loss: 1.0646 - val_loss: 0.8590\n",
            "Epoch 47/100\n",
            "782/782 [==============================] - 2s 3ms/step - loss: 1.0503 - val_loss: 0.8461\n",
            "Epoch 48/100\n",
            "782/782 [==============================] - 2s 3ms/step - loss: 1.0595 - val_loss: 0.8130\n",
            "Epoch 49/100\n",
            "782/782 [==============================] - 2s 3ms/step - loss: 1.0632 - val_loss: 0.8218\n",
            "Epoch 50/100\n",
            "782/782 [==============================] - 2s 3ms/step - loss: 1.0638 - val_loss: 0.8413\n",
            "Epoch 51/100\n",
            "782/782 [==============================] - 2s 3ms/step - loss: 1.0517 - val_loss: 0.8853\n",
            "Epoch 52/100\n",
            "782/782 [==============================] - 2s 3ms/step - loss: 1.0735 - val_loss: 0.8458\n",
            "Epoch 53/100\n",
            "782/782 [==============================] - 2s 3ms/step - loss: 1.0680 - val_loss: 0.8148\n",
            "Epoch 54/100\n",
            "782/782 [==============================] - 2s 3ms/step - loss: 1.0521 - val_loss: 0.8091\n",
            "Epoch 55/100\n",
            "782/782 [==============================] - 2s 3ms/step - loss: 1.0675 - val_loss: 0.8046\n",
            "Epoch 56/100\n",
            "782/782 [==============================] - 2s 3ms/step - loss: 1.0599 - val_loss: 0.8310\n",
            "Epoch 57/100\n",
            "782/782 [==============================] - 2s 3ms/step - loss: 1.0610 - val_loss: 0.7968\n",
            "Epoch 58/100\n",
            "782/782 [==============================] - 2s 3ms/step - loss: 1.0488 - val_loss: 0.8246\n",
            "Epoch 59/100\n",
            "782/782 [==============================] - 2s 3ms/step - loss: 1.0479 - val_loss: 0.8122\n",
            "Epoch 60/100\n",
            "782/782 [==============================] - 2s 3ms/step - loss: 1.0582 - val_loss: 0.8633\n",
            "Epoch 61/100\n",
            "782/782 [==============================] - 2s 3ms/step - loss: 1.0631 - val_loss: 0.8351\n",
            "Epoch 62/100\n",
            "782/782 [==============================] - 2s 3ms/step - loss: 1.0467 - val_loss: 0.8333\n",
            "Epoch 63/100\n",
            "782/782 [==============================] - 2s 3ms/step - loss: 1.0507 - val_loss: 0.8330\n",
            "Epoch 64/100\n",
            "782/782 [==============================] - 2s 3ms/step - loss: 1.0621 - val_loss: 0.8253\n",
            "Epoch 65/100\n",
            "782/782 [==============================] - 2s 3ms/step - loss: 1.0435 - val_loss: 0.8154\n",
            "Epoch 66/100\n",
            "782/782 [==============================] - 2s 3ms/step - loss: 1.0657 - val_loss: 0.8001\n",
            "Epoch 67/100\n",
            "782/782 [==============================] - 2s 3ms/step - loss: 1.0572 - val_loss: 0.8083\n",
            "Epoch 68/100\n",
            "782/782 [==============================] - 2s 3ms/step - loss: 1.0537 - val_loss: 0.8148\n",
            "Epoch 69/100\n",
            "782/782 [==============================] - 2s 3ms/step - loss: 1.0473 - val_loss: 0.8236\n",
            "Epoch 70/100\n",
            "782/782 [==============================] - 2s 3ms/step - loss: 1.0451 - val_loss: 0.8149\n",
            "Epoch 71/100\n",
            "782/782 [==============================] - 2s 3ms/step - loss: 1.0413 - val_loss: 0.8076\n",
            "Epoch 72/100\n",
            "782/782 [==============================] - 2s 3ms/step - loss: 1.0604 - val_loss: 0.8217\n",
            "Epoch 73/100\n",
            "782/782 [==============================] - 2s 3ms/step - loss: 1.0494 - val_loss: 0.8205\n",
            "Epoch 74/100\n",
            "782/782 [==============================] - 2s 3ms/step - loss: 1.0456 - val_loss: 0.8413\n",
            "Epoch 75/100\n",
            "782/782 [==============================] - 2s 3ms/step - loss: 1.0632 - val_loss: 0.8446\n",
            "Epoch 76/100\n",
            "782/782 [==============================] - 2s 3ms/step - loss: 1.0568 - val_loss: 0.8174\n",
            "Epoch 77/100\n",
            "782/782 [==============================] - 2s 3ms/step - loss: 1.0446 - val_loss: 0.8605\n",
            "Epoch 78/100\n",
            "782/782 [==============================] - 2s 3ms/step - loss: 1.0513 - val_loss: 0.8505\n",
            "Epoch 79/100\n",
            "782/782 [==============================] - 2s 3ms/step - loss: 1.0488 - val_loss: 0.8240\n",
            "Epoch 80/100\n",
            "782/782 [==============================] - 2s 3ms/step - loss: 1.0500 - val_loss: 0.8213\n",
            "Epoch 81/100\n",
            "782/782 [==============================] - 2s 3ms/step - loss: 1.0497 - val_loss: 0.8180\n",
            "Epoch 82/100\n",
            "782/782 [==============================] - 2s 3ms/step - loss: 1.0413 - val_loss: 0.8012\n",
            "Epoch 83/100\n",
            "782/782 [==============================] - 2s 3ms/step - loss: 1.0452 - val_loss: 0.8156\n",
            "Epoch 84/100\n",
            "782/782 [==============================] - 2s 3ms/step - loss: 1.0637 - val_loss: 0.8215\n",
            "Epoch 85/100\n",
            "782/782 [==============================] - 2s 3ms/step - loss: 1.0417 - val_loss: 0.8193\n",
            "Epoch 86/100\n",
            "782/782 [==============================] - 2s 3ms/step - loss: 1.0490 - val_loss: 0.8135\n",
            "Epoch 87/100\n",
            "782/782 [==============================] - 2s 3ms/step - loss: 1.0535 - val_loss: 0.7919\n",
            "Epoch 88/100\n",
            "782/782 [==============================] - 2s 3ms/step - loss: 1.0572 - val_loss: 0.8064\n",
            "Epoch 89/100\n",
            "782/782 [==============================] - 2s 3ms/step - loss: 1.0443 - val_loss: 0.8274\n",
            "Epoch 90/100\n",
            "782/782 [==============================] - 2s 3ms/step - loss: 1.0432 - val_loss: 0.8696\n",
            "Epoch 91/100\n",
            "782/782 [==============================] - 2s 3ms/step - loss: 1.0342 - val_loss: 0.8238\n",
            "Epoch 92/100\n",
            "782/782 [==============================] - 2s 3ms/step - loss: 1.0550 - val_loss: 0.8044\n",
            "Epoch 93/100\n",
            "782/782 [==============================] - 2s 3ms/step - loss: 1.0500 - val_loss: 0.8352\n",
            "Epoch 94/100\n",
            "782/782 [==============================] - 2s 3ms/step - loss: 1.0534 - val_loss: 0.8334\n",
            "Epoch 95/100\n",
            "782/782 [==============================] - 2s 3ms/step - loss: 1.0495 - val_loss: 0.8039\n",
            "Epoch 96/100\n",
            "782/782 [==============================] - 2s 3ms/step - loss: 1.0752 - val_loss: 0.8609\n",
            "Epoch 97/100\n",
            "782/782 [==============================] - 2s 3ms/step - loss: 1.0457 - val_loss: 0.8193\n",
            "Epoch 98/100\n",
            "782/782 [==============================] - 2s 3ms/step - loss: 1.0479 - val_loss: 0.8378\n",
            "Epoch 99/100\n",
            "782/782 [==============================] - 2s 3ms/step - loss: 1.0353 - val_loss: 0.8178\n",
            "Epoch 100/100\n",
            "782/782 [==============================] - 2s 3ms/step - loss: 1.0398 - val_loss: 0.8118\n"
          ],
          "name": "stdout"
        }
      ]
    },
    {
      "cell_type": "code",
      "metadata": {
        "id": "VUwqZ6pCUR2I",
        "outputId": "727fe6d2-9e8e-4d2e-fde8-cb47346fe43f",
        "colab": {
          "base_uri": "https://localhost:8080/"
        }
      },
      "source": [
        "model_new.evaluate(X_test59, y_test59)"
      ],
      "execution_count": 31,
      "outputs": [
        {
          "output_type": "stream",
          "text": [
            "152/152 [==============================] - 0s 1ms/step - loss: 0.8448\n"
          ],
          "name": "stdout"
        },
        {
          "output_type": "execute_result",
          "data": {
            "text/plain": [
              "0.8447552919387817"
            ]
          },
          "metadata": {
            "tags": []
          },
          "execution_count": 31
        }
      ]
    },
    {
      "cell_type": "markdown",
      "metadata": {
        "id": "pHG07kSvVPEs"
      },
      "source": [
        "The performance of the model has significantly increased after unfreezing the top two layers."
      ]
    },
    {
      "cell_type": "markdown",
      "metadata": {
        "id": "O-ewEdBTVXcN"
      },
      "source": [
        "#### Making a model which uses only 4 layers of the loaded model\n",
        "Since, our model has dropout layers with dense layersm, we will omit the last two layers of the network."
      ]
    },
    {
      "cell_type": "code",
      "metadata": {
        "id": "A543eqX8X_X2",
        "outputId": "ff249aec-7060-4860-a4c9-12c87e27bbb2",
        "colab": {
          "base_uri": "https://localhost:8080/"
        }
      },
      "source": [
        "# Loading the pretrained model\n",
        "model_old = keras.models.load_model('my_model.h5')\n",
        "\n",
        "# Cloning old model \n",
        "model_old_clone = keras.models.clone_model(model_old)\n",
        "model_old_clone.set_weights(model_old.get_weights())\n",
        "\n",
        "# Making the new model with just 8 hidden layers \n",
        "model_new = keras.models.Sequential()\n",
        "for layer in model_old.layers[:9]:\n",
        "  model_new.add(layer)\n",
        "\n",
        "model_new.add(keras.layers.Dense(5, activation='softmax'))\n",
        "\n",
        "# Freezing all layers \n",
        "for layer in model_new.layers[:-1]:\n",
        "  layer.trainable = False\n",
        "\n",
        "# Compiling the new model and seeing its summary \n",
        "model_new.compile(loss='sparse_categorical_crossentropy', optimizer='Adam')\n",
        "model_new.summary()"
      ],
      "execution_count": 39,
      "outputs": [
        {
          "output_type": "stream",
          "text": [
            "Model: \"sequential_9\"\n",
            "_________________________________________________________________\n",
            "Layer (type)                 Output Shape              Param #   \n",
            "=================================================================\n",
            "flatten_2 (Flatten)          (None, 784)               0         \n",
            "_________________________________________________________________\n",
            "dropout (Dropout)            (None, 784)               0         \n",
            "_________________________________________________________________\n",
            "dense_12 (Dense)             (None, 100)               78500     \n",
            "_________________________________________________________________\n",
            "dropout_1 (Dropout)          (None, 100)               0         \n",
            "_________________________________________________________________\n",
            "dense_13 (Dense)             (None, 100)               10100     \n",
            "_________________________________________________________________\n",
            "dropout_2 (Dropout)          (None, 100)               0         \n",
            "_________________________________________________________________\n",
            "dense_14 (Dense)             (None, 100)               10100     \n",
            "_________________________________________________________________\n",
            "dropout_3 (Dropout)          (None, 100)               0         \n",
            "_________________________________________________________________\n",
            "dense_15 (Dense)             (None, 100)               10100     \n",
            "_________________________________________________________________\n",
            "dense_23 (Dense)             (None, 5)                 505       \n",
            "=================================================================\n",
            "Total params: 109,305\n",
            "Trainable params: 505\n",
            "Non-trainable params: 108,800\n",
            "_________________________________________________________________\n"
          ],
          "name": "stdout"
        }
      ]
    },
    {
      "cell_type": "code",
      "metadata": {
        "id": "ZqMHU-0_Y0wt",
        "outputId": "f3e6d08b-07a8-4e5a-bd3c-0f8bae8f30ec",
        "colab": {
          "base_uri": "https://localhost:8080/"
        }
      },
      "source": [
        "# Training the newly loaded model for classify digits 5-9\n",
        "\n",
        "# Callbacks\n",
        "checkpoints_cb = keras.callbacks.ModelCheckpoint('my_new_model.h5')\n",
        "early_stopping_cb = keras.callbacks.EarlyStopping(patience=100)\n",
        "\n",
        "# Training \n",
        "history = model_new.fit(X_train59, y_train59, epochs=100,\n",
        "                        validation_split=0.15, callbacks=[checkpoints_cb, early_stopping_cb])"
      ],
      "execution_count": 40,
      "outputs": [
        {
          "output_type": "stream",
          "text": [
            "Epoch 1/100\n",
            "782/782 [==============================] - 2s 3ms/step - loss: 16.8310 - val_loss: 1.7686\n",
            "Epoch 2/100\n",
            "782/782 [==============================] - 2s 3ms/step - loss: 3.1787 - val_loss: 1.2342\n",
            "Epoch 3/100\n",
            "782/782 [==============================] - 2s 2ms/step - loss: 1.8875 - val_loss: 1.1689\n",
            "Epoch 4/100\n",
            "782/782 [==============================] - 2s 2ms/step - loss: 1.5022 - val_loss: 1.2199\n",
            "Epoch 5/100\n",
            "782/782 [==============================] - 2s 2ms/step - loss: 1.4413 - val_loss: 1.1851\n",
            "Epoch 6/100\n",
            "782/782 [==============================] - 2s 2ms/step - loss: 1.4568 - val_loss: 1.1848\n",
            "Epoch 7/100\n",
            "782/782 [==============================] - 2s 2ms/step - loss: 1.4702 - val_loss: 1.1747\n",
            "Epoch 8/100\n",
            "782/782 [==============================] - 2s 2ms/step - loss: 1.4120 - val_loss: 1.1313\n",
            "Epoch 9/100\n",
            "782/782 [==============================] - 2s 2ms/step - loss: 1.4049 - val_loss: 1.3845\n",
            "Epoch 10/100\n",
            "782/782 [==============================] - 2s 3ms/step - loss: 1.4309 - val_loss: 1.2239\n",
            "Epoch 11/100\n",
            "782/782 [==============================] - 2s 3ms/step - loss: 1.4071 - val_loss: 1.2329\n",
            "Epoch 12/100\n",
            "782/782 [==============================] - 2s 3ms/step - loss: 1.4245 - val_loss: 1.1072\n",
            "Epoch 13/100\n",
            "782/782 [==============================] - 2s 2ms/step - loss: 1.3838 - val_loss: 1.1128\n",
            "Epoch 14/100\n",
            "782/782 [==============================] - 2s 2ms/step - loss: 1.4055 - val_loss: 1.2065\n",
            "Epoch 15/100\n",
            "782/782 [==============================] - 2s 3ms/step - loss: 1.4087 - val_loss: 1.1761\n",
            "Epoch 16/100\n",
            "782/782 [==============================] - 2s 3ms/step - loss: 1.4021 - val_loss: 1.2600\n",
            "Epoch 17/100\n",
            "782/782 [==============================] - 2s 3ms/step - loss: 1.4201 - val_loss: 1.4512\n",
            "Epoch 18/100\n",
            "782/782 [==============================] - 2s 3ms/step - loss: 1.4191 - val_loss: 1.1310\n",
            "Epoch 19/100\n",
            "782/782 [==============================] - 2s 3ms/step - loss: 1.4046 - val_loss: 1.1757\n",
            "Epoch 20/100\n",
            "782/782 [==============================] - 2s 2ms/step - loss: 1.4142 - val_loss: 1.1780\n",
            "Epoch 21/100\n",
            "782/782 [==============================] - 2s 2ms/step - loss: 1.4186 - val_loss: 1.1172\n",
            "Epoch 22/100\n",
            "782/782 [==============================] - 2s 3ms/step - loss: 1.3994 - val_loss: 1.3279\n",
            "Epoch 23/100\n",
            "782/782 [==============================] - 2s 3ms/step - loss: 1.5461 - val_loss: 1.1177\n",
            "Epoch 24/100\n",
            "782/782 [==============================] - 2s 3ms/step - loss: 1.4199 - val_loss: 1.2024\n",
            "Epoch 25/100\n",
            "782/782 [==============================] - 2s 3ms/step - loss: 1.4026 - val_loss: 1.1059\n",
            "Epoch 26/100\n",
            "782/782 [==============================] - 2s 3ms/step - loss: 1.4153 - val_loss: 1.0878\n",
            "Epoch 27/100\n",
            "782/782 [==============================] - 2s 3ms/step - loss: 1.4012 - val_loss: 1.3161\n",
            "Epoch 28/100\n",
            "782/782 [==============================] - 2s 2ms/step - loss: 1.3733 - val_loss: 1.2599\n",
            "Epoch 29/100\n",
            "782/782 [==============================] - 2s 2ms/step - loss: 1.3914 - val_loss: 1.1523\n",
            "Epoch 30/100\n",
            "782/782 [==============================] - 2s 2ms/step - loss: 1.4070 - val_loss: 1.2005\n",
            "Epoch 31/100\n",
            "782/782 [==============================] - 2s 3ms/step - loss: 1.4081 - val_loss: 1.1774\n",
            "Epoch 32/100\n",
            "782/782 [==============================] - 2s 2ms/step - loss: 1.4289 - val_loss: 1.2410\n",
            "Epoch 33/100\n",
            "782/782 [==============================] - 2s 2ms/step - loss: 1.4247 - val_loss: 1.3292\n",
            "Epoch 34/100\n",
            "782/782 [==============================] - 2s 2ms/step - loss: 1.4008 - val_loss: 1.2274\n",
            "Epoch 35/100\n",
            "782/782 [==============================] - 2s 2ms/step - loss: 1.4130 - val_loss: 1.2667\n",
            "Epoch 36/100\n",
            "782/782 [==============================] - 2s 2ms/step - loss: 1.4612 - val_loss: 1.2518\n",
            "Epoch 37/100\n",
            "782/782 [==============================] - 2s 2ms/step - loss: 1.4165 - val_loss: 2.2716\n",
            "Epoch 38/100\n",
            "782/782 [==============================] - 2s 2ms/step - loss: 1.9614 - val_loss: 1.1352\n",
            "Epoch 39/100\n",
            "782/782 [==============================] - 2s 2ms/step - loss: 1.3584 - val_loss: 1.2539\n",
            "Epoch 40/100\n",
            "782/782 [==============================] - 2s 2ms/step - loss: 1.4604 - val_loss: 1.1812\n",
            "Epoch 41/100\n",
            "782/782 [==============================] - 2s 3ms/step - loss: 1.4079 - val_loss: 1.2260\n",
            "Epoch 42/100\n",
            "782/782 [==============================] - 2s 2ms/step - loss: 1.5145 - val_loss: 1.2554\n",
            "Epoch 43/100\n",
            "782/782 [==============================] - 2s 2ms/step - loss: 1.4012 - val_loss: 1.1304\n",
            "Epoch 44/100\n",
            "782/782 [==============================] - 2s 2ms/step - loss: 1.4442 - val_loss: 1.2379\n",
            "Epoch 45/100\n",
            "782/782 [==============================] - 2s 2ms/step - loss: 1.4444 - val_loss: 1.1156\n",
            "Epoch 46/100\n",
            "782/782 [==============================] - 2s 2ms/step - loss: 1.4396 - val_loss: 1.1146\n",
            "Epoch 47/100\n",
            "782/782 [==============================] - 2s 3ms/step - loss: 1.4238 - val_loss: 1.2202\n",
            "Epoch 48/100\n",
            "782/782 [==============================] - 2s 2ms/step - loss: 1.4146 - val_loss: 1.2125\n",
            "Epoch 49/100\n",
            "782/782 [==============================] - 2s 2ms/step - loss: 1.7270 - val_loss: 1.3642\n",
            "Epoch 50/100\n",
            "782/782 [==============================] - 2s 3ms/step - loss: 1.4070 - val_loss: 1.5517\n",
            "Epoch 51/100\n",
            "782/782 [==============================] - 2s 3ms/step - loss: 1.6332 - val_loss: 1.1787\n",
            "Epoch 52/100\n",
            "782/782 [==============================] - 2s 3ms/step - loss: 1.4251 - val_loss: 1.1162\n",
            "Epoch 53/100\n",
            "782/782 [==============================] - 2s 2ms/step - loss: 1.4104 - val_loss: 1.1319\n",
            "Epoch 54/100\n",
            "782/782 [==============================] - 2s 2ms/step - loss: 1.3987 - val_loss: 1.1919\n",
            "Epoch 55/100\n",
            "782/782 [==============================] - 2s 2ms/step - loss: 1.4246 - val_loss: 1.1512\n",
            "Epoch 56/100\n",
            "782/782 [==============================] - 2s 2ms/step - loss: 1.4100 - val_loss: 1.2168\n",
            "Epoch 57/100\n",
            "782/782 [==============================] - 2s 3ms/step - loss: 1.3918 - val_loss: 1.1648\n",
            "Epoch 58/100\n",
            "782/782 [==============================] - 2s 2ms/step - loss: 1.4113 - val_loss: 1.5803\n",
            "Epoch 59/100\n",
            "782/782 [==============================] - 2s 2ms/step - loss: 1.4334 - val_loss: 1.2222\n",
            "Epoch 60/100\n",
            "782/782 [==============================] - 2s 2ms/step - loss: 1.4265 - val_loss: 1.2491\n",
            "Epoch 61/100\n",
            "782/782 [==============================] - 2s 3ms/step - loss: 1.4223 - val_loss: 1.1775\n",
            "Epoch 62/100\n",
            "782/782 [==============================] - 2s 3ms/step - loss: 1.4098 - val_loss: 1.2755\n",
            "Epoch 63/100\n",
            "782/782 [==============================] - 2s 3ms/step - loss: 1.4131 - val_loss: 1.3820\n",
            "Epoch 64/100\n",
            "782/782 [==============================] - 2s 2ms/step - loss: 1.4045 - val_loss: 1.1949\n",
            "Epoch 65/100\n",
            "782/782 [==============================] - 2s 2ms/step - loss: 1.3874 - val_loss: 1.1436\n",
            "Epoch 66/100\n",
            "782/782 [==============================] - 2s 2ms/step - loss: 1.3976 - val_loss: 1.2313\n",
            "Epoch 67/100\n",
            "782/782 [==============================] - 2s 2ms/step - loss: 1.3992 - val_loss: 1.1462\n",
            "Epoch 68/100\n",
            "782/782 [==============================] - 2s 3ms/step - loss: 1.4444 - val_loss: 1.1643\n",
            "Epoch 69/100\n",
            "782/782 [==============================] - 2s 2ms/step - loss: 1.4128 - val_loss: 1.2248\n",
            "Epoch 70/100\n",
            "782/782 [==============================] - 2s 2ms/step - loss: 1.4298 - val_loss: 1.1733\n",
            "Epoch 71/100\n",
            "782/782 [==============================] - 2s 2ms/step - loss: 1.3790 - val_loss: 1.1440\n",
            "Epoch 72/100\n",
            "782/782 [==============================] - 2s 2ms/step - loss: 1.3749 - val_loss: 1.1884\n",
            "Epoch 73/100\n",
            "782/782 [==============================] - 2s 2ms/step - loss: 1.4413 - val_loss: 1.1371\n",
            "Epoch 74/100\n",
            "782/782 [==============================] - 2s 2ms/step - loss: 1.4372 - val_loss: 1.2521\n",
            "Epoch 75/100\n",
            "782/782 [==============================] - 2s 2ms/step - loss: 1.4178 - val_loss: 1.2155\n",
            "Epoch 76/100\n",
            "782/782 [==============================] - 2s 2ms/step - loss: 1.4091 - val_loss: 1.0807\n",
            "Epoch 77/100\n",
            "782/782 [==============================] - 2s 3ms/step - loss: 1.3885 - val_loss: 1.1753\n",
            "Epoch 78/100\n",
            "782/782 [==============================] - 2s 3ms/step - loss: 1.4182 - val_loss: 1.2878\n",
            "Epoch 79/100\n",
            "782/782 [==============================] - 2s 3ms/step - loss: 1.3865 - val_loss: 1.2197\n",
            "Epoch 80/100\n",
            "782/782 [==============================] - 2s 2ms/step - loss: 1.3891 - val_loss: 1.1255\n",
            "Epoch 81/100\n",
            "782/782 [==============================] - 2s 3ms/step - loss: 1.3977 - val_loss: 1.1657\n",
            "Epoch 82/100\n",
            "782/782 [==============================] - 2s 3ms/step - loss: 1.4072 - val_loss: 1.3685\n",
            "Epoch 83/100\n",
            "782/782 [==============================] - 2s 3ms/step - loss: 1.4070 - val_loss: 1.3382\n",
            "Epoch 84/100\n",
            "782/782 [==============================] - 2s 3ms/step - loss: 1.4067 - val_loss: 1.1779\n",
            "Epoch 85/100\n",
            "782/782 [==============================] - 2s 2ms/step - loss: 1.4059 - val_loss: 1.1488\n",
            "Epoch 86/100\n",
            "782/782 [==============================] - 2s 2ms/step - loss: 1.4353 - val_loss: 1.2135\n",
            "Epoch 87/100\n",
            "782/782 [==============================] - 2s 2ms/step - loss: 1.4097 - val_loss: 1.8007\n",
            "Epoch 88/100\n",
            "782/782 [==============================] - 2s 2ms/step - loss: 1.5770 - val_loss: 1.1620\n",
            "Epoch 89/100\n",
            "782/782 [==============================] - 2s 2ms/step - loss: 1.3770 - val_loss: 1.1296\n",
            "Epoch 90/100\n",
            "782/782 [==============================] - 2s 2ms/step - loss: 1.4183 - val_loss: 1.1043\n",
            "Epoch 91/100\n",
            "782/782 [==============================] - 2s 2ms/step - loss: 1.4174 - val_loss: 1.2679\n",
            "Epoch 92/100\n",
            "782/782 [==============================] - 2s 2ms/step - loss: 1.3929 - val_loss: 1.1912\n",
            "Epoch 93/100\n",
            "782/782 [==============================] - 2s 2ms/step - loss: 1.4071 - val_loss: 1.1326\n",
            "Epoch 94/100\n",
            "782/782 [==============================] - 2s 3ms/step - loss: 1.4806 - val_loss: 1.2768\n",
            "Epoch 95/100\n",
            "782/782 [==============================] - 2s 3ms/step - loss: 1.4495 - val_loss: 1.1930\n",
            "Epoch 96/100\n",
            "782/782 [==============================] - 2s 2ms/step - loss: 1.3865 - val_loss: 1.2587\n",
            "Epoch 97/100\n",
            "782/782 [==============================] - 2s 3ms/step - loss: 1.4020 - val_loss: 1.2320\n",
            "Epoch 98/100\n",
            "782/782 [==============================] - 2s 2ms/step - loss: 1.4393 - val_loss: 1.2093\n",
            "Epoch 99/100\n",
            "782/782 [==============================] - 2s 3ms/step - loss: 1.4375 - val_loss: 1.2811\n",
            "Epoch 100/100\n",
            "782/782 [==============================] - 2s 3ms/step - loss: 1.4274 - val_loss: 1.1458\n"
          ],
          "name": "stdout"
        }
      ]
    },
    {
      "cell_type": "markdown",
      "metadata": {
        "id": "YD_nVhiOY5PZ"
      },
      "source": [
        "On removing the top two layers, the model has performed slightly better than the model which used all the hidden layers after freezing them."
      ]
    },
    {
      "cell_type": "code",
      "metadata": {
        "id": "zsPuw3VEbaAP"
      },
      "source": [
        ""
      ],
      "execution_count": null,
      "outputs": []
    }
  ]
}