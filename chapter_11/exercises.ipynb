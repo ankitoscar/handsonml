{
  "nbformat": 4,
  "nbformat_minor": 0,
  "metadata": {
    "colab": {
      "name": "Untitled2.ipynb",
      "provenance": [],
      "collapsed_sections": [],
      "toc_visible": true,
      "authorship_tag": "ABX9TyNhUThixHyrEEHxlWWTJVmj",
      "include_colab_link": true
    },
    "kernelspec": {
      "name": "python3",
      "display_name": "Python 3"
    },
    "language_info": {
      "name": "python"
    }
  },
  "cells": [
    {
      "cell_type": "markdown",
      "metadata": {
        "id": "view-in-github",
        "colab_type": "text"
      },
      "source": [
        "<a href=\"https://colab.research.google.com/github/ankitoscar/handsonml/blob/main/chapter_11/exercises.ipynb\" target=\"_parent\"><img src=\"https://colab.research.google.com/assets/colab-badge.svg\" alt=\"Open In Colab\"/></a>"
      ]
    },
    {
      "cell_type": "markdown",
      "metadata": {
        "id": "TcmAYwyB8T4V"
      },
      "source": [
        "## Training Deep Neural Networks using Keras\n",
        "This chapter involves different training, intitialization and normalization strategies used for enhancing the performance of a neural network in keras. "
      ]
    },
    {
      "cell_type": "markdown",
      "metadata": {
        "id": "IPQHBCy-9Q3L"
      },
      "source": [
        "## Exercises\n",
        "\n",
        "### Deep Learning"
      ]
    },
    {
      "cell_type": "markdown",
      "metadata": {
        "id": "kglGvw809gCm"
      },
      "source": [
        "#### Build a DNN with five hidden layers of 100 neurons each, He initialization, and the ELU activation function."
      ]
    },
    {
      "cell_type": "code",
      "metadata": {
        "id": "62Yemcsn9tet"
      },
      "source": [
        "#  importing essential libraries \n",
        "import tensorflow as tf \n",
        "from tensorflow import keras\n",
        "import numpy as np \n",
        "import pandas as pd \n",
        "import matplotlib.pyplot as plt"
      ],
      "execution_count": 1,
      "outputs": []
    },
    {
      "cell_type": "code",
      "metadata": {
        "colab": {
          "base_uri": "https://localhost:8080/"
        },
        "id": "m3q3woXF97JG",
        "outputId": "799112e5-35ae-4824-cbe0-fccbcf2f49bf"
      },
      "source": [
        "# Loading the MNIST digits dataset \n",
        "from keras.datasets import mnist \n",
        "(X_train, y_train), (X_test, y_test) = mnist.load_data()"
      ],
      "execution_count": 2,
      "outputs": [
        {
          "output_type": "stream",
          "text": [
            "Downloading data from https://storage.googleapis.com/tensorflow/tf-keras-datasets/mnist.npz\n",
            "11493376/11490434 [==============================] - 0s 0us/step\n"
          ],
          "name": "stdout"
        }
      ]
    },
    {
      "cell_type": "code",
      "metadata": {
        "colab": {
          "base_uri": "https://localhost:8080/"
        },
        "id": "sAZemaTj-xAY",
        "outputId": "f4dad0db-37f6-4cd6-f18c-9477d39c5d75"
      },
      "source": [
        "# Seeing shape of the dataset \n",
        "print(X_train.shape)\n",
        "print(y_train.shape)\n",
        "print(X_test.shape)\n",
        "print(y_test.shape)"
      ],
      "execution_count": 3,
      "outputs": [
        {
          "output_type": "stream",
          "text": [
            "(60000, 28, 28)\n",
            "(60000,)\n",
            "(10000, 28, 28)\n",
            "(10000,)\n"
          ],
          "name": "stdout"
        }
      ]
    },
    {
      "cell_type": "code",
      "metadata": {
        "colab": {
          "base_uri": "https://localhost:8080/",
          "height": 761
        },
        "id": "8cnXHzYz-9su",
        "outputId": "9d01084a-a241-45bd-c752-00fb35ea37e9"
      },
      "source": [
        "# Printing first 10 images in the training dataset \n",
        "for image in X_train[:3]:\n",
        "  plt.figure()\n",
        "  plt.imshow(image)\n",
        "  plt.show()"
      ],
      "execution_count": 4,
      "outputs": [
        {
          "output_type": "display_data",
          "data": {
            "image/png": "[encoded data removed]",
            "text/plain": [
              "<Figure size 432x288 with 1 Axes>"
            ]
          },
          "metadata": {
            "tags": [],
            "needs_background": "light"
          }
        },
        {
          "output_type": "display_data",
          "data": {
            "image/png": "[encoded data removed]",
            "text/plain": [
              "<Figure size 432x288 with 1 Axes>"
            ]
          },
          "metadata": {
            "tags": [],
            "needs_background": "light"
          }
        },
        {
          "output_type": "display_data",
          "data": {
            "image/png": "[encoded data removed]",
            "text/plain": [
              "<Figure size 432x288 with 1 Axes>"
            ]
          },
          "metadata": {
            "tags": [],
            "needs_background": "light"
          }
        }
      ]
    },
    {
      "cell_type": "code",
      "metadata": {
        "colab": {
          "base_uri": "https://localhost:8080/"
        },
        "id": "srPdJlWv_ng8",
        "outputId": "1bcb9a72-2ad8-49ee-da7d-390bd1fa3d0c"
      },
      "source": [
        "# Seeing the first 5 elements of the training dataset\n",
        "X_train[:5]"
      ],
      "execution_count": 5,
      "outputs": [
        {
          "output_type": "execute_result",
          "data": {
            "text/plain": [
              "array([[[0, 0, 0, ..., 0, 0, 0],\n",
              "        [0, 0, 0, ..., 0, 0, 0],\n",
              "        [0, 0, 0, ..., 0, 0, 0],\n",
              "        ...,\n",
              "        [0, 0, 0, ..., 0, 0, 0],\n",
              "        [0, 0, 0, ..., 0, 0, 0],\n",
              "        [0, 0, 0, ..., 0, 0, 0]],\n",
              "\n",
              "       [[0, 0, 0, ..., 0, 0, 0],\n",
              "        [0, 0, 0, ..., 0, 0, 0],\n",
              "        [0, 0, 0, ..., 0, 0, 0],\n",
              "        ...,\n",
              "        [0, 0, 0, ..., 0, 0, 0],\n",
              "        [0, 0, 0, ..., 0, 0, 0],\n",
              "        [0, 0, 0, ..., 0, 0, 0]],\n",
              "\n",
              "       [[0, 0, 0, ..., 0, 0, 0],\n",
              "        [0, 0, 0, ..., 0, 0, 0],\n",
              "        [0, 0, 0, ..., 0, 0, 0],\n",
              "        ...,\n",
              "        [0, 0, 0, ..., 0, 0, 0],\n",
              "        [0, 0, 0, ..., 0, 0, 0],\n",
              "        [0, 0, 0, ..., 0, 0, 0]],\n",
              "\n",
              "       [[0, 0, 0, ..., 0, 0, 0],\n",
              "        [0, 0, 0, ..., 0, 0, 0],\n",
              "        [0, 0, 0, ..., 0, 0, 0],\n",
              "        ...,\n",
              "        [0, 0, 0, ..., 0, 0, 0],\n",
              "        [0, 0, 0, ..., 0, 0, 0],\n",
              "        [0, 0, 0, ..., 0, 0, 0]],\n",
              "\n",
              "       [[0, 0, 0, ..., 0, 0, 0],\n",
              "        [0, 0, 0, ..., 0, 0, 0],\n",
              "        [0, 0, 0, ..., 0, 0, 0],\n",
              "        ...,\n",
              "        [0, 0, 0, ..., 0, 0, 0],\n",
              "        [0, 0, 0, ..., 0, 0, 0],\n",
              "        [0, 0, 0, ..., 0, 0, 0]]], dtype=uint8)"
            ]
          },
          "metadata": {
            "tags": []
          },
          "execution_count": 5
        }
      ]
    },
    {
      "cell_type": "code",
      "metadata": {
        "colab": {
          "base_uri": "https://localhost:8080/"
        },
        "id": "HdiTydAw_5Ru",
        "outputId": "9095361d-cade-4101-de3b-6f96a13fd8e0"
      },
      "source": [
        "y_train[:5]"
      ],
      "execution_count": 6,
      "outputs": [
        {
          "output_type": "execute_result",
          "data": {
            "text/plain": [
              "array([5, 0, 4, 1, 9], dtype=uint8)"
            ]
          },
          "metadata": {
            "tags": []
          },
          "execution_count": 6
        }
      ]
    },
    {
      "cell_type": "markdown",
      "metadata": {
        "id": "XAOK2AOnAMlp"
      },
      "source": [
        "The DNN which we are going to make is having 5 layers, with 100 neurons each, He initialization and ELU activation function."
      ]
    },
    {
      "cell_type": "code",
      "metadata": {
        "colab": {
          "base_uri": "https://localhost:8080/"
        },
        "id": "sW2rjD3LAomG",
        "outputId": "3273559a-e999-4510-8d39-045a78ffb8a4"
      },
      "source": [
        "# Making the network architecture\n",
        "model = keras.models.Sequential([\n",
        "              keras.layers.Flatten(input_shape=[28,28]),  \n",
        "              keras.layers.Dense(100, activation='elu', kernel_initializer='he_normal'),\n",
        "              keras.layers.Dense(100, activation='elu', kernel_initializer='he_normal'),\n",
        "              keras.layers.Dense(100, activation='elu', kernel_initializer='he_normal'),\n",
        "              keras.layers.Dense(100, activation='elu', kernel_initializer='he_normal'),\n",
        "              keras.layers.Dense(100, activation='elu', kernel_initializer='he_normal'),\n",
        "              keras.layers.Dense(5, activation='softmax')\n",
        "])\n",
        "\n",
        "model.summary()"
      ],
      "execution_count": 7,
      "outputs": [
        {
          "output_type": "stream",
          "text": [
            "Model: \"sequential\"\n",
            "_________________________________________________________________\n",
            "Layer (type)                 Output Shape              Param #   \n",
            "=================================================================\n",
            "flatten (Flatten)            (None, 784)               0         \n",
            "_________________________________________________________________\n",
            "dense (Dense)                (None, 100)               78500     \n",
            "_________________________________________________________________\n",
            "dense_1 (Dense)              (None, 100)               10100     \n",
            "_________________________________________________________________\n",
            "dense_2 (Dense)              (None, 100)               10100     \n",
            "_________________________________________________________________\n",
            "dense_3 (Dense)              (None, 100)               10100     \n",
            "_________________________________________________________________\n",
            "dense_4 (Dense)              (None, 100)               10100     \n",
            "_________________________________________________________________\n",
            "dense_5 (Dense)              (None, 5)                 505       \n",
            "=================================================================\n",
            "Total params: 119,405\n",
            "Trainable params: 119,405\n",
            "Non-trainable params: 0\n",
            "_________________________________________________________________\n"
          ],
          "name": "stdout"
        }
      ]
    },
    {
      "cell_type": "code",
      "metadata": {
        "id": "TUA7KzodA71P"
      },
      "source": [
        "# Seperating the dataset between 0-4 and 5-9 \n",
        "train04_filter = np.isin(y_train, [0, 1, 2, 3, 4])\n",
        "train59_filter = np.isin(y_train, [5, 6, 7, 8, 9])\n",
        "\n",
        "test04_filter = np.isin(y_test, [0, 1, 2, 3, 4])\n",
        "test59_filter = np.isin(y_test, [5, 6, 7, 8, 9])"
      ],
      "execution_count": 8,
      "outputs": []
    },
    {
      "cell_type": "code",
      "metadata": {
        "id": "rkq9FKsOD-lo"
      },
      "source": [
        "# Splitting the data \n",
        "X_train04, y_train04, X_test04, y_test04 =  X_train[train04_filter], y_train[train04_filter], X_test[test04_filter], y_test[test04_filter]\n",
        "X_train59, y_train59, X_test59, y_test59 =  X_train[train59_filter], y_train[train59_filter], X_test[test59_filter], y_test[test59_filter]\n"
      ],
      "execution_count": 9,
      "outputs": []
    },
    {
      "cell_type": "code",
      "metadata": {
        "colab": {
          "base_uri": "https://localhost:8080/"
        },
        "id": "MaWlMbUVGHcY",
        "outputId": "8ba0f011-cc77-4345-e515-cd8842f89fab"
      },
      "source": [
        "print(X_train.shape)\n",
        "print(X_train04.shape)\n",
        "print(X_train59.shape)"
      ],
      "execution_count": 10,
      "outputs": [
        {
          "output_type": "stream",
          "text": [
            "(60000, 28, 28)\n",
            "(30596, 28, 28)\n",
            "(29404, 28, 28)\n"
          ],
          "name": "stdout"
        }
      ]
    },
    {
      "cell_type": "code",
      "metadata": {
        "colab": {
          "base_uri": "https://localhost:8080/",
          "height": 265
        },
        "id": "Q-RvKTKBEhLL",
        "outputId": "279c4f04-625c-4ea6-a172-aca960ca64b6"
      },
      "source": [
        "# Seeing a sample from each dataset \n",
        "plt.figure()\n",
        "plt.imshow(X_train04[0])\n",
        "plt.show()"
      ],
      "execution_count": 11,
      "outputs": [
        {
          "output_type": "display_data",
          "data": {
            "image/png": "[encoded data removed]",
            "text/plain": [
              "<Figure size 432x288 with 1 Axes>"
            ]
          },
          "metadata": {
            "tags": [],
            "needs_background": "light"
          }
        }
      ]
    },
    {
      "cell_type": "code",
      "metadata": {
        "colab": {
          "base_uri": "https://localhost:8080/",
          "height": 265
        },
        "id": "xq2oikmWEvPl",
        "outputId": "811e1980-3a12-4809-acc8-40090938cf24"
      },
      "source": [
        "plt.figure()\n",
        "plt.imshow(X_train59[0])\n",
        "plt.show()"
      ],
      "execution_count": 12,
      "outputs": [
        {
          "output_type": "display_data",
          "data": {
            "image/png": "[encoded data removed]",
            "text/plain": [
              "<Figure size 432x288 with 1 Axes>"
            ]
          },
          "metadata": {
            "tags": [],
            "needs_background": "light"
          }
        }
      ]
    },
    {
      "cell_type": "code",
      "metadata": {
        "colab": {
          "base_uri": "https://localhost:8080/"
        },
        "id": "Y1g34TgVE12t",
        "outputId": "cbc32d5f-e6a6-40c6-cfd3-3636aba3fb7c"
      },
      "source": [
        "# Training the model \n",
        "\n",
        "# Making callbacks \n",
        "checkpoints_cb = keras.callbacks.ModelCheckpoint('my_model.h5',save_best_only=True)\n",
        "early_stopping_cb = keras.callbacks.EarlyStopping(patience=10)\n",
        "\n",
        "# Compiling the model \n",
        "model.compile(loss='sparse_categorical_crossentropy', optimizer='Adam')\n",
        "\n",
        "# Training the model \n",
        "history = model.fit(X_train04, y_train04, epochs=100,\n",
        "                    validation_split=0.15, callbacks = [checkpoints_cb, early_stopping_cb])"
      ],
      "execution_count": 13,
      "outputs": [
        {
          "output_type": "stream",
          "text": [
            "Epoch 1/100\n",
            "813/813 [==============================] - 4s 4ms/step - loss: 5.8112 - val_loss: 0.3315\n",
            "Epoch 2/100\n",
            "813/813 [==============================] - 3s 3ms/step - loss: 0.3243 - val_loss: 0.1521\n",
            "Epoch 3/100\n",
            "813/813 [==============================] - 3s 3ms/step - loss: 0.1956 - val_loss: 0.1336\n",
            "Epoch 4/100\n",
            "813/813 [==============================] - 3s 3ms/step - loss: 0.1136 - val_loss: 0.0888\n",
            "Epoch 5/100\n",
            "813/813 [==============================] - 3s 3ms/step - loss: 0.0828 - val_loss: 0.0846\n",
            "Epoch 6/100\n",
            "813/813 [==============================] - 3s 3ms/step - loss: 0.0818 - val_loss: 0.1095\n",
            "Epoch 7/100\n",
            "813/813 [==============================] - 3s 3ms/step - loss: 0.0651 - val_loss: 0.0551\n",
            "Epoch 8/100\n",
            "813/813 [==============================] - 3s 3ms/step - loss: 0.0532 - val_loss: 0.0778\n",
            "Epoch 9/100\n",
            "813/813 [==============================] - 3s 3ms/step - loss: 0.0527 - val_loss: 0.0620\n",
            "Epoch 10/100\n",
            "813/813 [==============================] - 3s 3ms/step - loss: 0.0553 - val_loss: 0.0663\n",
            "Epoch 11/100\n",
            "813/813 [==============================] - 3s 3ms/step - loss: 0.0377 - val_loss: 0.0681\n",
            "Epoch 12/100\n",
            "813/813 [==============================] - 3s 3ms/step - loss: 0.0329 - val_loss: 0.0508\n",
            "Epoch 13/100\n",
            "813/813 [==============================] - 3s 4ms/step - loss: 0.0375 - val_loss: 0.0517\n",
            "Epoch 14/100\n",
            "813/813 [==============================] - 3s 4ms/step - loss: 0.0338 - val_loss: 0.0530\n",
            "Epoch 15/100\n",
            "813/813 [==============================] - 3s 4ms/step - loss: 0.0254 - val_loss: 0.0374\n",
            "Epoch 16/100\n",
            "813/813 [==============================] - 3s 3ms/step - loss: 0.0225 - val_loss: 0.0428\n",
            "Epoch 17/100\n",
            "813/813 [==============================] - 3s 3ms/step - loss: 0.0245 - val_loss: 0.0528\n",
            "Epoch 18/100\n",
            "813/813 [==============================] - 3s 4ms/step - loss: 0.0375 - val_loss: 0.0628\n",
            "Epoch 19/100\n",
            "813/813 [==============================] - 3s 3ms/step - loss: 0.0197 - val_loss: 0.0507\n",
            "Epoch 20/100\n",
            "813/813 [==============================] - 3s 3ms/step - loss: 0.0134 - val_loss: 0.0464\n",
            "Epoch 21/100\n",
            "813/813 [==============================] - 3s 3ms/step - loss: 0.0236 - val_loss: 0.0377\n",
            "Epoch 22/100\n",
            "813/813 [==============================] - 3s 3ms/step - loss: 0.0165 - val_loss: 0.0538\n",
            "Epoch 23/100\n",
            "813/813 [==============================] - 3s 3ms/step - loss: 0.0109 - val_loss: 0.0609\n",
            "Epoch 24/100\n",
            "813/813 [==============================] - 3s 3ms/step - loss: 0.0102 - val_loss: 0.0851\n",
            "Epoch 25/100\n",
            "813/813 [==============================] - 3s 3ms/step - loss: 0.0174 - val_loss: 0.0502\n"
          ],
          "name": "stdout"
        }
      ]
    },
    {
      "cell_type": "code",
      "metadata": {
        "colab": {
          "base_uri": "https://localhost:8080/",
          "height": 324
        },
        "id": "s6BCF23JGnyP",
        "outputId": "91d91ab8-d9d1-425f-a991-5ec07d579430"
      },
      "source": [
        "# Seeing learning curve \n",
        "pd.DataFrame(history.history).plot(figsize=(8, 5))\n",
        "plt.grid(True)\n",
        "plt.gca().set_ylim(0, 1)\n",
        "plt.show()"
      ],
      "execution_count": 14,
      "outputs": [
        {
          "output_type": "display_data",
          "data": {
            "image/png": "[encoded data removed]",
            "text/plain": [
              "<Figure size 576x360 with 1 Axes>"
            ]
          },
          "metadata": {
            "tags": [],
            "needs_background": "light"
          }
        }
      ]
    },
    {
      "cell_type": "code",
      "metadata": {
        "colab": {
          "base_uri": "https://localhost:8080/"
        },
        "id": "_r96W1BfInWx",
        "outputId": "c7f3c5d4-bca5-4f20-939e-3fb39823dcf5"
      },
      "source": [
        "# Evaluating the model \n",
        "model.evaluate(X_test04, y_test04)"
      ],
      "execution_count": 15,
      "outputs": [
        {
          "output_type": "stream",
          "text": [
            "161/161 [==============================] - 0s 1ms/step - loss: 0.0549\n"
          ],
          "name": "stdout"
        },
        {
          "output_type": "execute_result",
          "data": {
            "text/plain": [
              "0.0549297034740448"
            ]
          },
          "metadata": {
            "tags": []
          },
          "execution_count": 15
        }
      ]
    },
    {
      "cell_type": "code",
      "metadata": {
        "colab": {
          "base_uri": "https://localhost:8080/"
        },
        "id": "MSJHR3WLIufu",
        "outputId": "0697b2fc-eb58-4ad8-f689-1b6d3016b99a"
      },
      "source": [
        "# Adding batch normalization and repeating the process \n",
        "\n",
        "# Making the network architecture\n",
        "model = keras.models.Sequential([\n",
        "              keras.layers.Flatten(input_shape=[28,28]),\n",
        "              keras.layers.BatchNormalization(),  \n",
        "              keras.layers.Dense(100, activation='elu', kernel_initializer='he_normal'),\n",
        "              keras.layers.BatchNormalization(),\n",
        "              keras.layers.Dense(100, activation='elu', kernel_initializer='he_normal'),\n",
        "              keras.layers.BatchNormalization(),\n",
        "              keras.layers.Dense(100, activation='elu', kernel_initializer='he_normal'),\n",
        "              keras.layers.BatchNormalization(),\n",
        "              keras.layers.Dense(100, activation='elu', kernel_initializer='he_normal'),\n",
        "              keras.layers.BatchNormalization(),\n",
        "              keras.layers.Dense(100, activation='elu', kernel_initializer='he_normal'),\n",
        "              keras.layers.Dense(5, activation='softmax')\n",
        "])\n",
        "\n",
        "model.summary()"
      ],
      "execution_count": 16,
      "outputs": [
        {
          "output_type": "stream",
          "text": [
            "Model: \"sequential_1\"\n",
            "_________________________________________________________________\n",
            "Layer (type)                 Output Shape              Param #   \n",
            "=================================================================\n",
            "flatten_1 (Flatten)          (None, 784)               0         \n",
            "_________________________________________________________________\n",
            "batch_normalization (BatchNo (None, 784)               3136      \n",
            "_________________________________________________________________\n",
            "dense_6 (Dense)              (None, 100)               78500     \n",
            "_________________________________________________________________\n",
            "batch_normalization_1 (Batch (None, 100)               400       \n",
            "_________________________________________________________________\n",
            "dense_7 (Dense)              (None, 100)               10100     \n",
            "_________________________________________________________________\n",
            "batch_normalization_2 (Batch (None, 100)               400       \n",
            "_________________________________________________________________\n",
            "dense_8 (Dense)              (None, 100)               10100     \n",
            "_________________________________________________________________\n",
            "batch_normalization_3 (Batch (None, 100)               400       \n",
            "_________________________________________________________________\n",
            "dense_9 (Dense)              (None, 100)               10100     \n",
            "_________________________________________________________________\n",
            "batch_normalization_4 (Batch (None, 100)               400       \n",
            "_________________________________________________________________\n",
            "dense_10 (Dense)             (None, 100)               10100     \n",
            "_________________________________________________________________\n",
            "dense_11 (Dense)             (None, 5)                 505       \n",
            "=================================================================\n",
            "Total params: 124,141\n",
            "Trainable params: 121,773\n",
            "Non-trainable params: 2,368\n",
            "_________________________________________________________________\n"
          ],
          "name": "stdout"
        }
      ]
    },
    {
      "cell_type": "code",
      "metadata": {
        "colab": {
          "base_uri": "https://localhost:8080/"
        },
        "id": "jOh9z7KmJ8OJ",
        "outputId": "4468f6eb-d08e-49a7-dbcb-f8a573a45951"
      },
      "source": [
        "# Making callbacks \n",
        "checkpoints_cb = keras.callbacks.ModelCheckpoint('my_model.h5',save_best_only=True)\n",
        "early_stopping_cb = keras.callbacks.EarlyStopping(patience=10)\n",
        "\n",
        "# Compiling the model \n",
        "model.compile(loss='sparse_categorical_crossentropy', optimizer='Adam')\n",
        "\n",
        "# Training the model \n",
        "history = model.fit(X_train04, y_train04, epochs=100,\n",
        "                    validation_split=0.15, callbacks = [checkpoints_cb, early_stopping_cb])"
      ],
      "execution_count": 17,
      "outputs": [
        {
          "output_type": "stream",
          "text": [
            "Epoch 1/100\n",
            "813/813 [==============================] - 7s 6ms/step - loss: 0.2184 - val_loss: 0.1226\n",
            "Epoch 2/100\n",
            "813/813 [==============================] - 4s 5ms/step - loss: 0.0658 - val_loss: 0.0747\n",
            "Epoch 3/100\n",
            "813/813 [==============================] - 4s 6ms/step - loss: 0.0520 - val_loss: 0.0676\n",
            "Epoch 4/100\n",
            "813/813 [==============================] - 4s 6ms/step - loss: 0.0431 - val_loss: 0.1216\n",
            "Epoch 5/100\n",
            "813/813 [==============================] - 4s 5ms/step - loss: 0.0366 - val_loss: 0.1127\n",
            "Epoch 6/100\n",
            "813/813 [==============================] - 5s 6ms/step - loss: 0.0277 - val_loss: 0.0917\n",
            "Epoch 7/100\n",
            "813/813 [==============================] - 5s 6ms/step - loss: 0.0344 - val_loss: 0.0946\n",
            "Epoch 8/100\n",
            "813/813 [==============================] - 4s 5ms/step - loss: 0.0220 - val_loss: 0.0950\n",
            "Epoch 9/100\n",
            "813/813 [==============================] - 4s 6ms/step - loss: 0.0152 - val_loss: 0.1388\n",
            "Epoch 10/100\n",
            "813/813 [==============================] - 4s 5ms/step - loss: 0.0190 - val_loss: 0.1707\n",
            "Epoch 11/100\n",
            "813/813 [==============================] - 5s 6ms/step - loss: 0.0173 - val_loss: 0.2385\n",
            "Epoch 12/100\n",
            "813/813 [==============================] - 4s 6ms/step - loss: 0.0207 - val_loss: 0.1636\n",
            "Epoch 13/100\n",
            "813/813 [==============================] - 4s 5ms/step - loss: 0.0152 - val_loss: 0.1399\n"
          ],
          "name": "stdout"
        }
      ]
    },
    {
      "cell_type": "code",
      "metadata": {
        "colab": {
          "base_uri": "https://localhost:8080/",
          "height": 324
        },
        "id": "UgO9SjX7KEyV",
        "outputId": "47f0e5a3-8e8c-4e11-f457-00251e561fcd"
      },
      "source": [
        "# Seeing learning curve \n",
        "pd.DataFrame(history.history).plot(figsize=(8, 5))\n",
        "plt.grid(True)\n",
        "plt.gca().set_ylim(0, 1)\n",
        "plt.show()"
      ],
      "execution_count": 18,
      "outputs": [
        {
          "output_type": "display_data",
          "data": {
            "image/png": "[encoded data removed]",
            "text/plain": [
              "<Figure size 576x360 with 1 Axes>"
            ]
          },
          "metadata": {
            "tags": [],
            "needs_background": "light"
          }
        }
      ]
    },
    {
      "cell_type": "code",
      "metadata": {
        "colab": {
          "base_uri": "https://localhost:8080/"
        },
        "id": "Z9uzfFqhKYOJ",
        "outputId": "b0dfdb73-08d4-4cd6-cd85-8ff4c003be53"
      },
      "source": [
        "# Evaluating model on test data \n",
        "model.evaluate(X_test04, y_test04)"
      ],
      "execution_count": 19,
      "outputs": [
        {
          "output_type": "stream",
          "text": [
            "161/161 [==============================] - 0s 1ms/step - loss: 0.1683\n"
          ],
          "name": "stdout"
        },
        {
          "output_type": "execute_result",
          "data": {
            "text/plain": [
              "0.16826006770133972"
            ]
          },
          "metadata": {
            "tags": []
          },
          "execution_count": 19
        }
      ]
    },
    {
      "cell_type": "markdown",
      "metadata": {
        "id": "oB9QlzoMKxYG"
      },
      "source": [
        "The model has in turn performed worse than the previous iteration, it has most probably overfitted."
      ]
    },
    {
      "cell_type": "code",
      "metadata": {
        "colab": {
          "base_uri": "https://localhost:8080/"
        },
        "id": "0SuO_0WELBOA",
        "outputId": "75376a82-dec1-4763-e9b4-f09af3b82788"
      },
      "source": [
        "# Creating a new model with dropout before every layer\n",
        "\n",
        "# Making the network architecture\n",
        "model = keras.models.Sequential([\n",
        "              keras.layers.Flatten(input_shape=[28,28]),\n",
        "              keras.layers.Dropout(rate=0.2),  \n",
        "              keras.layers.Dense(100, activation='elu', kernel_initializer='he_normal'),\n",
        "              keras.layers.Dropout(rate=0.2),\n",
        "              keras.layers.Dense(100, activation='elu', kernel_initializer='he_normal'),\n",
        "              keras.layers.Dropout(rate=0.2),\n",
        "              keras.layers.Dense(100, activation='elu', kernel_initializer='he_normal'),\n",
        "              keras.layers.Dropout(rate=0.2),\n",
        "              keras.layers.Dense(100, activation='elu', kernel_initializer='he_normal'),\n",
        "              keras.layers.Dropout(rate=0.2),\n",
        "              keras.layers.Dense(100, activation='elu', kernel_initializer='he_normal'),\n",
        "              keras.layers.Dense(5, activation='softmax')\n",
        "])\n",
        "\n",
        "model.summary()"
      ],
      "execution_count": 20,
      "outputs": [
        {
          "output_type": "stream",
          "text": [
            "Model: \"sequential_2\"\n",
            "_________________________________________________________________\n",
            "Layer (type)                 Output Shape              Param #   \n",
            "=================================================================\n",
            "flatten_2 (Flatten)          (None, 784)               0         \n",
            "_________________________________________________________________\n",
            "dropout (Dropout)            (None, 784)               0         \n",
            "_________________________________________________________________\n",
            "dense_12 (Dense)             (None, 100)               78500     \n",
            "_________________________________________________________________\n",
            "dropout_1 (Dropout)          (None, 100)               0         \n",
            "_________________________________________________________________\n",
            "dense_13 (Dense)             (None, 100)               10100     \n",
            "_________________________________________________________________\n",
            "dropout_2 (Dropout)          (None, 100)               0         \n",
            "_________________________________________________________________\n",
            "dense_14 (Dense)             (None, 100)               10100     \n",
            "_________________________________________________________________\n",
            "dropout_3 (Dropout)          (None, 100)               0         \n",
            "_________________________________________________________________\n",
            "dense_15 (Dense)             (None, 100)               10100     \n",
            "_________________________________________________________________\n",
            "dropout_4 (Dropout)          (None, 100)               0         \n",
            "_________________________________________________________________\n",
            "dense_16 (Dense)             (None, 100)               10100     \n",
            "_________________________________________________________________\n",
            "dense_17 (Dense)             (None, 5)                 505       \n",
            "=================================================================\n",
            "Total params: 119,405\n",
            "Trainable params: 119,405\n",
            "Non-trainable params: 0\n",
            "_________________________________________________________________\n"
          ],
          "name": "stdout"
        }
      ]
    },
    {
      "cell_type": "code",
      "metadata": {
        "colab": {
          "base_uri": "https://localhost:8080/"
        },
        "id": "w7NK4b5-NAte",
        "outputId": "0055bf71-fbe2-48a8-dd17-63dbfcd03eb7"
      },
      "source": [
        "# Making callbacks \n",
        "checkpoints_cb = keras.callbacks.ModelCheckpoint('my_model.h5',save_best_only=True)\n",
        "early_stopping_cb = keras.callbacks.EarlyStopping(patience=10)\n",
        "\n",
        "# Compiling the model \n",
        "model.compile(loss='sparse_categorical_crossentropy', optimizer='Adam')\n",
        "\n",
        "# Training the model \n",
        "history = model.fit(X_train04, y_train04, epochs=100,\n",
        "                    validation_split=0.15, callbacks = [checkpoints_cb, early_stopping_cb])"
      ],
      "execution_count": 21,
      "outputs": [
        {
          "output_type": "stream",
          "text": [
            "Epoch 1/100\n",
            "813/813 [==============================] - 4s 4ms/step - loss: 19.7226 - val_loss: 0.2920\n",
            "Epoch 2/100\n",
            "813/813 [==============================] - 3s 4ms/step - loss: 0.7252 - val_loss: 0.2203\n",
            "Epoch 3/100\n",
            "813/813 [==============================] - 3s 4ms/step - loss: 0.4690 - val_loss: 0.1635\n",
            "Epoch 4/100\n",
            "813/813 [==============================] - 3s 4ms/step - loss: 0.3630 - val_loss: 0.1548\n",
            "Epoch 5/100\n",
            "813/813 [==============================] - 3s 4ms/step - loss: 0.3263 - val_loss: 0.1523\n",
            "Epoch 6/100\n",
            "813/813 [==============================] - 3s 4ms/step - loss: 0.2690 - val_loss: 0.1065\n",
            "Epoch 7/100\n",
            "813/813 [==============================] - 3s 4ms/step - loss: 0.2309 - val_loss: 0.1032\n",
            "Epoch 8/100\n",
            "813/813 [==============================] - 3s 4ms/step - loss: 0.2335 - val_loss: 0.0940\n",
            "Epoch 9/100\n",
            "813/813 [==============================] - 3s 4ms/step - loss: 0.1925 - val_loss: 0.0756\n",
            "Epoch 10/100\n",
            "813/813 [==============================] - 3s 4ms/step - loss: 0.1620 - val_loss: 0.0751\n",
            "Epoch 11/100\n",
            "813/813 [==============================] - 3s 4ms/step - loss: 0.1590 - val_loss: 0.0705\n",
            "Epoch 12/100\n",
            "813/813 [==============================] - 3s 4ms/step - loss: 0.1522 - val_loss: 0.0825\n",
            "Epoch 13/100\n",
            "813/813 [==============================] - 3s 4ms/step - loss: 0.1476 - val_loss: 0.0659\n",
            "Epoch 14/100\n",
            "813/813 [==============================] - 3s 4ms/step - loss: 0.1331 - val_loss: 0.0754\n",
            "Epoch 15/100\n",
            "813/813 [==============================] - 3s 4ms/step - loss: 0.1200 - val_loss: 0.0600\n",
            "Epoch 16/100\n",
            "813/813 [==============================] - 3s 4ms/step - loss: 0.1190 - val_loss: 0.0625\n",
            "Epoch 17/100\n",
            "813/813 [==============================] - 3s 4ms/step - loss: 0.1026 - val_loss: 0.0699\n",
            "Epoch 18/100\n",
            "813/813 [==============================] - 3s 4ms/step - loss: 0.1105 - val_loss: 0.0584\n",
            "Epoch 19/100\n",
            "813/813 [==============================] - 3s 4ms/step - loss: 0.0981 - val_loss: 0.0545\n",
            "Epoch 20/100\n",
            "813/813 [==============================] - 3s 4ms/step - loss: 0.1019 - val_loss: 0.0567\n",
            "Epoch 21/100\n",
            "813/813 [==============================] - 3s 4ms/step - loss: 0.0959 - val_loss: 0.0557\n",
            "Epoch 22/100\n",
            "813/813 [==============================] - 3s 4ms/step - loss: 0.0832 - val_loss: 0.0573\n",
            "Epoch 23/100\n",
            "813/813 [==============================] - 3s 4ms/step - loss: 0.0901 - val_loss: 0.0511\n",
            "Epoch 24/100\n",
            "813/813 [==============================] - 3s 4ms/step - loss: 0.0863 - val_loss: 0.0509\n",
            "Epoch 25/100\n",
            "813/813 [==============================] - 3s 4ms/step - loss: 0.0828 - val_loss: 0.0596\n",
            "Epoch 26/100\n",
            "813/813 [==============================] - 3s 4ms/step - loss: 0.0809 - val_loss: 0.0521\n",
            "Epoch 27/100\n",
            "813/813 [==============================] - 3s 4ms/step - loss: 0.0862 - val_loss: 0.0546\n",
            "Epoch 28/100\n",
            "813/813 [==============================] - 3s 4ms/step - loss: 0.0810 - val_loss: 0.0450\n",
            "Epoch 29/100\n",
            "813/813 [==============================] - 3s 4ms/step - loss: 0.0824 - val_loss: 0.0449\n",
            "Epoch 30/100\n",
            "813/813 [==============================] - 3s 4ms/step - loss: 0.0719 - val_loss: 0.0467\n",
            "Epoch 31/100\n",
            "813/813 [==============================] - 3s 4ms/step - loss: 0.0689 - val_loss: 0.0449\n",
            "Epoch 32/100\n",
            "813/813 [==============================] - 3s 4ms/step - loss: 0.0673 - val_loss: 0.0559\n",
            "Epoch 33/100\n",
            "813/813 [==============================] - 3s 4ms/step - loss: 0.0750 - val_loss: 0.0546\n",
            "Epoch 34/100\n",
            "813/813 [==============================] - 3s 4ms/step - loss: 0.0622 - val_loss: 0.0495\n",
            "Epoch 35/100\n",
            "813/813 [==============================] - 3s 4ms/step - loss: 0.0687 - val_loss: 0.0541\n",
            "Epoch 36/100\n",
            "813/813 [==============================] - 3s 4ms/step - loss: 0.0673 - val_loss: 0.0447\n",
            "Epoch 37/100\n",
            "813/813 [==============================] - 3s 4ms/step - loss: 0.0622 - val_loss: 0.0417\n",
            "Epoch 38/100\n",
            "813/813 [==============================] - 3s 4ms/step - loss: 0.0645 - val_loss: 0.0432\n",
            "Epoch 39/100\n",
            "813/813 [==============================] - 3s 4ms/step - loss: 0.0608 - val_loss: 0.0453\n",
            "Epoch 40/100\n",
            "813/813 [==============================] - 3s 4ms/step - loss: 0.0587 - val_loss: 0.0403\n",
            "Epoch 41/100\n",
            "813/813 [==============================] - 3s 4ms/step - loss: 0.0655 - val_loss: 0.0474\n",
            "Epoch 42/100\n",
            "813/813 [==============================] - 3s 4ms/step - loss: 0.0605 - val_loss: 0.0436\n",
            "Epoch 43/100\n",
            "813/813 [==============================] - 3s 4ms/step - loss: 0.0658 - val_loss: 0.0470\n",
            "Epoch 44/100\n",
            "813/813 [==============================] - 4s 4ms/step - loss: 0.0551 - val_loss: 0.0607\n",
            "Epoch 45/100\n",
            "813/813 [==============================] - 4s 5ms/step - loss: 0.0919 - val_loss: 0.0440\n",
            "Epoch 46/100\n",
            "813/813 [==============================] - 4s 5ms/step - loss: 0.0620 - val_loss: 0.0365\n",
            "Epoch 47/100\n",
            "813/813 [==============================] - 4s 5ms/step - loss: 0.0555 - val_loss: 0.0460\n",
            "Epoch 48/100\n",
            "813/813 [==============================] - 4s 5ms/step - loss: 0.0575 - val_loss: 0.0395\n",
            "Epoch 49/100\n",
            "813/813 [==============================] - 4s 5ms/step - loss: 0.0548 - val_loss: 0.0352\n",
            "Epoch 50/100\n",
            "813/813 [==============================] - 4s 5ms/step - loss: 0.0555 - val_loss: 0.0424\n",
            "Epoch 51/100\n",
            "813/813 [==============================] - 4s 5ms/step - loss: 0.0631 - val_loss: 0.0429\n",
            "Epoch 52/100\n",
            "813/813 [==============================] - 4s 5ms/step - loss: 0.0832 - val_loss: 0.0414\n",
            "Epoch 53/100\n",
            "813/813 [==============================] - 4s 5ms/step - loss: 0.0577 - val_loss: 0.0447\n",
            "Epoch 54/100\n",
            "813/813 [==============================] - 3s 4ms/step - loss: 0.0623 - val_loss: 0.0423\n",
            "Epoch 55/100\n",
            "813/813 [==============================] - 3s 4ms/step - loss: 0.0732 - val_loss: 0.0402\n",
            "Epoch 56/100\n",
            "813/813 [==============================] - 3s 4ms/step - loss: 0.0524 - val_loss: 0.0425\n",
            "Epoch 57/100\n",
            "813/813 [==============================] - 3s 4ms/step - loss: 0.0599 - val_loss: 0.0330\n",
            "Epoch 58/100\n",
            "813/813 [==============================] - 3s 4ms/step - loss: 0.0513 - val_loss: 0.0414\n",
            "Epoch 59/100\n",
            "813/813 [==============================] - 3s 4ms/step - loss: 0.0617 - val_loss: 0.0439\n",
            "Epoch 60/100\n",
            "813/813 [==============================] - 3s 4ms/step - loss: 0.0538 - val_loss: 0.0370\n",
            "Epoch 61/100\n",
            "813/813 [==============================] - 3s 4ms/step - loss: 0.0540 - val_loss: 0.0403\n",
            "Epoch 62/100\n",
            "813/813 [==============================] - 4s 4ms/step - loss: 0.0595 - val_loss: 0.0297\n",
            "Epoch 63/100\n",
            "813/813 [==============================] - 4s 4ms/step - loss: 0.0493 - val_loss: 0.0362\n",
            "Epoch 64/100\n",
            "813/813 [==============================] - 3s 4ms/step - loss: 0.0528 - val_loss: 0.0334\n",
            "Epoch 65/100\n",
            "813/813 [==============================] - 3s 4ms/step - loss: 0.0549 - val_loss: 0.0387\n",
            "Epoch 66/100\n",
            "813/813 [==============================] - 3s 4ms/step - loss: 0.3000 - val_loss: 0.0450\n",
            "Epoch 67/100\n",
            "813/813 [==============================] - 3s 4ms/step - loss: 0.0539 - val_loss: 0.0409\n",
            "Epoch 68/100\n",
            "813/813 [==============================] - 3s 4ms/step - loss: 0.0540 - val_loss: 0.0468\n",
            "Epoch 69/100\n",
            "813/813 [==============================] - 4s 4ms/step - loss: 0.1192 - val_loss: 0.0379\n",
            "Epoch 70/100\n",
            "813/813 [==============================] - 3s 4ms/step - loss: 0.0859 - val_loss: 0.0365\n",
            "Epoch 71/100\n",
            "813/813 [==============================] - 3s 4ms/step - loss: 0.0499 - val_loss: 0.0389\n",
            "Epoch 72/100\n",
            "813/813 [==============================] - 3s 4ms/step - loss: 0.0549 - val_loss: 0.0379\n"
          ],
          "name": "stdout"
        }
      ]
    },
    {
      "cell_type": "code",
      "metadata": {
        "id": "6s5kwd_qNGBp",
        "colab": {
          "base_uri": "https://localhost:8080/",
          "height": 324
        },
        "outputId": "3a54a18c-ff58-40a6-8100-26e6cc7e0658"
      },
      "source": [
        "# Seeing learning curve \n",
        "pd.DataFrame(history.history).plot(figsize=(8, 5))\n",
        "plt.grid(True)\n",
        "plt.gca().set_ylim(0, 1)\n",
        "plt.show()"
      ],
      "execution_count": 22,
      "outputs": [
        {
          "output_type": "display_data",
          "data": {
            "image/png": "[encoded data removed]",
            "text/plain": [
              "<Figure size 576x360 with 1 Axes>"
            ]
          },
          "metadata": {
            "tags": [],
            "needs_background": "light"
          }
        }
      ]
    },
    {
      "cell_type": "code",
      "metadata": {
        "colab": {
          "base_uri": "https://localhost:8080/"
        },
        "id": "MuGbHxy2N5fg",
        "outputId": "eb064d42-86be-46f3-bb2a-2f582471e0fd"
      },
      "source": [
        "# Evaluating the model \n",
        "model.evaluate(X_test04, y_test04)"
      ],
      "execution_count": 23,
      "outputs": [
        {
          "output_type": "stream",
          "text": [
            "161/161 [==============================] - 0s 1ms/step - loss: 0.0408\n"
          ],
          "name": "stdout"
        },
        {
          "output_type": "execute_result",
          "data": {
            "text/plain": [
              "0.04081333428621292"
            ]
          },
          "metadata": {
            "tags": []
          },
          "execution_count": 23
        }
      ]
    },
    {
      "cell_type": "markdown",
      "metadata": {
        "id": "b_MYn-z0N_DJ"
      },
      "source": [
        "#### Conclusion\n",
        "Dropout turned out to be more efficient in improving the model's performance in this case as compared to batch normalization."
      ]
    },
    {
      "cell_type": "markdown",
      "metadata": {
        "id": "tXhk1COvOU8R"
      },
      "source": [
        "#### Create a new DNN reusing all the pretrained layers of the previous model, freeeze them, and replace the softmax output layer with a new one. Train this new DNN digits 5-9 and see the results."
      ]
    },
    {
      "cell_type": "code",
      "metadata": {
        "id": "pc-7E1k_8n_b",
        "outputId": "90bb99ed-fd5d-4689-a3b7-ec2074f6789f",
        "colab": {
          "base_uri": "https://localhost:8080/"
        }
      },
      "source": [
        "# Loading the pretrained model\n",
        "model_old = keras.models.load_model('my_model.h5')\n",
        "\n",
        "# Copying pretrained layers\n",
        "model_new = keras.models.Sequential(model_old.layers[:-1])\n",
        "model_new.add(keras.layers.Dense(5, activation='softmax'))\n",
        "\n",
        "# Cloning old model \n",
        "model_old_clone = keras.models.clone_model(model_old)\n",
        "model_old_clone.set_weights(model_old.get_weights())\n",
        "\n",
        "# Freezing the pretrained layers \n",
        "for layer in model_new.layers[:-1]:\n",
        "  layer.trainable = False\n",
        "\n",
        "# Compiling the new model and seeing its summary \n",
        "model_new.compile(loss='sparse_categorical_crossentropy', optimizer='Adam')\n",
        "model_new.summary()"
      ],
      "execution_count": 33,
      "outputs": [
        {
          "output_type": "stream",
          "text": [
            "Model: \"sequential_7\"\n",
            "_________________________________________________________________\n",
            "Layer (type)                 Output Shape              Param #   \n",
            "=================================================================\n",
            "flatten_2 (Flatten)          (None, 784)               0         \n",
            "_________________________________________________________________\n",
            "dropout (Dropout)            (None, 784)               0         \n",
            "_________________________________________________________________\n",
            "dense_12 (Dense)             (None, 100)               78500     \n",
            "_________________________________________________________________\n",
            "dropout_1 (Dropout)          (None, 100)               0         \n",
            "_________________________________________________________________\n",
            "dense_13 (Dense)             (None, 100)               10100     \n",
            "_________________________________________________________________\n",
            "dropout_2 (Dropout)          (None, 100)               0         \n",
            "_________________________________________________________________\n",
            "dense_14 (Dense)             (None, 100)               10100     \n",
            "_________________________________________________________________\n",
            "dropout_3 (Dropout)          (None, 100)               0         \n",
            "_________________________________________________________________\n",
            "dense_15 (Dense)             (None, 100)               10100     \n",
            "_________________________________________________________________\n",
            "dropout_4 (Dropout)          (None, 100)               0         \n",
            "_________________________________________________________________\n",
            "dense_16 (Dense)             (None, 100)               10100     \n",
            "_________________________________________________________________\n",
            "dense_21 (Dense)             (None, 5)                 505       \n",
            "=================================================================\n",
            "Total params: 119,405\n",
            "Trainable params: 505\n",
            "Non-trainable params: 118,900\n",
            "_________________________________________________________________\n"
          ],
          "name": "stdout"
        }
      ]
    },
    {
      "cell_type": "code",
      "metadata": {
        "id": "RKsi_I6YMOr1"
      },
      "source": [
        "# Subtracting 5 from the y_train59 \n",
        "y_train59 = y_train59 - 5"
      ],
      "execution_count": 34,
      "outputs": []
    },
    {
      "cell_type": "code",
      "metadata": {
        "id": "6ouiWy1v95pt",
        "outputId": "092cf4a2-3eda-478c-c1db-112fbcccc8fa",
        "colab": {
          "base_uri": "https://localhost:8080/"
        }
      },
      "source": [
        "# Training the newly loaded model for classify digits 5-9\n",
        "\n",
        "# Callbacks\n",
        "checkpoints_cb = keras.callbacks.ModelCheckpoint('my_new_model.h5')\n",
        "early_stopping_cb = keras.callbacks.EarlyStopping(patience=100)\n",
        "\n",
        "# Training \n",
        "history = model_new.fit(X_train59, y_train59, epochs=100,\n",
        "                        validation_split=0.15, callbacks=[checkpoints_cb, early_stopping_cb])"
      ],
      "execution_count": 35,
      "outputs": [
        {
          "output_type": "stream",
          "text": [
            "Epoch 1/100\n",
            "782/782 [==============================] - 3s 3ms/step - loss: 5.5903 - val_loss: 1.1952\n",
            "Epoch 2/100\n",
            "782/782 [==============================] - 2s 3ms/step - loss: 1.4817 - val_loss: 1.2036\n",
            "Epoch 3/100\n",
            "782/782 [==============================] - 2s 2ms/step - loss: 1.3592 - val_loss: 1.2557\n",
            "Epoch 4/100\n",
            "782/782 [==============================] - 2s 3ms/step - loss: 1.4062 - val_loss: 1.1913\n",
            "Epoch 5/100\n",
            "782/782 [==============================] - 2s 3ms/step - loss: 1.3434 - val_loss: 1.1944\n",
            "Epoch 6/100\n",
            "782/782 [==============================] - 2s 3ms/step - loss: 1.3169 - val_loss: 1.2217\n",
            "Epoch 7/100\n",
            "782/782 [==============================] - 2s 3ms/step - loss: 1.3231 - val_loss: 1.1871\n",
            "Epoch 8/100\n",
            "782/782 [==============================] - 2s 3ms/step - loss: 1.2978 - val_loss: 1.1953\n",
            "Epoch 9/100\n",
            "782/782 [==============================] - 2s 3ms/step - loss: 1.3073 - val_loss: 1.1913\n",
            "Epoch 10/100\n",
            "782/782 [==============================] - 2s 3ms/step - loss: 1.2998 - val_loss: 1.1846\n",
            "Epoch 11/100\n",
            "782/782 [==============================] - 2s 3ms/step - loss: 1.3134 - val_loss: 1.1932\n",
            "Epoch 12/100\n",
            "782/782 [==============================] - 2s 3ms/step - loss: 1.3162 - val_loss: 1.2149\n",
            "Epoch 13/100\n",
            "782/782 [==============================] - 2s 3ms/step - loss: 1.3299 - val_loss: 1.2189\n",
            "Epoch 14/100\n",
            "782/782 [==============================] - 2s 3ms/step - loss: 1.3234 - val_loss: 1.1892\n",
            "Epoch 15/100\n",
            "782/782 [==============================] - 2s 3ms/step - loss: 1.3081 - val_loss: 1.1950\n",
            "Epoch 16/100\n",
            "782/782 [==============================] - 2s 3ms/step - loss: 1.3088 - val_loss: 1.2001\n",
            "Epoch 17/100\n",
            "782/782 [==============================] - 2s 3ms/step - loss: 1.2875 - val_loss: 1.1981\n",
            "Epoch 18/100\n",
            "782/782 [==============================] - 2s 3ms/step - loss: 1.2813 - val_loss: 1.2097\n",
            "Epoch 19/100\n",
            "782/782 [==============================] - 2s 3ms/step - loss: 1.3043 - val_loss: 1.1972\n",
            "Epoch 20/100\n",
            "782/782 [==============================] - 2s 3ms/step - loss: 1.3257 - val_loss: 1.2166\n",
            "Epoch 21/100\n",
            "782/782 [==============================] - 2s 3ms/step - loss: 1.2841 - val_loss: 1.1990\n",
            "Epoch 22/100\n",
            "782/782 [==============================] - 2s 3ms/step - loss: 1.2985 - val_loss: 1.2221\n",
            "Epoch 23/100\n",
            "782/782 [==============================] - 2s 3ms/step - loss: 1.3061 - val_loss: 1.1868\n",
            "Epoch 24/100\n",
            "782/782 [==============================] - 2s 3ms/step - loss: 1.3202 - val_loss: 1.2030\n",
            "Epoch 25/100\n",
            "782/782 [==============================] - 2s 3ms/step - loss: 1.2858 - val_loss: 1.2067\n",
            "Epoch 26/100\n",
            "782/782 [==============================] - 2s 3ms/step - loss: 1.2936 - val_loss: 1.1957\n",
            "Epoch 27/100\n",
            "782/782 [==============================] - 2s 3ms/step - loss: 1.3154 - val_loss: 1.2055\n",
            "Epoch 28/100\n",
            "782/782 [==============================] - 2s 3ms/step - loss: 1.3060 - val_loss: 1.2101\n",
            "Epoch 29/100\n",
            "782/782 [==============================] - 2s 3ms/step - loss: 1.2929 - val_loss: 1.1731\n",
            "Epoch 30/100\n",
            "782/782 [==============================] - 2s 2ms/step - loss: 1.3005 - val_loss: 1.1924\n",
            "Epoch 31/100\n",
            "782/782 [==============================] - 2s 3ms/step - loss: 1.3025 - val_loss: 1.2232\n",
            "Epoch 32/100\n",
            "782/782 [==============================] - 2s 3ms/step - loss: 1.3027 - val_loss: 1.2073\n",
            "Epoch 33/100\n",
            "782/782 [==============================] - 2s 3ms/step - loss: 1.2869 - val_loss: 1.2003\n",
            "Epoch 34/100\n",
            "782/782 [==============================] - 2s 3ms/step - loss: 1.3057 - val_loss: 1.1969\n",
            "Epoch 35/100\n",
            "782/782 [==============================] - 2s 3ms/step - loss: 1.2987 - val_loss: 1.1919\n",
            "Epoch 36/100\n",
            "782/782 [==============================] - 2s 3ms/step - loss: 1.3026 - val_loss: 1.2074\n",
            "Epoch 37/100\n",
            "782/782 [==============================] - 2s 3ms/step - loss: 1.3016 - val_loss: 1.2147\n",
            "Epoch 38/100\n",
            "782/782 [==============================] - 2s 3ms/step - loss: 1.3021 - val_loss: 1.2019\n",
            "Epoch 39/100\n",
            "782/782 [==============================] - 2s 3ms/step - loss: 1.3176 - val_loss: 1.2114\n",
            "Epoch 40/100\n",
            "782/782 [==============================] - 2s 3ms/step - loss: 1.2996 - val_loss: 1.2200\n",
            "Epoch 41/100\n",
            "782/782 [==============================] - 2s 3ms/step - loss: 1.3437 - val_loss: 1.1883\n",
            "Epoch 42/100\n",
            "782/782 [==============================] - 2s 3ms/step - loss: 1.2816 - val_loss: 1.1819\n",
            "Epoch 43/100\n",
            "782/782 [==============================] - 2s 3ms/step - loss: 1.3476 - val_loss: 1.1974\n",
            "Epoch 44/100\n",
            "782/782 [==============================] - 2s 3ms/step - loss: 1.3431 - val_loss: 1.1876\n",
            "Epoch 45/100\n",
            "782/782 [==============================] - 2s 3ms/step - loss: 1.2956 - val_loss: 1.2109\n",
            "Epoch 46/100\n",
            "782/782 [==============================] - 2s 3ms/step - loss: 1.3270 - val_loss: 1.1946\n",
            "Epoch 47/100\n",
            "782/782 [==============================] - 2s 3ms/step - loss: 1.3055 - val_loss: 1.1895\n",
            "Epoch 48/100\n",
            "782/782 [==============================] - 2s 3ms/step - loss: 1.2903 - val_loss: 1.2146\n",
            "Epoch 49/100\n",
            "782/782 [==============================] - 2s 3ms/step - loss: 1.2917 - val_loss: 1.1987\n",
            "Epoch 50/100\n",
            "782/782 [==============================] - 2s 3ms/step - loss: 1.2869 - val_loss: 1.1860\n",
            "Epoch 51/100\n",
            "782/782 [==============================] - 2s 3ms/step - loss: 1.3232 - val_loss: 1.2097\n",
            "Epoch 52/100\n",
            "782/782 [==============================] - 2s 3ms/step - loss: 1.3523 - val_loss: 1.2152\n",
            "Epoch 53/100\n",
            "782/782 [==============================] - 2s 3ms/step - loss: 1.3027 - val_loss: 1.1835\n",
            "Epoch 54/100\n",
            "782/782 [==============================] - 2s 3ms/step - loss: 1.2979 - val_loss: 1.2333\n",
            "Epoch 55/100\n",
            "782/782 [==============================] - 2s 3ms/step - loss: 1.3041 - val_loss: 1.1979\n",
            "Epoch 56/100\n",
            "782/782 [==============================] - 2s 3ms/step - loss: 1.3052 - val_loss: 1.2730\n",
            "Epoch 57/100\n",
            "782/782 [==============================] - 2s 3ms/step - loss: 1.3065 - val_loss: 1.1856\n",
            "Epoch 58/100\n",
            "782/782 [==============================] - 2s 3ms/step - loss: 1.2921 - val_loss: 1.2266\n",
            "Epoch 59/100\n",
            "782/782 [==============================] - 2s 3ms/step - loss: 1.2892 - val_loss: 1.1949\n",
            "Epoch 60/100\n",
            "782/782 [==============================] - 2s 3ms/step - loss: 1.2882 - val_loss: 1.2141\n",
            "Epoch 61/100\n",
            "782/782 [==============================] - 2s 3ms/step - loss: 1.3133 - val_loss: 1.2144\n",
            "Epoch 62/100\n",
            "782/782 [==============================] - 2s 3ms/step - loss: 1.3102 - val_loss: 1.2134\n",
            "Epoch 63/100\n",
            "782/782 [==============================] - 2s 3ms/step - loss: 1.2943 - val_loss: 1.1927\n",
            "Epoch 64/100\n",
            "782/782 [==============================] - 2s 3ms/step - loss: 1.3100 - val_loss: 1.1956\n",
            "Epoch 65/100\n",
            "782/782 [==============================] - 2s 3ms/step - loss: 1.3036 - val_loss: 1.2161\n",
            "Epoch 66/100\n",
            "782/782 [==============================] - 2s 3ms/step - loss: 1.2951 - val_loss: 1.1886\n",
            "Epoch 67/100\n",
            "782/782 [==============================] - 2s 3ms/step - loss: 1.2898 - val_loss: 1.1963\n",
            "Epoch 68/100\n",
            "782/782 [==============================] - 2s 3ms/step - loss: 1.2887 - val_loss: 1.2198\n",
            "Epoch 69/100\n",
            "782/782 [==============================] - 2s 3ms/step - loss: 1.3673 - val_loss: 1.1950\n",
            "Epoch 70/100\n",
            "782/782 [==============================] - 2s 3ms/step - loss: 1.3209 - val_loss: 1.2105\n",
            "Epoch 71/100\n",
            "782/782 [==============================] - 2s 3ms/step - loss: 1.3375 - val_loss: 1.1920\n",
            "Epoch 72/100\n",
            "782/782 [==============================] - 2s 3ms/step - loss: 1.3240 - val_loss: 1.1984\n",
            "Epoch 73/100\n",
            "782/782 [==============================] - 2s 3ms/step - loss: 1.2869 - val_loss: 1.2182\n",
            "Epoch 74/100\n",
            "782/782 [==============================] - 2s 3ms/step - loss: 1.3013 - val_loss: 1.1974\n",
            "Epoch 75/100\n",
            "782/782 [==============================] - 2s 3ms/step - loss: 1.2836 - val_loss: 1.2096\n",
            "Epoch 76/100\n",
            "782/782 [==============================] - 2s 3ms/step - loss: 1.2967 - val_loss: 1.2270\n",
            "Epoch 77/100\n",
            "782/782 [==============================] - 2s 3ms/step - loss: 1.2998 - val_loss: 1.2056\n",
            "Epoch 78/100\n",
            "782/782 [==============================] - 2s 3ms/step - loss: 1.3207 - val_loss: 1.2065\n",
            "Epoch 79/100\n",
            "782/782 [==============================] - 2s 3ms/step - loss: 1.2892 - val_loss: 1.2165\n",
            "Epoch 80/100\n",
            "782/782 [==============================] - 2s 3ms/step - loss: 1.2992 - val_loss: 1.2313\n",
            "Epoch 81/100\n",
            "782/782 [==============================] - 2s 3ms/step - loss: 1.3001 - val_loss: 1.1874\n",
            "Epoch 82/100\n",
            "782/782 [==============================] - 2s 3ms/step - loss: 1.3013 - val_loss: 1.2064\n",
            "Epoch 83/100\n",
            "782/782 [==============================] - 2s 3ms/step - loss: 1.2937 - val_loss: 1.2106\n",
            "Epoch 84/100\n",
            "782/782 [==============================] - 2s 3ms/step - loss: 1.2884 - val_loss: 1.1999\n",
            "Epoch 85/100\n",
            "782/782 [==============================] - 2s 3ms/step - loss: 1.2728 - val_loss: 1.2136\n",
            "Epoch 86/100\n",
            "782/782 [==============================] - 2s 3ms/step - loss: 1.3125 - val_loss: 1.1925\n",
            "Epoch 87/100\n",
            "782/782 [==============================] - 2s 3ms/step - loss: 1.2901 - val_loss: 1.2341\n",
            "Epoch 88/100\n",
            "782/782 [==============================] - 2s 3ms/step - loss: 1.3151 - val_loss: 1.2088\n",
            "Epoch 89/100\n",
            "782/782 [==============================] - 2s 3ms/step - loss: 1.2890 - val_loss: 1.1875\n",
            "Epoch 90/100\n",
            "782/782 [==============================] - 2s 3ms/step - loss: 1.3032 - val_loss: 1.2099\n",
            "Epoch 91/100\n",
            "782/782 [==============================] - 2s 3ms/step - loss: 1.2907 - val_loss: 1.1884\n",
            "Epoch 92/100\n",
            "782/782 [==============================] - 2s 3ms/step - loss: 1.3108 - val_loss: 1.2076\n",
            "Epoch 93/100\n",
            "782/782 [==============================] - 2s 3ms/step - loss: 1.2835 - val_loss: 1.1896\n",
            "Epoch 94/100\n",
            "782/782 [==============================] - 2s 2ms/step - loss: 1.3163 - val_loss: 1.2510\n",
            "Epoch 95/100\n",
            "782/782 [==============================] - 2s 3ms/step - loss: 1.2965 - val_loss: 1.2030\n",
            "Epoch 96/100\n",
            "782/782 [==============================] - 2s 3ms/step - loss: 1.3228 - val_loss: 1.1905\n",
            "Epoch 97/100\n",
            "782/782 [==============================] - 2s 3ms/step - loss: 1.2962 - val_loss: 1.2387\n",
            "Epoch 98/100\n",
            "782/782 [==============================] - 2s 3ms/step - loss: 1.3128 - val_loss: 1.2095\n",
            "Epoch 99/100\n",
            "782/782 [==============================] - 2s 3ms/step - loss: 1.2822 - val_loss: 1.2204\n",
            "Epoch 100/100\n",
            "782/782 [==============================] - 2s 3ms/step - loss: 1.3048 - val_loss: 1.1968\n"
          ],
          "name": "stdout"
        }
      ]
    },
    {
      "cell_type": "code",
      "metadata": {
        "id": "0-R6_IAUA2V8"
      },
      "source": [
        "# Evaluating the model on test data \n",
        "y_test59 = y_test59 - 5"
      ],
      "execution_count": 36,
      "outputs": []
    },
    {
      "cell_type": "code",
      "metadata": {
        "id": "xJMB6bm9FXb8",
        "outputId": "7de7a823-e2d0-47a3-ed7e-7541fd8770c8",
        "colab": {
          "base_uri": "https://localhost:8080/"
        }
      },
      "source": [
        "model_new.evaluate(X_test59, y_test59)"
      ],
      "execution_count": 38,
      "outputs": [
        {
          "output_type": "stream",
          "text": [
            "152/152 [==============================] - 0s 1ms/step - loss: 1.1835\n"
          ],
          "name": "stdout"
        },
        {
          "output_type": "execute_result",
          "data": {
            "text/plain": [
              "1.1834678649902344"
            ]
          },
          "metadata": {
            "tags": []
          },
          "execution_count": 37
        },
        {
          "output_type": "stream",
          "text": [
            "152/152 [==============================] - 0s 1ms/step - loss: 1.1835\n"
          ],
          "name": "stdout"
        },
        {
          "output_type": "execute_result",
          "data": {
            "text/plain": [
              "1.1834678649902344"
            ]
          },
          "metadata": {
            "tags": []
          },
          "execution_count": 38
        }
      ]
    },
    {
      "cell_type": "code",
      "metadata": {
        "id": "vKymZVVPOYZ1"
      },
      "source": [
        ""
      ],
      "execution_count": null,
      "outputs": []
    }
  ]
}