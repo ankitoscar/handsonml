{
  "nbformat": 4,
  "nbformat_minor": 0,
  "metadata": {
    "colab": {
      "name": "chapter_material.ipynb",
      "provenance": [],
      "toc_visible": true,
      "authorship_tag": "ABX9TyPcG7iWX8uioAWf0JBw4H1Q",
      "include_colab_link": true
    },
    "kernelspec": {
      "name": "python3",
      "display_name": "Python 3"
    },
    "language_info": {
      "name": "python"
    }
  },
  "cells": [
    {
      "cell_type": "markdown",
      "metadata": {
        "id": "view-in-github",
        "colab_type": "text"
      },
      "source": [
        "<a href=\"https://colab.research.google.com/github/ankitoscar/handsonml/blob/main/chapter_11/chapter_material.ipynb\" target=\"_parent\"><img src=\"https://colab.research.google.com/assets/colab-badge.svg\" alt=\"Open In Colab\"/></a>"
      ]
    },
    {
      "cell_type": "markdown",
      "metadata": {
        "id": "W-F8JOD2xPlm"
      },
      "source": [
        "## Building an image classifier using the Sequential API \n",
        "Here, we will make an image classifier using keras' Sequential API. The image classifier would be made for the Fashion MNIST dataset which has 70,000 grayscales of different fashion items having size 28 x 28."
      ]
    },
    {
      "cell_type": "code",
      "metadata": {
        "id": "VLHIUnDE0suJ",
        "outputId": "52b473b2-f4a9-4d77-8ef0-58e347af1092",
        "colab": {
          "base_uri": "https://localhost:8080/"
        }
      },
      "source": [
        "# Importing libraries \n",
        "import tensorflow as tf \n",
        "from tensorflow import keras \n",
        "print(tf.__version__)\n",
        "print(keras.__version__)"
      ],
      "execution_count": 1,
      "outputs": [
        {
          "output_type": "stream",
          "text": [
            "2.4.1\n",
            "2.4.0\n"
          ],
          "name": "stdout"
        }
      ]
    },
    {
      "cell_type": "code",
      "metadata": {
        "id": "qRuL6Fwj02Nt",
        "outputId": "6cffa716-1b94-409b-9773-7bf3fa61a126",
        "colab": {
          "base_uri": "https://localhost:8080/"
        }
      },
      "source": [
        "# Loading the Fashion MNIST dataset \n",
        "fashion_mnist = keras.datasets.fashion_mnist # Utility function for loading \n",
        "                                             # common dataset \n",
        "(X_train_full, y_train_full), (X_test, y_test) = fashion_mnist.load_data()\n",
        "                                            # Splitting data into train and test"
      ],
      "execution_count": 2,
      "outputs": [
        {
          "output_type": "stream",
          "text": [
            "Downloading data from https://storage.googleapis.com/tensorflow/tf-keras-datasets/train-labels-idx1-ubyte.gz\n",
            "32768/29515 [=================================] - 0s 0us/step\n",
            "Downloading data from https://storage.googleapis.com/tensorflow/tf-keras-datasets/train-images-idx3-ubyte.gz\n",
            "26427392/26421880 [==============================] - 0s 0us/step\n",
            "Downloading data from https://storage.googleapis.com/tensorflow/tf-keras-datasets/t10k-labels-idx1-ubyte.gz\n",
            "8192/5148 [===============================================] - 0s 0us/step\n",
            "Downloading data from https://storage.googleapis.com/tensorflow/tf-keras-datasets/t10k-images-idx3-ubyte.gz\n",
            "4423680/4422102 [==============================] - 0s 0us/step\n"
          ],
          "name": "stdout"
        }
      ]
    },
    {
      "cell_type": "code",
      "metadata": {
        "id": "3KASeJr71oIx",
        "outputId": "29200b6e-daa2-4373-ae80-07f5258cdb75",
        "colab": {
          "base_uri": "https://localhost:8080/"
        }
      },
      "source": [
        "# Shapes and datatype of dataset \n",
        "print(X_train_full.shape)\n",
        "print(X_train_full.dtype)"
      ],
      "execution_count": 4,
      "outputs": [
        {
          "output_type": "stream",
          "text": [
            "(60000, 28, 28)\n",
            "uint8\n"
          ],
          "name": "stdout"
        }
      ]
    },
    {
      "cell_type": "code",
      "metadata": {
        "id": "v0JPC31H2YG1"
      },
      "source": [
        "# Dividing the full training dataset to a train and valid set with scaling \n",
        "X_valid, X_train = X_train_full[:5000] / 255.0, X_train_full[5000:] / 255\n",
        "                  # Dividing by 255 to scale the input \n",
        "y_valid, y_train = y_train_full[:5000], y_train_full[5000:]"
      ],
      "execution_count": 5,
      "outputs": []
    },
    {
      "cell_type": "code",
      "metadata": {
        "id": "uDopvG0j4pLD",
        "outputId": "e0239f8d-7c84-44d0-87de-b34373c9326c",
        "colab": {
          "base_uri": "https://localhost:8080/",
          "height": 35
        }
      },
      "source": [
        "# Making labels list \n",
        "class_names = ['T-shirt/top', 'Trouser', 'Pullover', 'Dress', 'Coat',\n",
        "               'Sandal', 'Shirt', 'Sneaker', 'Bag', 'Ankle Boot']\n",
        "class_names[y_train[0]] # Class of y_train[0]"
      ],
      "execution_count": 6,
      "outputs": [
        {
          "output_type": "execute_result",
          "data": {
            "application/vnd.google.colaboratory.intrinsic+json": {
              "type": "string"
            },
            "text/plain": [
              "'Coat'"
            ]
          },
          "metadata": {
            "tags": []
          },
          "execution_count": 6
        }
      ]
    },
    {
      "cell_type": "code",
      "metadata": {
        "id": "IuBhyhm86TU7"
      },
      "source": [
        "# Making the neural network using Sequential API \n",
        "model = keras.models.Sequential() # Initialising the model \n",
        "model.add(keras.layers.Flatten(input_shape = [28, 28]))\n",
        "model.add(keras.layers.Dense(300, activation = 'relu'))\n",
        "model.add(keras.layers.Dense(100, activation = 'relu'))\n",
        "model.add(keras.layers.Dense(10, activation = 'softmax')) # Output layer"
      ],
      "execution_count": 7,
      "outputs": []
    },
    {
      "cell_type": "code",
      "metadata": {
        "id": "CB0Pit4m_uAI",
        "outputId": "1a23da01-10a9-4f58-8d41-c3a9fdb74277",
        "colab": {
          "base_uri": "https://localhost:8080/"
        }
      },
      "source": [
        "# Summary of the model showing layers, types, trainable and non-trainable parameters\n",
        "model.summary()"
      ],
      "execution_count": 8,
      "outputs": [
        {
          "output_type": "stream",
          "text": [
            "Model: \"sequential\"\n",
            "_________________________________________________________________\n",
            "Layer (type)                 Output Shape              Param #   \n",
            "=================================================================\n",
            "flatten (Flatten)            (None, 784)               0         \n",
            "_________________________________________________________________\n",
            "dense (Dense)                (None, 300)               235500    \n",
            "_________________________________________________________________\n",
            "dense_1 (Dense)              (None, 100)               30100     \n",
            "_________________________________________________________________\n",
            "dense_2 (Dense)              (None, 10)                1010      \n",
            "=================================================================\n",
            "Total params: 266,610\n",
            "Trainable params: 266,610\n",
            "Non-trainable params: 0\n",
            "_________________________________________________________________\n"
          ],
          "name": "stdout"
        }
      ]
    },
    {
      "cell_type": "code",
      "metadata": {
        "id": "is3MXcL-_--Q"
      },
      "source": [
        "# Compiling the model \n",
        "model.compile(loss = 'sparse_categorical_crossentropy',\n",
        "              optimizer = 'sgd',\n",
        "              metrics = ['accuracy'])"
      ],
      "execution_count": 9,
      "outputs": []
    },
    {
      "cell_type": "code",
      "metadata": {
        "id": "W1cWpyRuCcaY",
        "outputId": "e0b030df-9f25-46be-d779-9a040891d2d3",
        "colab": {
          "base_uri": "https://localhost:8080/"
        }
      },
      "source": [
        "# Training and evaluating the model \n",
        "history = model.fit(X_train, y_train, epochs = 30, validation_data = (X_valid, y_valid))"
      ],
      "execution_count": 10,
      "outputs": [
        {
          "output_type": "stream",
          "text": [
            "Epoch 1/30\n",
            "1719/1719 [==============================] - 7s 4ms/step - loss: 0.9870 - accuracy: 0.6840 - val_loss: 0.4933 - val_accuracy: 0.8332\n",
            "Epoch 2/30\n",
            "1719/1719 [==============================] - 6s 3ms/step - loss: 0.5049 - accuracy: 0.8273 - val_loss: 0.4918 - val_accuracy: 0.8238\n",
            "Epoch 3/30\n",
            "1719/1719 [==============================] - 6s 3ms/step - loss: 0.4490 - accuracy: 0.8431 - val_loss: 0.4144 - val_accuracy: 0.8606\n",
            "Epoch 4/30\n",
            "1719/1719 [==============================] - 6s 3ms/step - loss: 0.4171 - accuracy: 0.8539 - val_loss: 0.3983 - val_accuracy: 0.8634\n",
            "Epoch 5/30\n",
            "1719/1719 [==============================] - 6s 3ms/step - loss: 0.3935 - accuracy: 0.8621 - val_loss: 0.4047 - val_accuracy: 0.8560\n",
            "Epoch 6/30\n",
            "1719/1719 [==============================] - 6s 3ms/step - loss: 0.3778 - accuracy: 0.8651 - val_loss: 0.3835 - val_accuracy: 0.8644\n",
            "Epoch 7/30\n",
            "1719/1719 [==============================] - 6s 3ms/step - loss: 0.3634 - accuracy: 0.8724 - val_loss: 0.3630 - val_accuracy: 0.8708\n",
            "Epoch 8/30\n",
            "1719/1719 [==============================] - 6s 3ms/step - loss: 0.3538 - accuracy: 0.8749 - val_loss: 0.3887 - val_accuracy: 0.8568\n",
            "Epoch 9/30\n",
            "1719/1719 [==============================] - 6s 3ms/step - loss: 0.3362 - accuracy: 0.8809 - val_loss: 0.3495 - val_accuracy: 0.8746\n",
            "Epoch 10/30\n",
            "1719/1719 [==============================] - 6s 3ms/step - loss: 0.3316 - accuracy: 0.8822 - val_loss: 0.3600 - val_accuracy: 0.8718\n",
            "Epoch 11/30\n",
            "1719/1719 [==============================] - 6s 3ms/step - loss: 0.3243 - accuracy: 0.8863 - val_loss: 0.3451 - val_accuracy: 0.8758\n",
            "Epoch 12/30\n",
            "1719/1719 [==============================] - 6s 3ms/step - loss: 0.3170 - accuracy: 0.8856 - val_loss: 0.3651 - val_accuracy: 0.8690\n",
            "Epoch 13/30\n",
            "1719/1719 [==============================] - 6s 3ms/step - loss: 0.3098 - accuracy: 0.8889 - val_loss: 0.3336 - val_accuracy: 0.8784\n",
            "Epoch 14/30\n",
            "1719/1719 [==============================] - 6s 3ms/step - loss: 0.2950 - accuracy: 0.8933 - val_loss: 0.3376 - val_accuracy: 0.8800\n",
            "Epoch 15/30\n",
            "1719/1719 [==============================] - 6s 3ms/step - loss: 0.2975 - accuracy: 0.8948 - val_loss: 0.3248 - val_accuracy: 0.8828\n",
            "Epoch 16/30\n",
            "1719/1719 [==============================] - 6s 3ms/step - loss: 0.2852 - accuracy: 0.8972 - val_loss: 0.3329 - val_accuracy: 0.8778\n",
            "Epoch 17/30\n",
            "1719/1719 [==============================] - 6s 3ms/step - loss: 0.2849 - accuracy: 0.8959 - val_loss: 0.3147 - val_accuracy: 0.8860\n",
            "Epoch 18/30\n",
            "1719/1719 [==============================] - 6s 3ms/step - loss: 0.2745 - accuracy: 0.9017 - val_loss: 0.3091 - val_accuracy: 0.8880\n",
            "Epoch 19/30\n",
            "1719/1719 [==============================] - 6s 3ms/step - loss: 0.2672 - accuracy: 0.9030 - val_loss: 0.3300 - val_accuracy: 0.8832\n",
            "Epoch 20/30\n",
            "1719/1719 [==============================] - 6s 4ms/step - loss: 0.2639 - accuracy: 0.9051 - val_loss: 0.3142 - val_accuracy: 0.8840\n",
            "Epoch 21/30\n",
            "1719/1719 [==============================] - 6s 4ms/step - loss: 0.2624 - accuracy: 0.9051 - val_loss: 0.3129 - val_accuracy: 0.8846\n",
            "Epoch 22/30\n",
            "1719/1719 [==============================] - 6s 3ms/step - loss: 0.2600 - accuracy: 0.9070 - val_loss: 0.3047 - val_accuracy: 0.8908\n",
            "Epoch 23/30\n",
            "1719/1719 [==============================] - 6s 4ms/step - loss: 0.2537 - accuracy: 0.9093 - val_loss: 0.3031 - val_accuracy: 0.8890\n",
            "Epoch 24/30\n",
            "1719/1719 [==============================] - 6s 3ms/step - loss: 0.2471 - accuracy: 0.9107 - val_loss: 0.3219 - val_accuracy: 0.8818\n",
            "Epoch 25/30\n",
            "1719/1719 [==============================] - 6s 4ms/step - loss: 0.2430 - accuracy: 0.9140 - val_loss: 0.3071 - val_accuracy: 0.8884\n",
            "Epoch 26/30\n",
            "1719/1719 [==============================] - 6s 4ms/step - loss: 0.2380 - accuracy: 0.9145 - val_loss: 0.3135 - val_accuracy: 0.8854\n",
            "Epoch 27/30\n",
            "1719/1719 [==============================] - 6s 4ms/step - loss: 0.2306 - accuracy: 0.9158 - val_loss: 0.3095 - val_accuracy: 0.8916\n",
            "Epoch 28/30\n",
            "1719/1719 [==============================] - 6s 3ms/step - loss: 0.2331 - accuracy: 0.9172 - val_loss: 0.3032 - val_accuracy: 0.8842\n",
            "Epoch 29/30\n",
            "1719/1719 [==============================] - 6s 3ms/step - loss: 0.2304 - accuracy: 0.9185 - val_loss: 0.3104 - val_accuracy: 0.8834\n",
            "Epoch 30/30\n",
            "1719/1719 [==============================] - 6s 3ms/step - loss: 0.2154 - accuracy: 0.9234 - val_loss: 0.3070 - val_accuracy: 0.8844\n"
          ],
          "name": "stdout"
        }
      ]
    },
    {
      "cell_type": "code",
      "metadata": {
        "id": "2k36H9sDEnn3",
        "outputId": "af7bddaa-5b0e-4327-bf82-06dfd9567932",
        "colab": {
          "base_uri": "https://localhost:8080/",
          "height": 324
        }
      },
      "source": [
        "# Plotting the parameters of the trained model \n",
        "\n",
        "# Importing libraries \n",
        "import pandas as pd\n",
        "import matplotlib.pyplot as plt\n",
        "\n",
        "# Creating a dataframe of the history object \n",
        "pd.DataFrame(history.history).plot(figsize = (8, 5))\n",
        "plt.grid(True)\n",
        "plt.gca().set_ylim(0, 1) # Set vertical range from 0-1\n",
        "plt.show()"
      ],
      "execution_count": 11,
      "outputs": [
        {
          "output_type": "display_data",
          "data": {
            "image/png": "[encoded data removed]",
            "text/plain": [
              "<Figure size 576x360 with 1 Axes>"
            ]
          },
          "metadata": {
            "tags": [],
            "needs_background": "light"
          }
        }
      ]
    },
    {
      "cell_type": "code",
      "metadata": {
        "id": "WWBPQmEiGihY",
        "outputId": "de2f551e-7677-46a2-96cb-2e6ee4ab69d1",
        "colab": {
          "base_uri": "https://localhost:8080/"
        }
      },
      "source": [
        "# Evaluating the model \n",
        "model.evaluate(X_test, y_test)"
      ],
      "execution_count": 12,
      "outputs": [
        {
          "output_type": "stream",
          "text": [
            "313/313 [==============================] - 1s 3ms/step - loss: 52.4129 - accuracy: 0.8624\n"
          ],
          "name": "stdout"
        },
        {
          "output_type": "execute_result",
          "data": {
            "text/plain": [
              "[52.41288757324219, 0.8623999953269958]"
            ]
          },
          "metadata": {
            "tags": []
          },
          "execution_count": 12
        }
      ]
    },
    {
      "cell_type": "markdown",
      "metadata": {
        "id": "UCnnj-AMHVAl"
      },
      "source": [
        "The model has performed with an accuracy of 86% on the test set, which shows that the model is able to generalise easily."
      ]
    },
    {
      "cell_type": "code",
      "metadata": {
        "id": "jc2M3zBsHjps",
        "outputId": "a785b9c4-80d2-4224-cb0d-84c1e0a60147",
        "colab": {
          "base_uri": "https://localhost:8080/"
        }
      },
      "source": [
        "# Predicting on data using the model \n",
        "\n",
        "# Importing numpy \n",
        "import numpy as np\n",
        "\n",
        "print(model.predict(X_test[:3]))\n",
        "y_pred = model.predict_classes(X_test[:3])\n",
        "print(np.array(class_names)[y_pred])"
      ],
      "execution_count": 20,
      "outputs": [
        {
          "output_type": "stream",
          "text": [
            "[[0. 0. 0. 0. 0. 0. 0. 0. 0. 1.]\n",
            " [0. 0. 1. 0. 0. 0. 0. 0. 0. 0.]\n",
            " [0. 1. 0. 0. 0. 0. 0. 0. 0. 0.]]\n",
            "['Ankle Boot' 'Pullover' 'Trouser']\n"
          ],
          "name": "stdout"
        },
        {
          "output_type": "stream",
          "text": [
            "/usr/local/lib/python3.7/dist-packages/tensorflow/python/keras/engine/sequential.py:450: UserWarning: `model.predict_classes()` is deprecated and will be removed after 2021-01-01. Please use instead:* `np.argmax(model.predict(x), axis=-1)`,   if your model does multi-class classification   (e.g. if it uses a `softmax` last-layer activation).* `(model.predict(x) > 0.5).astype(\"int32\")`,   if your model does binary classification   (e.g. if it uses a `sigmoid` last-layer activation).\n",
            "  warnings.warn('`model.predict_classes()` is deprecated and '\n"
          ],
          "name": "stderr"
        }
      ]
    },
    {
      "cell_type": "code",
      "metadata": {
        "id": "7rTQHnM8JEZf"
      },
      "source": [
        ""
      ],
      "execution_count": null,
      "outputs": []
    }
  ]
}