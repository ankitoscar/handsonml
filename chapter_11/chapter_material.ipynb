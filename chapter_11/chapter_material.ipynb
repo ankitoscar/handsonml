{
  "nbformat": 4,
  "nbformat_minor": 0,
  "metadata": {
    "colab": {
      "name": "chapter_material.ipynb",
      "provenance": [],
      "toc_visible": true,
      "authorship_tag": "ABX9TyNms/xaf5ggxYN489kWKMXr",
      "include_colab_link": true
    },
    "kernelspec": {
      "name": "python3",
      "display_name": "Python 3"
    },
    "language_info": {
      "name": "python"
    }
  },
  "cells": [
    {
      "cell_type": "markdown",
      "metadata": {
        "id": "view-in-github",
        "colab_type": "text"
      },
      "source": [
        "<a href=\"https://colab.research.google.com/github/ankitoscar/handsonml/blob/main/chapter_11/chapter_material.ipynb\" target=\"_parent\"><img src=\"https://colab.research.google.com/assets/colab-badge.svg\" alt=\"Open In Colab\"/></a>"
      ]
    },
    {
      "cell_type": "markdown",
      "metadata": {
        "id": "W-F8JOD2xPlm"
      },
      "source": [
        "## Building an image classifier using the Sequential API \n",
        "Here, we will make an image classifier using keras' Sequential API. The image classifier would be made for the Fashion MNIST dataset which has 70,000 grayscales of different fashion items having size 28 x 28."
      ]
    },
    {
      "cell_type": "code",
      "metadata": {
        "id": "VLHIUnDE0suJ",
        "colab": {
          "base_uri": "https://localhost:8080/"
        },
        "outputId": "54efd059-b81b-4351-d53f-337fb0844ff3"
      },
      "source": [
        "# Importing libraries \n",
        "import tensorflow as tf \n",
        "from tensorflow import keras \n",
        "print(tf.__version__)\n",
        "print(keras.__version__)"
      ],
      "execution_count": 1,
      "outputs": [
        {
          "output_type": "stream",
          "text": [
            "2.4.1\n",
            "2.4.0\n"
          ],
          "name": "stdout"
        }
      ]
    },
    {
      "cell_type": "code",
      "metadata": {
        "id": "qRuL6Fwj02Nt",
        "colab": {
          "base_uri": "https://localhost:8080/"
        },
        "outputId": "a7af820c-d232-41c8-9156-84af69e86a34"
      },
      "source": [
        "# Loading the Fashion MNIST dataset \n",
        "fashion_mnist = keras.datasets.fashion_mnist # Utility function for loading \n",
        "                                             # common dataset \n",
        "(X_train_full, y_train_full), (X_test, y_test) = fashion_mnist.load_data()\n",
        "                                            # Splitting data into train and test"
      ],
      "execution_count": 2,
      "outputs": [
        {
          "output_type": "stream",
          "text": [
            "Downloading data from https://storage.googleapis.com/tensorflow/tf-keras-datasets/train-labels-idx1-ubyte.gz\n",
            "32768/29515 [=================================] - 0s 0us/step\n",
            "Downloading data from https://storage.googleapis.com/tensorflow/tf-keras-datasets/train-images-idx3-ubyte.gz\n",
            "26427392/26421880 [==============================] - 0s 0us/step\n",
            "Downloading data from https://storage.googleapis.com/tensorflow/tf-keras-datasets/t10k-labels-idx1-ubyte.gz\n",
            "8192/5148 [===============================================] - 0s 0us/step\n",
            "Downloading data from https://storage.googleapis.com/tensorflow/tf-keras-datasets/t10k-images-idx3-ubyte.gz\n",
            "4423680/4422102 [==============================] - 0s 0us/step\n"
          ],
          "name": "stdout"
        }
      ]
    },
    {
      "cell_type": "code",
      "metadata": {
        "id": "3KASeJr71oIx",
        "colab": {
          "base_uri": "https://localhost:8080/"
        },
        "outputId": "f6f7de58-06c5-4ab5-8d05-2ef8801a5409"
      },
      "source": [
        "# Shapes and datatype of dataset \n",
        "print(X_train_full.shape)\n",
        "print(X_train_full.dtype)"
      ],
      "execution_count": 3,
      "outputs": [
        {
          "output_type": "stream",
          "text": [
            "(60000, 28, 28)\n",
            "uint8\n"
          ],
          "name": "stdout"
        }
      ]
    },
    {
      "cell_type": "code",
      "metadata": {
        "id": "v0JPC31H2YG1"
      },
      "source": [
        "# Dividing the full training dataset to a train and valid set with scaling \n",
        "X_valid, X_train = X_train_full[:5000] / 255.0, X_train_full[5000:] / 255\n",
        "                  # Dividing by 255 to scale the input \n",
        "y_valid, y_train = y_train_full[:5000], y_train_full[5000:]"
      ],
      "execution_count": 4,
      "outputs": []
    },
    {
      "cell_type": "code",
      "metadata": {
        "id": "uDopvG0j4pLD",
        "colab": {
          "base_uri": "https://localhost:8080/",
          "height": 35
        },
        "outputId": "0f45f475-144d-44d8-ae9f-079171a7b947"
      },
      "source": [
        "# Making labels list \n",
        "class_names = ['T-shirt/top', 'Trouser', 'Pullover', 'Dress', 'Coat',\n",
        "               'Sandal', 'Shirt', 'Sneaker', 'Bag', 'Ankle Boot']\n",
        "class_names[y_train[0]] # Class of y_train[0]"
      ],
      "execution_count": 5,
      "outputs": [
        {
          "output_type": "execute_result",
          "data": {
            "application/vnd.google.colaboratory.intrinsic+json": {
              "type": "string"
            },
            "text/plain": [
              "'Coat'"
            ]
          },
          "metadata": {
            "tags": []
          },
          "execution_count": 5
        }
      ]
    },
    {
      "cell_type": "code",
      "metadata": {
        "id": "IuBhyhm86TU7"
      },
      "source": [
        "# Making the neural network using Sequential API \n",
        "model = keras.models.Sequential() # Initialising the model \n",
        "model.add(keras.layers.Flatten(input_shape = [28, 28]))\n",
        "model.add(keras.layers.Dense(300, activation = 'relu'))\n",
        "model.add(keras.layers.Dense(100, activation = 'relu'))\n",
        "model.add(keras.layers.Dense(10, activation = 'softmax')) # Output layer"
      ],
      "execution_count": 6,
      "outputs": []
    },
    {
      "cell_type": "code",
      "metadata": {
        "id": "CB0Pit4m_uAI",
        "colab": {
          "base_uri": "https://localhost:8080/"
        },
        "outputId": "7cf83e0d-0e2a-4555-86ff-02e038c166e4"
      },
      "source": [
        "# Summary of the model showing layers, types, trainable and non-trainable parameters\n",
        "model.summary()"
      ],
      "execution_count": 7,
      "outputs": [
        {
          "output_type": "stream",
          "text": [
            "Model: \"sequential\"\n",
            "_________________________________________________________________\n",
            "Layer (type)                 Output Shape              Param #   \n",
            "=================================================================\n",
            "flatten (Flatten)            (None, 784)               0         \n",
            "_________________________________________________________________\n",
            "dense (Dense)                (None, 300)               235500    \n",
            "_________________________________________________________________\n",
            "dense_1 (Dense)              (None, 100)               30100     \n",
            "_________________________________________________________________\n",
            "dense_2 (Dense)              (None, 10)                1010      \n",
            "=================================================================\n",
            "Total params: 266,610\n",
            "Trainable params: 266,610\n",
            "Non-trainable params: 0\n",
            "_________________________________________________________________\n"
          ],
          "name": "stdout"
        }
      ]
    },
    {
      "cell_type": "code",
      "metadata": {
        "id": "is3MXcL-_--Q"
      },
      "source": [
        "# Compiling the model \n",
        "model.compile(loss = 'sparse_categorical_crossentropy',\n",
        "              optimizer = 'sgd',\n",
        "              metrics = ['accuracy'])"
      ],
      "execution_count": 8,
      "outputs": []
    },
    {
      "cell_type": "code",
      "metadata": {
        "id": "W1cWpyRuCcaY",
        "colab": {
          "base_uri": "https://localhost:8080/"
        },
        "outputId": "43f7681c-df3d-4227-ee96-96e87db86ce3"
      },
      "source": [
        "# Training and evaluating the model \n",
        "history = model.fit(X_train, y_train, epochs = 30, validation_data = (X_valid, y_valid))"
      ],
      "execution_count": 9,
      "outputs": [
        {
          "output_type": "stream",
          "text": [
            "Epoch 1/30\n",
            "1719/1719 [==============================] - 6s 3ms/step - loss: 0.9949 - accuracy: 0.6850 - val_loss: 0.5691 - val_accuracy: 0.7818\n",
            "Epoch 2/30\n",
            "1719/1719 [==============================] - 5s 3ms/step - loss: 0.5045 - accuracy: 0.8250 - val_loss: 0.4696 - val_accuracy: 0.8350\n",
            "Epoch 3/30\n",
            "1719/1719 [==============================] - 5s 3ms/step - loss: 0.4429 - accuracy: 0.8470 - val_loss: 0.4194 - val_accuracy: 0.8526\n",
            "Epoch 4/30\n",
            "1719/1719 [==============================] - 5s 3ms/step - loss: 0.4186 - accuracy: 0.8526 - val_loss: 0.4015 - val_accuracy: 0.8650\n",
            "Epoch 5/30\n",
            "1719/1719 [==============================] - 5s 3ms/step - loss: 0.3901 - accuracy: 0.8629 - val_loss: 0.4119 - val_accuracy: 0.8560\n",
            "Epoch 6/30\n",
            "1719/1719 [==============================] - 5s 3ms/step - loss: 0.3793 - accuracy: 0.8649 - val_loss: 0.3617 - val_accuracy: 0.8734\n",
            "Epoch 7/30\n",
            "1719/1719 [==============================] - 5s 3ms/step - loss: 0.3651 - accuracy: 0.8710 - val_loss: 0.3853 - val_accuracy: 0.8640\n",
            "Epoch 8/30\n",
            "1719/1719 [==============================] - 5s 3ms/step - loss: 0.3519 - accuracy: 0.8726 - val_loss: 0.3676 - val_accuracy: 0.8668\n",
            "Epoch 9/30\n",
            "1719/1719 [==============================] - 5s 3ms/step - loss: 0.3408 - accuracy: 0.8789 - val_loss: 0.3440 - val_accuracy: 0.8788\n",
            "Epoch 10/30\n",
            "1719/1719 [==============================] - 5s 3ms/step - loss: 0.3369 - accuracy: 0.8803 - val_loss: 0.3644 - val_accuracy: 0.8722\n",
            "Epoch 11/30\n",
            "1719/1719 [==============================] - 5s 3ms/step - loss: 0.3256 - accuracy: 0.8836 - val_loss: 0.3346 - val_accuracy: 0.8796\n",
            "Epoch 12/30\n",
            "1719/1719 [==============================] - 5s 3ms/step - loss: 0.3168 - accuracy: 0.8858 - val_loss: 0.3498 - val_accuracy: 0.8758\n",
            "Epoch 13/30\n",
            "1719/1719 [==============================] - 5s 3ms/step - loss: 0.3077 - accuracy: 0.8915 - val_loss: 0.3278 - val_accuracy: 0.8814\n",
            "Epoch 14/30\n",
            "1719/1719 [==============================] - 5s 3ms/step - loss: 0.2987 - accuracy: 0.8932 - val_loss: 0.3406 - val_accuracy: 0.8752\n",
            "Epoch 15/30\n",
            "1719/1719 [==============================] - 5s 3ms/step - loss: 0.2964 - accuracy: 0.8930 - val_loss: 0.3216 - val_accuracy: 0.8840\n",
            "Epoch 16/30\n",
            "1719/1719 [==============================] - 5s 3ms/step - loss: 0.2944 - accuracy: 0.8945 - val_loss: 0.3151 - val_accuracy: 0.8856\n",
            "Epoch 17/30\n",
            "1719/1719 [==============================] - 5s 3ms/step - loss: 0.2871 - accuracy: 0.8977 - val_loss: 0.3057 - val_accuracy: 0.8912\n",
            "Epoch 18/30\n",
            "1719/1719 [==============================] - 5s 3ms/step - loss: 0.2774 - accuracy: 0.8980 - val_loss: 0.3033 - val_accuracy: 0.8924\n",
            "Epoch 19/30\n",
            "1719/1719 [==============================] - 5s 3ms/step - loss: 0.2697 - accuracy: 0.9010 - val_loss: 0.3193 - val_accuracy: 0.8828\n",
            "Epoch 20/30\n",
            "1719/1719 [==============================] - 5s 3ms/step - loss: 0.2679 - accuracy: 0.9033 - val_loss: 0.3100 - val_accuracy: 0.8886\n",
            "Epoch 21/30\n",
            "1719/1719 [==============================] - 5s 3ms/step - loss: 0.2679 - accuracy: 0.9042 - val_loss: 0.3111 - val_accuracy: 0.8864\n",
            "Epoch 22/30\n",
            "1719/1719 [==============================] - 5s 3ms/step - loss: 0.2599 - accuracy: 0.9070 - val_loss: 0.3010 - val_accuracy: 0.8910\n",
            "Epoch 23/30\n",
            "1719/1719 [==============================] - 5s 3ms/step - loss: 0.2529 - accuracy: 0.9096 - val_loss: 0.2986 - val_accuracy: 0.8968\n",
            "Epoch 24/30\n",
            "1719/1719 [==============================] - 5s 3ms/step - loss: 0.2448 - accuracy: 0.9136 - val_loss: 0.2985 - val_accuracy: 0.8922\n",
            "Epoch 25/30\n",
            "1719/1719 [==============================] - 5s 3ms/step - loss: 0.2459 - accuracy: 0.9112 - val_loss: 0.2993 - val_accuracy: 0.8904\n",
            "Epoch 26/30\n",
            "1719/1719 [==============================] - 5s 3ms/step - loss: 0.2434 - accuracy: 0.9136 - val_loss: 0.3071 - val_accuracy: 0.8850\n",
            "Epoch 27/30\n",
            "1719/1719 [==============================] - 5s 3ms/step - loss: 0.2362 - accuracy: 0.9130 - val_loss: 0.3074 - val_accuracy: 0.8880\n",
            "Epoch 28/30\n",
            "1719/1719 [==============================] - 5s 3ms/step - loss: 0.2346 - accuracy: 0.9162 - val_loss: 0.2945 - val_accuracy: 0.8892\n",
            "Epoch 29/30\n",
            "1719/1719 [==============================] - 5s 3ms/step - loss: 0.2353 - accuracy: 0.9151 - val_loss: 0.2911 - val_accuracy: 0.8926\n",
            "Epoch 30/30\n",
            "1719/1719 [==============================] - 5s 3ms/step - loss: 0.2261 - accuracy: 0.9186 - val_loss: 0.3000 - val_accuracy: 0.8888\n"
          ],
          "name": "stdout"
        }
      ]
    },
    {
      "cell_type": "code",
      "metadata": {
        "id": "2k36H9sDEnn3",
        "colab": {
          "base_uri": "https://localhost:8080/",
          "height": 324
        },
        "outputId": "92f6e375-7986-42b6-eb4f-1480d25bf93c"
      },
      "source": [
        "# Plotting the parameters of the trained model \n",
        "\n",
        "# Importing libraries \n",
        "import pandas as pd\n",
        "import matplotlib.pyplot as plt\n",
        "\n",
        "# Creating a dataframe of the history object \n",
        "pd.DataFrame(history.history).plot(figsize = (8, 5))\n",
        "plt.grid(True)\n",
        "plt.gca().set_ylim(0, 1) # Set vertical range from 0-1\n",
        "plt.show()"
      ],
      "execution_count": 10,
      "outputs": [
        {
          "output_type": "display_data",
          "data": {
            "image/png": "[encoded data removed]",
            "text/plain": [
              "<Figure size 576x360 with 1 Axes>"
            ]
          },
          "metadata": {
            "tags": [],
            "needs_background": "light"
          }
        }
      ]
    },
    {
      "cell_type": "code",
      "metadata": {
        "id": "WWBPQmEiGihY",
        "colab": {
          "base_uri": "https://localhost:8080/"
        },
        "outputId": "8bd9a3b2-cfcc-4432-d55b-a36629c25662"
      },
      "source": [
        "# Evaluating the model \n",
        "model.evaluate(X_test, y_test)"
      ],
      "execution_count": 11,
      "outputs": [
        {
          "output_type": "stream",
          "text": [
            "313/313 [==============================] - 1s 2ms/step - loss: 70.1143 - accuracy: 0.8359\n"
          ],
          "name": "stdout"
        },
        {
          "output_type": "execute_result",
          "data": {
            "text/plain": [
              "[70.1142807006836, 0.8359000086784363]"
            ]
          },
          "metadata": {
            "tags": []
          },
          "execution_count": 11
        }
      ]
    },
    {
      "cell_type": "markdown",
      "metadata": {
        "id": "UCnnj-AMHVAl"
      },
      "source": [
        "The model has performed with an accuracy of 86% on the test set, which shows that the model is able to generalise easily."
      ]
    },
    {
      "cell_type": "code",
      "metadata": {
        "id": "jc2M3zBsHjps",
        "colab": {
          "base_uri": "https://localhost:8080/"
        },
        "outputId": "a54dbdf7-536c-478c-bbca-afc6f2359b01"
      },
      "source": [
        "# Predicting on data using the model \n",
        "\n",
        "# Importing numpy \n",
        "import numpy as np\n",
        "\n",
        "print(model.predict(X_test[:3]))\n",
        "y_pred = model.predict_classes(X_test[:3])\n",
        "print(np.array(class_names)[y_pred])"
      ],
      "execution_count": 12,
      "outputs": [
        {
          "output_type": "stream",
          "text": [
            "[[0. 0. 0. 0. 0. 0. 0. 0. 0. 1.]\n",
            " [0. 0. 1. 0. 0. 0. 0. 0. 0. 0.]\n",
            " [0. 1. 0. 0. 0. 0. 0. 0. 0. 0.]]\n",
            "['Ankle Boot' 'Pullover' 'Trouser']\n"
          ],
          "name": "stdout"
        },
        {
          "output_type": "stream",
          "text": [
            "/usr/local/lib/python3.7/dist-packages/tensorflow/python/keras/engine/sequential.py:450: UserWarning: `model.predict_classes()` is deprecated and will be removed after 2021-01-01. Please use instead:* `np.argmax(model.predict(x), axis=-1)`,   if your model does multi-class classification   (e.g. if it uses a `softmax` last-layer activation).* `(model.predict(x) > 0.5).astype(\"int32\")`,   if your model does binary classification   (e.g. if it uses a `sigmoid` last-layer activation).\n",
            "  warnings.warn('`model.predict_classes()` is deprecated and '\n"
          ],
          "name": "stderr"
        }
      ]
    },
    {
      "cell_type": "markdown",
      "metadata": {
        "id": "7rTQHnM8JEZf"
      },
      "source": [
        "## Building a Regression model using the Sequential API\n",
        "Here, we will make a regression model on the California housing problem using a neural network. This is a simpler dataset as it has only numerical values in stored in columns."
      ]
    },
    {
      "cell_type": "code",
      "metadata": {
        "id": "POjLEzfjIFzy",
        "outputId": "e0af9645-5a9b-44d4-d965-844f2afb6ebc",
        "colab": {
          "base_uri": "https://localhost:8080/"
        }
      },
      "source": [
        "# Importing dataset from Scikit-Learn\n",
        "from sklearn.datasets import fetch_california_housing \n",
        "from sklearn.model_selection import train_test_split\n",
        "from sklearn.preprocessing import StandardScaler\n",
        "\n",
        "# Loading the dataset using utility function \n",
        "housing = fetch_california_housing()\n",
        "\n",
        "# Splitting the data into train, test and valid sets \n",
        "X_train_full, X_test, y_train_full, y_test = train_test_split(housing.data\n",
        "                                                              , housing.target)\n",
        "\n",
        "X_train, X_valid, y_train, y_valid = train_test_split(X_train_full, y_train_full)\n",
        "\n",
        "# Initialising scaler to scale the data \n",
        "scaler = StandardScaler() \n",
        "\n",
        "# Scaling the data \n",
        "X_train_scaled = scaler.fit_transform(X_train)\n",
        "X_valid_scaled = scaler.fit_transform(X_valid)\n",
        "X_test_scaled = scaler.fit_transform(X_test)"
      ],
      "execution_count": 14,
      "outputs": [
        {
          "output_type": "stream",
          "text": [
            "Downloading Cal. housing from https://ndownloader.figshare.com/files/5976036 to /root/scikit_learn_data\n"
          ],
          "name": "stderr"
        }
      ]
    },
    {
      "cell_type": "code",
      "metadata": {
        "id": "MplwZCSvJ6RW",
        "outputId": "f4141fba-081f-45d4-f593-1dbd1f0e79f2",
        "colab": {
          "base_uri": "https://localhost:8080/"
        }
      },
      "source": [
        "# Making the model \n",
        "model = keras.models.Sequential([\n",
        "        keras.layers.Dense(30, activation='relu', input_shape = X_train.shape[1:]),\n",
        "        keras.layers.Dense(1)\n",
        "])\n",
        "\n",
        "# Compiling the model\n",
        "model.compile(loss='mean_squared_error', optimizer='sgd')\n",
        "\n",
        "history = model.fit(X_train, y_train, epochs=20,\n",
        "                    validation_data = (X_valid, y_valid))\n",
        "\n",
        "# Evaluating \n",
        "mse_test = model.evaluate(X_test, y_test)\n",
        "y_pred = model.predict(X_test[:3])\n",
        "print(y_pred)"
      ],
      "execution_count": 16,
      "outputs": [
        {
          "output_type": "stream",
          "text": [
            "Epoch 1/20\n",
            "363/363 [==============================] - 1s 1ms/step - loss: 132112961532622176256.0000 - val_loss: 3838076783949774848.0000\n",
            "Epoch 2/20\n",
            "363/363 [==============================] - 0s 1ms/step - loss: 864521687983525376.0000 - val_loss: 1637739790336.0000\n",
            "Epoch 3/20\n",
            "363/363 [==============================] - 0s 1ms/step - loss: 368898640614.6813 - val_loss: 698824.1875\n",
            "Epoch 4/20\n",
            "363/363 [==============================] - 0s 1ms/step - loss: 157405.4046 - val_loss: 1.5665\n",
            "Epoch 5/20\n",
            "363/363 [==============================] - 0s 1ms/step - loss: 1.3724 - val_loss: 1.2945\n",
            "Epoch 6/20\n",
            "363/363 [==============================] - 0s 1ms/step - loss: 1.3434 - val_loss: 1.2946\n",
            "Epoch 7/20\n",
            "363/363 [==============================] - 0s 1ms/step - loss: 1.3283 - val_loss: 1.2950\n",
            "Epoch 8/20\n",
            "363/363 [==============================] - 0s 1ms/step - loss: 1.3685 - val_loss: 1.2945\n",
            "Epoch 9/20\n",
            "363/363 [==============================] - 0s 1ms/step - loss: 1.3585 - val_loss: 1.2949\n",
            "Epoch 10/20\n",
            "363/363 [==============================] - 0s 1ms/step - loss: 1.3349 - val_loss: 1.2951\n",
            "Epoch 11/20\n",
            "363/363 [==============================] - 0s 1ms/step - loss: 1.3665 - val_loss: 1.2945\n",
            "Epoch 12/20\n",
            "363/363 [==============================] - 0s 1ms/step - loss: 1.3497 - val_loss: 1.2960\n",
            "Epoch 13/20\n",
            "363/363 [==============================] - 0s 1ms/step - loss: 1.3649 - val_loss: 1.2945\n",
            "Epoch 14/20\n",
            "363/363 [==============================] - 0s 1ms/step - loss: 1.3288 - val_loss: 1.2947\n",
            "Epoch 15/20\n",
            "363/363 [==============================] - 0s 1ms/step - loss: 1.3542 - val_loss: 1.2947\n",
            "Epoch 16/20\n",
            "363/363 [==============================] - 0s 1ms/step - loss: 1.3362 - val_loss: 1.2945\n",
            "Epoch 17/20\n",
            "363/363 [==============================] - 0s 1ms/step - loss: 1.3933 - val_loss: 1.2950\n",
            "Epoch 18/20\n",
            "363/363 [==============================] - 0s 1ms/step - loss: 1.3589 - val_loss: 1.2951\n",
            "Epoch 19/20\n",
            "363/363 [==============================] - 0s 1ms/step - loss: 1.3451 - val_loss: 1.2953\n",
            "Epoch 20/20\n",
            "363/363 [==============================] - 0s 1ms/step - loss: 1.3616 - val_loss: 1.2945\n",
            "162/162 [==============================] - 0s 819us/step - loss: 1.3120\n",
            "[[2.0631173]\n",
            " [2.0631173]\n",
            " [2.0631173]]\n"
          ],
          "name": "stdout"
        }
      ]
    },
    {
      "cell_type": "code",
      "metadata": {
        "id": "7a2L1mL7L2zN"
      },
      "source": [
        ""
      ],
      "execution_count": null,
      "outputs": []
    }
  ]
}