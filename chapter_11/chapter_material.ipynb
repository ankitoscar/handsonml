{
  "nbformat": 4,
  "nbformat_minor": 0,
  "metadata": {
    "colab": {
      "name": "chapter_material.ipynb",
      "provenance": [],
      "toc_visible": true,
      "authorship_tag": "ABX9TyPu/2UOP0Quf4S3w767cO8E",
      "include_colab_link": true
    },
    "kernelspec": {
      "name": "python3",
      "display_name": "Python 3"
    },
    "language_info": {
      "name": "python"
    }
  },
  "cells": [
    {
      "cell_type": "markdown",
      "metadata": {
        "id": "view-in-github",
        "colab_type": "text"
      },
      "source": [
        "<a href=\"https://colab.research.google.com/github/ankitoscar/handsonml/blob/main/chapter_11/chapter_material.ipynb\" target=\"_parent\"><img src=\"https://colab.research.google.com/assets/colab-badge.svg\" alt=\"Open In Colab\"/></a>"
      ]
    },
    {
      "cell_type": "markdown",
      "metadata": {
        "id": "W-F8JOD2xPlm"
      },
      "source": [
        "## Building an image classifier using the Sequential API \n",
        "Here, we will make an image classifier using keras' Sequential API. The image classifier would be made for the Fashion MNIST dataset which has 70,000 grayscales of different fashion items having size 28 x 28."
      ]
    },
    {
      "cell_type": "code",
      "metadata": {
        "id": "VLHIUnDE0suJ",
        "colab": {
          "base_uri": "https://localhost:8080/"
        },
        "outputId": "588bc584-aa06-45cc-d899-2916470ef7a0"
      },
      "source": [
        "# Importing libraries \n",
        "import tensorflow as tf \n",
        "from tensorflow import keras \n",
        "print(tf.__version__)\n",
        "print(keras.__version__)"
      ],
      "execution_count": 31,
      "outputs": [
        {
          "output_type": "stream",
          "text": [
            "2.4.1\n",
            "2.4.0\n"
          ],
          "name": "stdout"
        }
      ]
    },
    {
      "cell_type": "code",
      "metadata": {
        "id": "qRuL6Fwj02Nt"
      },
      "source": [
        "# Loading the Fashion MNIST dataset \n",
        "fashion_mnist = keras.datasets.fashion_mnist # Utility function for loading \n",
        "                                             # common dataset \n",
        "(X_train_full, y_train_full), (X_test, y_test) = fashion_mnist.load_data()\n",
        "                                            # Splitting data into train and test"
      ],
      "execution_count": 32,
      "outputs": []
    },
    {
      "cell_type": "code",
      "metadata": {
        "id": "3KASeJr71oIx",
        "colab": {
          "base_uri": "https://localhost:8080/"
        },
        "outputId": "c2aae060-3f1f-4235-c500-40ff3bfda2ca"
      },
      "source": [
        "# Shapes and datatype of dataset \n",
        "print(X_train_full.shape)\n",
        "print(X_train_full.dtype)"
      ],
      "execution_count": 33,
      "outputs": [
        {
          "output_type": "stream",
          "text": [
            "(60000, 28, 28)\n",
            "uint8\n"
          ],
          "name": "stdout"
        }
      ]
    },
    {
      "cell_type": "code",
      "metadata": {
        "id": "v0JPC31H2YG1"
      },
      "source": [
        "# Dividing the full training dataset to a train and valid set with scaling \n",
        "X_valid, X_train = X_train_full[:5000] / 255.0, X_train_full[5000:] / 255\n",
        "                  # Dividing by 255 to scale the input \n",
        "y_valid, y_train = y_train_full[:5000], y_train_full[5000:]"
      ],
      "execution_count": 34,
      "outputs": []
    },
    {
      "cell_type": "code",
      "metadata": {
        "id": "uDopvG0j4pLD",
        "colab": {
          "base_uri": "https://localhost:8080/",
          "height": 35
        },
        "outputId": "b9d388c8-8324-4e89-d9e3-8de84576a0c4"
      },
      "source": [
        "# Making labels list \n",
        "class_names = ['T-shirt/top', 'Trouser', 'Pullover', 'Dress', 'Coat',\n",
        "               'Sandal', 'Shirt', 'Sneaker', 'Bag', 'Ankle Boot']\n",
        "class_names[y_train[0]] # Class of y_train[0]"
      ],
      "execution_count": 35,
      "outputs": [
        {
          "output_type": "execute_result",
          "data": {
            "application/vnd.google.colaboratory.intrinsic+json": {
              "type": "string"
            },
            "text/plain": [
              "'Coat'"
            ]
          },
          "metadata": {
            "tags": []
          },
          "execution_count": 35
        }
      ]
    },
    {
      "cell_type": "code",
      "metadata": {
        "id": "IuBhyhm86TU7"
      },
      "source": [
        "# Making the neural network using Sequential API \n",
        "model = keras.models.Sequential() # Initialising the model \n",
        "model.add(keras.layers.Flatten(input_shape = [28, 28]))\n",
        "model.add(keras.layers.Dense(300, activation = 'relu'))\n",
        "model.add(keras.layers.Dense(100, activation = 'relu'))\n",
        "model.add(keras.layers.Dense(10, activation = 'softmax')) # Output layer"
      ],
      "execution_count": 36,
      "outputs": []
    },
    {
      "cell_type": "code",
      "metadata": {
        "id": "CB0Pit4m_uAI",
        "colab": {
          "base_uri": "https://localhost:8080/"
        },
        "outputId": "f8fb0455-c3b2-4fc2-f2e0-e2065396f473"
      },
      "source": [
        "# Summary of the model showing layers, types, trainable and non-trainable parameters\n",
        "model.summary()"
      ],
      "execution_count": 37,
      "outputs": [
        {
          "output_type": "stream",
          "text": [
            "Model: \"sequential_2\"\n",
            "_________________________________________________________________\n",
            "Layer (type)                 Output Shape              Param #   \n",
            "=================================================================\n",
            "flatten_1 (Flatten)          (None, 784)               0         \n",
            "_________________________________________________________________\n",
            "dense_18 (Dense)             (None, 300)               235500    \n",
            "_________________________________________________________________\n",
            "dense_19 (Dense)             (None, 100)               30100     \n",
            "_________________________________________________________________\n",
            "dense_20 (Dense)             (None, 10)                1010      \n",
            "=================================================================\n",
            "Total params: 266,610\n",
            "Trainable params: 266,610\n",
            "Non-trainable params: 0\n",
            "_________________________________________________________________\n"
          ],
          "name": "stdout"
        }
      ]
    },
    {
      "cell_type": "code",
      "metadata": {
        "id": "is3MXcL-_--Q"
      },
      "source": [
        "# Compiling the model \n",
        "model.compile(loss = 'sparse_categorical_crossentropy',\n",
        "              optimizer = 'sgd',\n",
        "              metrics = ['accuracy'])"
      ],
      "execution_count": 38,
      "outputs": []
    },
    {
      "cell_type": "code",
      "metadata": {
        "id": "W1cWpyRuCcaY",
        "colab": {
          "base_uri": "https://localhost:8080/"
        },
        "outputId": "481667bc-da9b-485b-b2e2-a0b9fdd69ea4"
      },
      "source": [
        "# Training and evaluating the model \n",
        "history = model.fit(X_train, y_train, epochs = 30, validation_data = (X_valid, y_valid))"
      ],
      "execution_count": 39,
      "outputs": [
        {
          "output_type": "stream",
          "text": [
            "Epoch 1/30\n",
            "1719/1719 [==============================] - 5s 3ms/step - loss: 1.0012 - accuracy: 0.6805 - val_loss: 0.5010 - val_accuracy: 0.8336\n",
            "Epoch 2/30\n",
            "1719/1719 [==============================] - 5s 3ms/step - loss: 0.5036 - accuracy: 0.8243 - val_loss: 0.4403 - val_accuracy: 0.8506\n",
            "Epoch 3/30\n",
            "1719/1719 [==============================] - 5s 3ms/step - loss: 0.4538 - accuracy: 0.8416 - val_loss: 0.4225 - val_accuracy: 0.8522\n",
            "Epoch 4/30\n",
            "1719/1719 [==============================] - 5s 3ms/step - loss: 0.4209 - accuracy: 0.8500 - val_loss: 0.4018 - val_accuracy: 0.8632\n",
            "Epoch 5/30\n",
            "1719/1719 [==============================] - 5s 3ms/step - loss: 0.3950 - accuracy: 0.8603 - val_loss: 0.3744 - val_accuracy: 0.8718\n",
            "Epoch 6/30\n",
            "1719/1719 [==============================] - 5s 3ms/step - loss: 0.3792 - accuracy: 0.8654 - val_loss: 0.3861 - val_accuracy: 0.8686\n",
            "Epoch 7/30\n",
            "1719/1719 [==============================] - 5s 3ms/step - loss: 0.3616 - accuracy: 0.8727 - val_loss: 0.3622 - val_accuracy: 0.8752\n",
            "Epoch 8/30\n",
            "1719/1719 [==============================] - 5s 3ms/step - loss: 0.3579 - accuracy: 0.8710 - val_loss: 0.3654 - val_accuracy: 0.8700\n",
            "Epoch 9/30\n",
            "1719/1719 [==============================] - 5s 3ms/step - loss: 0.3448 - accuracy: 0.8760 - val_loss: 0.3729 - val_accuracy: 0.8642\n",
            "Epoch 10/30\n",
            "1719/1719 [==============================] - 5s 3ms/step - loss: 0.3316 - accuracy: 0.8801 - val_loss: 0.3873 - val_accuracy: 0.8616\n",
            "Epoch 11/30\n",
            "1719/1719 [==============================] - 5s 3ms/step - loss: 0.3242 - accuracy: 0.8845 - val_loss: 0.3450 - val_accuracy: 0.8766\n",
            "Epoch 12/30\n",
            "1719/1719 [==============================] - 5s 3ms/step - loss: 0.3143 - accuracy: 0.8869 - val_loss: 0.3676 - val_accuracy: 0.8662\n",
            "Epoch 13/30\n",
            "1719/1719 [==============================] - 5s 3ms/step - loss: 0.3138 - accuracy: 0.8860 - val_loss: 0.3327 - val_accuracy: 0.8836\n",
            "Epoch 14/30\n",
            "1719/1719 [==============================] - 5s 3ms/step - loss: 0.3040 - accuracy: 0.8887 - val_loss: 0.3253 - val_accuracy: 0.8846\n",
            "Epoch 15/30\n",
            "1719/1719 [==============================] - 5s 3ms/step - loss: 0.2934 - accuracy: 0.8959 - val_loss: 0.3339 - val_accuracy: 0.8804\n",
            "Epoch 16/30\n",
            "1719/1719 [==============================] - 5s 3ms/step - loss: 0.2953 - accuracy: 0.8929 - val_loss: 0.3177 - val_accuracy: 0.8850\n",
            "Epoch 17/30\n",
            "1719/1719 [==============================] - 5s 3ms/step - loss: 0.2808 - accuracy: 0.8995 - val_loss: 0.3248 - val_accuracy: 0.8878\n",
            "Epoch 18/30\n",
            "1719/1719 [==============================] - 5s 3ms/step - loss: 0.2742 - accuracy: 0.9008 - val_loss: 0.3052 - val_accuracy: 0.8898\n",
            "Epoch 19/30\n",
            "1719/1719 [==============================] - 5s 3ms/step - loss: 0.2724 - accuracy: 0.9018 - val_loss: 0.3081 - val_accuracy: 0.8906\n",
            "Epoch 20/30\n",
            "1719/1719 [==============================] - 5s 3ms/step - loss: 0.2663 - accuracy: 0.9048 - val_loss: 0.3087 - val_accuracy: 0.8920\n",
            "Epoch 21/30\n",
            "1719/1719 [==============================] - 5s 3ms/step - loss: 0.2638 - accuracy: 0.9048 - val_loss: 0.3058 - val_accuracy: 0.8918\n",
            "Epoch 22/30\n",
            "1719/1719 [==============================] - 5s 3ms/step - loss: 0.2621 - accuracy: 0.9064 - val_loss: 0.3047 - val_accuracy: 0.8908\n",
            "Epoch 23/30\n",
            "1719/1719 [==============================] - 5s 3ms/step - loss: 0.2549 - accuracy: 0.9067 - val_loss: 0.2986 - val_accuracy: 0.8960\n",
            "Epoch 24/30\n",
            "1719/1719 [==============================] - 5s 3ms/step - loss: 0.2524 - accuracy: 0.9097 - val_loss: 0.3021 - val_accuracy: 0.8928\n",
            "Epoch 25/30\n",
            "1719/1719 [==============================] - 5s 3ms/step - loss: 0.2445 - accuracy: 0.9123 - val_loss: 0.2987 - val_accuracy: 0.8952\n",
            "Epoch 26/30\n",
            "1719/1719 [==============================] - 5s 3ms/step - loss: 0.2422 - accuracy: 0.9131 - val_loss: 0.2967 - val_accuracy: 0.8948\n",
            "Epoch 27/30\n",
            "1719/1719 [==============================] - 5s 3ms/step - loss: 0.2371 - accuracy: 0.9159 - val_loss: 0.2980 - val_accuracy: 0.8924\n",
            "Epoch 28/30\n",
            "1719/1719 [==============================] - 5s 3ms/step - loss: 0.2346 - accuracy: 0.9147 - val_loss: 0.3188 - val_accuracy: 0.8878\n",
            "Epoch 29/30\n",
            "1719/1719 [==============================] - 5s 3ms/step - loss: 0.2302 - accuracy: 0.9170 - val_loss: 0.2980 - val_accuracy: 0.8922\n",
            "Epoch 30/30\n",
            "1719/1719 [==============================] - 5s 3ms/step - loss: 0.2277 - accuracy: 0.9191 - val_loss: 0.2960 - val_accuracy: 0.8936\n"
          ],
          "name": "stdout"
        }
      ]
    },
    {
      "cell_type": "code",
      "metadata": {
        "id": "2k36H9sDEnn3",
        "colab": {
          "base_uri": "https://localhost:8080/",
          "height": 324
        },
        "outputId": "fa4b9223-3d7c-4955-ebb1-84f6790203e9"
      },
      "source": [
        "# Plotting the parameters of the trained model \n",
        "\n",
        "# Importing libraries \n",
        "import pandas as pd\n",
        "import matplotlib.pyplot as plt\n",
        "\n",
        "# Creating a dataframe of the history object \n",
        "pd.DataFrame(history.history).plot(figsize = (8, 5))\n",
        "plt.grid(True)\n",
        "plt.gca().set_ylim(0, 1) # Set vertical range from 0-1\n",
        "plt.show()"
      ],
      "execution_count": 40,
      "outputs": [
        {
          "output_type": "display_data",
          "data": {
            "image/png": "[encoded data removed]",
            "text/plain": [
              "<Figure size 576x360 with 1 Axes>"
            ]
          },
          "metadata": {
            "tags": [],
            "needs_background": "light"
          }
        }
      ]
    },
    {
      "cell_type": "code",
      "metadata": {
        "id": "WWBPQmEiGihY",
        "colab": {
          "base_uri": "https://localhost:8080/"
        },
        "outputId": "e152a1da-66be-4267-84fa-2697739a81ef"
      },
      "source": [
        "# Evaluating the model \n",
        "model.evaluate(X_test, y_test)"
      ],
      "execution_count": 41,
      "outputs": [
        {
          "output_type": "stream",
          "text": [
            "313/313 [==============================] - 1s 2ms/step - loss: 63.8217 - accuracy: 0.8451\n"
          ],
          "name": "stdout"
        },
        {
          "output_type": "execute_result",
          "data": {
            "text/plain": [
              "[63.821693420410156, 0.8450999855995178]"
            ]
          },
          "metadata": {
            "tags": []
          },
          "execution_count": 41
        }
      ]
    },
    {
      "cell_type": "markdown",
      "metadata": {
        "id": "UCnnj-AMHVAl"
      },
      "source": [
        "The model has performed with an accuracy of 86% on the test set, which shows that the model is able to generalise easily."
      ]
    },
    {
      "cell_type": "code",
      "metadata": {
        "id": "jc2M3zBsHjps",
        "colab": {
          "base_uri": "https://localhost:8080/"
        },
        "outputId": "1c7ec5cc-9600-4df8-b811-fb03d8e4d35c"
      },
      "source": [
        "# Predicting on data using the model \n",
        "\n",
        "# Importing numpy \n",
        "import numpy as np\n",
        "\n",
        "print(model.predict(X_test[:3]))\n",
        "y_pred = model.predict_classes(X_test[:3])\n",
        "print(np.array(class_names)[y_pred])"
      ],
      "execution_count": 42,
      "outputs": [
        {
          "output_type": "stream",
          "text": [
            "WARNING:tensorflow:5 out of the last 6 calls to <function Model.make_predict_function.<locals>.predict_function at 0x7f881f9d7d40> triggered tf.function retracing. Tracing is expensive and the excessive number of tracings could be due to (1) creating @tf.function repeatedly in a loop, (2) passing tensors with different shapes, (3) passing Python objects instead of tensors. For (1), please define your @tf.function outside of the loop. For (2), @tf.function has experimental_relax_shapes=True option that relaxes argument shapes that can avoid unnecessary retracing. For (3), please refer to https://www.tensorflow.org/guide/function#controlling_retracing and https://www.tensorflow.org/api_docs/python/tf/function for  more details.\n",
            "[[0. 0. 0. 0. 0. 0. 0. 0. 0. 1.]\n",
            " [0. 0. 1. 0. 0. 0. 0. 0. 0. 0.]\n",
            " [0. 1. 0. 0. 0. 0. 0. 0. 0. 0.]]\n",
            "['Ankle Boot' 'Pullover' 'Trouser']\n"
          ],
          "name": "stdout"
        },
        {
          "output_type": "stream",
          "text": [
            "/usr/local/lib/python3.7/dist-packages/tensorflow/python/keras/engine/sequential.py:450: UserWarning: `model.predict_classes()` is deprecated and will be removed after 2021-01-01. Please use instead:* `np.argmax(model.predict(x), axis=-1)`,   if your model does multi-class classification   (e.g. if it uses a `softmax` last-layer activation).* `(model.predict(x) > 0.5).astype(\"int32\")`,   if your model does binary classification   (e.g. if it uses a `sigmoid` last-layer activation).\n",
            "  warnings.warn('`model.predict_classes()` is deprecated and '\n"
          ],
          "name": "stderr"
        }
      ]
    },
    {
      "cell_type": "markdown",
      "metadata": {
        "id": "7rTQHnM8JEZf"
      },
      "source": [
        "## Building a Regression model using the Sequential API\n",
        "Here, we will make a regression model on the California housing problem using a neural network. This is a simpler dataset as it has only numerical values in stored in columns."
      ]
    },
    {
      "cell_type": "code",
      "metadata": {
        "id": "POjLEzfjIFzy"
      },
      "source": [
        "# Importing dataset from Scikit-Learn\n",
        "from sklearn.datasets import fetch_california_housing \n",
        "from sklearn.model_selection import train_test_split\n",
        "from sklearn.preprocessing import StandardScaler\n",
        "\n",
        "# Loading the dataset using utility function \n",
        "housing = fetch_california_housing()\n",
        "\n",
        "# Splitting the data into train, test and valid sets \n",
        "X_train_full, X_test, y_train_full, y_test = train_test_split(housing.data\n",
        "                                                              , housing.target)\n",
        "\n",
        "X_train, X_valid, y_train, y_valid = train_test_split(X_train_full, y_train_full)\n",
        "\n",
        "# Initialising scaler to scale the data \n",
        "scaler = StandardScaler() \n",
        "\n",
        "# Scaling the data \n",
        "X_train = scaler.fit_transform(X_train)\n",
        "X_valid = scaler.fit_transform(X_valid)\n",
        "X_test = scaler.fit_transform(X_test)"
      ],
      "execution_count": 43,
      "outputs": []
    },
    {
      "cell_type": "code",
      "metadata": {
        "id": "MplwZCSvJ6RW",
        "colab": {
          "base_uri": "https://localhost:8080/"
        },
        "outputId": "1e67fddd-cdcb-4e99-fb34-79fdf23388b3"
      },
      "source": [
        "# Making the model \n",
        "model = keras.models.Sequential([\n",
        "        keras.layers.Dense(30, activation='relu', input_shape = X_train.shape[1:]),\n",
        "        keras.layers.Dense(1)\n",
        "])\n",
        "\n",
        "# Compiling the model\n",
        "model.compile(loss='mean_squared_error', optimizer='sgd')\n",
        "\n",
        "history = model.fit(X_train, y_train, epochs=20,\n",
        "                    validation_data = (X_valid, y_valid))\n",
        "\n",
        "# Evaluating \n",
        "mse_test = model.evaluate(X_test, y_test)\n",
        "y_pred = model.predict(X_test[:3])\n",
        "print(y_pred)"
      ],
      "execution_count": 44,
      "outputs": [
        {
          "output_type": "stream",
          "text": [
            "Epoch 1/20\n",
            "363/363 [==============================] - 1s 2ms/step - loss: 1.3281 - val_loss: 1.1616\n",
            "Epoch 2/20\n",
            "363/363 [==============================] - 0s 1ms/step - loss: 1.2852 - val_loss: 0.5077\n",
            "Epoch 3/20\n",
            "363/363 [==============================] - 0s 1ms/step - loss: 0.4665 - val_loss: 0.4642\n",
            "Epoch 4/20\n",
            "363/363 [==============================] - 0s 1ms/step - loss: 0.4498 - val_loss: 0.4500\n",
            "Epoch 5/20\n",
            "363/363 [==============================] - 0s 1ms/step - loss: 0.3925 - val_loss: 0.4457\n",
            "Epoch 6/20\n",
            "363/363 [==============================] - 0s 1ms/step - loss: 0.3819 - val_loss: 0.4194\n",
            "Epoch 7/20\n",
            "363/363 [==============================] - 0s 1ms/step - loss: 0.3733 - val_loss: 0.4464\n",
            "Epoch 8/20\n",
            "363/363 [==============================] - 0s 1ms/step - loss: 0.4137 - val_loss: 0.4311\n",
            "Epoch 9/20\n",
            "363/363 [==============================] - 0s 1ms/step - loss: 0.3753 - val_loss: 0.4145\n",
            "Epoch 10/20\n",
            "363/363 [==============================] - 0s 1ms/step - loss: 0.3694 - val_loss: 0.4141\n",
            "Epoch 11/20\n",
            "363/363 [==============================] - 0s 1ms/step - loss: 0.3543 - val_loss: 0.4083\n",
            "Epoch 12/20\n",
            "363/363 [==============================] - 0s 1ms/step - loss: 0.3679 - val_loss: 0.4031\n",
            "Epoch 13/20\n",
            "363/363 [==============================] - 0s 1ms/step - loss: 0.3605 - val_loss: 0.4018\n",
            "Epoch 14/20\n",
            "363/363 [==============================] - 0s 1ms/step - loss: 0.3568 - val_loss: 0.4089\n",
            "Epoch 15/20\n",
            "363/363 [==============================] - 0s 1ms/step - loss: 0.3560 - val_loss: 0.4030\n",
            "Epoch 16/20\n",
            "363/363 [==============================] - 1s 1ms/step - loss: 0.3521 - val_loss: 0.4773\n",
            "Epoch 17/20\n",
            "363/363 [==============================] - 0s 1ms/step - loss: 0.3614 - val_loss: 0.3987\n",
            "Epoch 18/20\n",
            "363/363 [==============================] - 0s 1ms/step - loss: 0.3495 - val_loss: 0.3970\n",
            "Epoch 19/20\n",
            "363/363 [==============================] - 0s 1ms/step - loss: 0.3744 - val_loss: 0.4009\n",
            "Epoch 20/20\n",
            "363/363 [==============================] - 0s 1ms/step - loss: 0.3398 - val_loss: 0.3878\n",
            "162/162 [==============================] - 0s 783us/step - loss: 27.7593\n",
            "WARNING:tensorflow:6 out of the last 8 calls to <function Model.make_predict_function.<locals>.predict_function at 0x7f881f0b59e0> triggered tf.function retracing. Tracing is expensive and the excessive number of tracings could be due to (1) creating @tf.function repeatedly in a loop, (2) passing tensors with different shapes, (3) passing Python objects instead of tensors. For (1), please define your @tf.function outside of the loop. For (2), @tf.function has experimental_relax_shapes=True option that relaxes argument shapes that can avoid unnecessary retracing. For (3), please refer to https://www.tensorflow.org/guide/function#controlling_retracing and https://www.tensorflow.org/api_docs/python/tf/function for  more details.\n",
            "[[ 1.0369828 ]\n",
            " [13.464748  ]\n",
            " [ 0.99790907]]\n"
          ],
          "name": "stdout"
        }
      ]
    },
    {
      "cell_type": "markdown",
      "metadata": {
        "id": "7a2L1mL7L2zN"
      },
      "source": [
        "## Building complex models using the Functional API\n",
        "Keras also has another API called Functional API, which can be used to create non-sequential models. Here, we will make one such model using it."
      ]
    },
    {
      "cell_type": "markdown",
      "metadata": {
        "id": "46AvItaYPzQt"
      },
      "source": [
        "### Wide and Deep Network\n",
        "This neural network tries to create two paths between input and output as to obtain output via a long and a short path."
      ]
    },
    {
      "cell_type": "code",
      "metadata": {
        "id": "oEkI6zLvQOrr"
      },
      "source": [
        "# Making a wide and deep network \n",
        "_input_ = keras.layers.Input(shape = X_train.shape[1:])\n",
        "hidden1 = keras.layers.Dense(30, activation='relu')(_input_) # Using Functional API\n",
        "hidden2 = keras.layers.Dense(30, activation='relu')(hidden1)\n",
        "concat = keras.layers.concatenate([_input_, hidden2]) # Creating long and short path\n",
        "output = keras.layers.Dense(1)(concat)\n",
        "model = keras.models.Model(inputs=[_input_], outputs=[output])"
      ],
      "execution_count": 45,
      "outputs": []
    },
    {
      "cell_type": "code",
      "metadata": {
        "colab": {
          "base_uri": "https://localhost:8080/"
        },
        "id": "3E6tLUX2RLM3",
        "outputId": "1d27fdb7-ca03-4549-cb63-ec79b4180a8e"
      },
      "source": [
        "model.summary()"
      ],
      "execution_count": 46,
      "outputs": [
        {
          "output_type": "stream",
          "text": [
            "Model: \"model_3\"\n",
            "__________________________________________________________________________________________________\n",
            "Layer (type)                    Output Shape         Param #     Connected to                     \n",
            "==================================================================================================\n",
            "input_7 (InputLayer)            [(None, 8)]          0                                            \n",
            "__________________________________________________________________________________________________\n",
            "dense_23 (Dense)                (None, 30)           270         input_7[0][0]                    \n",
            "__________________________________________________________________________________________________\n",
            "dense_24 (Dense)                (None, 30)           930         dense_23[0][0]                   \n",
            "__________________________________________________________________________________________________\n",
            "concatenate_4 (Concatenate)     (None, 38)           0           input_7[0][0]                    \n",
            "                                                                 dense_24[0][0]                   \n",
            "__________________________________________________________________________________________________\n",
            "dense_25 (Dense)                (None, 1)            39          concatenate_4[0][0]              \n",
            "==================================================================================================\n",
            "Total params: 1,239\n",
            "Trainable params: 1,239\n",
            "Non-trainable params: 0\n",
            "__________________________________________________________________________________________________\n"
          ],
          "name": "stdout"
        }
      ]
    },
    {
      "cell_type": "code",
      "metadata": {
        "colab": {
          "base_uri": "https://localhost:8080/"
        },
        "id": "7Bt7pbj4TRNA",
        "outputId": "638cd556-c5d2-4f55-8995-093790f80bea"
      },
      "source": [
        "# Compiling the model \n",
        "model.compile(loss='mean_squared_error', optimizer='sgd')\n",
        "\n",
        "# Training the model \n",
        "history = model.fit(X_train, y_train, epochs=20,\n",
        "                    validation_data=(X_valid, y_valid))"
      ],
      "execution_count": 47,
      "outputs": [
        {
          "output_type": "stream",
          "text": [
            "Epoch 1/20\n",
            "363/363 [==============================] - 1s 2ms/step - loss: 1.2648 - val_loss: 4.6976\n",
            "Epoch 2/20\n",
            "363/363 [==============================] - 0s 1ms/step - loss: 1.3278 - val_loss: 93.7802\n",
            "Epoch 3/20\n",
            "363/363 [==============================] - 0s 1ms/step - loss: nan - val_loss: nan\n",
            "Epoch 4/20\n",
            "363/363 [==============================] - 0s 1ms/step - loss: nan - val_loss: nan\n",
            "Epoch 5/20\n",
            "363/363 [==============================] - 0s 1ms/step - loss: nan - val_loss: nan\n",
            "Epoch 6/20\n",
            "363/363 [==============================] - 0s 1ms/step - loss: nan - val_loss: nan\n",
            "Epoch 7/20\n",
            "363/363 [==============================] - 0s 1ms/step - loss: nan - val_loss: nan\n",
            "Epoch 8/20\n",
            "363/363 [==============================] - 0s 1ms/step - loss: nan - val_loss: nan\n",
            "Epoch 9/20\n",
            "363/363 [==============================] - 0s 1ms/step - loss: nan - val_loss: nan\n",
            "Epoch 10/20\n",
            "363/363 [==============================] - 0s 1ms/step - loss: nan - val_loss: nan\n",
            "Epoch 11/20\n",
            "363/363 [==============================] - 0s 1ms/step - loss: nan - val_loss: nan\n",
            "Epoch 12/20\n",
            "363/363 [==============================] - 0s 1ms/step - loss: nan - val_loss: nan\n",
            "Epoch 13/20\n",
            "363/363 [==============================] - 0s 1ms/step - loss: nan - val_loss: nan\n",
            "Epoch 14/20\n",
            "363/363 [==============================] - 0s 1ms/step - loss: nan - val_loss: nan\n",
            "Epoch 15/20\n",
            "363/363 [==============================] - 0s 1ms/step - loss: nan - val_loss: nan\n",
            "Epoch 16/20\n",
            "363/363 [==============================] - 0s 1ms/step - loss: nan - val_loss: nan\n",
            "Epoch 17/20\n",
            "363/363 [==============================] - 0s 1ms/step - loss: nan - val_loss: nan\n",
            "Epoch 18/20\n",
            "363/363 [==============================] - 0s 1ms/step - loss: nan - val_loss: nan\n",
            "Epoch 19/20\n",
            "363/363 [==============================] - 0s 1ms/step - loss: nan - val_loss: nan\n",
            "Epoch 20/20\n",
            "363/363 [==============================] - 0s 1ms/step - loss: nan - val_loss: nan\n"
          ],
          "name": "stdout"
        }
      ]
    },
    {
      "cell_type": "code",
      "metadata": {
        "colab": {
          "base_uri": "https://localhost:8080/"
        },
        "id": "nRdy76TLTsz2",
        "outputId": "4a6307b4-3305-4e83-c1b3-18d6361cd4e4"
      },
      "source": [
        "# Predicting on test data \n",
        "mse_test = model.evaluate(X_test, y_test)\n",
        "y_pred = model.predict(X_test[:3])\n",
        "print(y_pred)"
      ],
      "execution_count": 48,
      "outputs": [
        {
          "output_type": "stream",
          "text": [
            "162/162 [==============================] - 0s 794us/step - loss: nan\n",
            "WARNING:tensorflow:7 out of the last 9 calls to <function Model.make_predict_function.<locals>.predict_function at 0x7f881efbba70> triggered tf.function retracing. Tracing is expensive and the excessive number of tracings could be due to (1) creating @tf.function repeatedly in a loop, (2) passing tensors with different shapes, (3) passing Python objects instead of tensors. For (1), please define your @tf.function outside of the loop. For (2), @tf.function has experimental_relax_shapes=True option that relaxes argument shapes that can avoid unnecessary retracing. For (3), please refer to https://www.tensorflow.org/guide/function#controlling_retracing and https://www.tensorflow.org/api_docs/python/tf/function for  more details.\n",
            "[[nan]\n",
            " [nan]\n",
            " [nan]]\n"
          ],
          "name": "stdout"
        }
      ]
    },
    {
      "cell_type": "markdown",
      "metadata": {
        "id": "TyrHl6BHWBZ6"
      },
      "source": [
        "We can also configure the neural network to take different subsets of features in different paths and then give the output."
      ]
    },
    {
      "cell_type": "code",
      "metadata": {
        "id": "Hzy1MWseXgS1"
      },
      "source": [
        "# Making a network to take different features in different paths \n",
        "input_A = keras.layers.Input(shape = [5])\n",
        "input_B = keras.layers.Input(shape = [6])\n",
        "hidden1 = keras.layers.Dense(30, activation='relu')(input_B)\n",
        "hidden2 = keras.layers.Dense(30, activation='relu')(hidden1)\n",
        "concat = keras.layers.concatenate([input_A, hidden2])\n",
        "output = keras.layers.Dense(1)(concat)\n",
        "model = keras.models.Model(inputs=[input_A, input_B], outputs=[output])"
      ],
      "execution_count": 49,
      "outputs": []
    },
    {
      "cell_type": "code",
      "metadata": {
        "colab": {
          "base_uri": "https://localhost:8080/"
        },
        "id": "RNHcBhJGYWj9",
        "outputId": "6da070d1-e15d-41c6-a8f2-e43bdf0c5f28"
      },
      "source": [
        "model.summary()"
      ],
      "execution_count": 50,
      "outputs": [
        {
          "output_type": "stream",
          "text": [
            "Model: \"model_4\"\n",
            "__________________________________________________________________________________________________\n",
            "Layer (type)                    Output Shape         Param #     Connected to                     \n",
            "==================================================================================================\n",
            "input_9 (InputLayer)            [(None, 6)]          0                                            \n",
            "__________________________________________________________________________________________________\n",
            "dense_26 (Dense)                (None, 30)           210         input_9[0][0]                    \n",
            "__________________________________________________________________________________________________\n",
            "input_8 (InputLayer)            [(None, 5)]          0                                            \n",
            "__________________________________________________________________________________________________\n",
            "dense_27 (Dense)                (None, 30)           930         dense_26[0][0]                   \n",
            "__________________________________________________________________________________________________\n",
            "concatenate_5 (Concatenate)     (None, 35)           0           input_8[0][0]                    \n",
            "                                                                 dense_27[0][0]                   \n",
            "__________________________________________________________________________________________________\n",
            "dense_28 (Dense)                (None, 1)            36          concatenate_5[0][0]              \n",
            "==================================================================================================\n",
            "Total params: 1,176\n",
            "Trainable params: 1,176\n",
            "Non-trainable params: 0\n",
            "__________________________________________________________________________________________________\n"
          ],
          "name": "stdout"
        }
      ]
    },
    {
      "cell_type": "code",
      "metadata": {
        "colab": {
          "base_uri": "https://localhost:8080/"
        },
        "id": "-nbxhkXUYefz",
        "outputId": "7ce07995-5eb8-44b4-d287-7cff3b568c08"
      },
      "source": [
        "# Compiling the model \n",
        "model.compile(loss='mse', optimizer='sgd')\n",
        "\n",
        "# Modifying input shapes of data \n",
        "X_train_A, X_train_B = X_train[:, :5], X_train[:, 2:]\n",
        "X_valid_A, X_valid_B = X_valid[:, :5], X_valid[:, 2:]\n",
        "X_test_A, X_test_B = X_test[:, :5], X_test[:, 2:]\n",
        "X_new_A, X_new_B = X_test_A[:3], X_test_B[:3]\n",
        "\n",
        "# Training the model \n",
        "history = model.fit((X_train_A, X_train_B), y_train, epochs=20,\n",
        "                    validation_data=((X_valid_A,X_valid_B), y_valid))\n",
        "# Evaluating \n",
        "mse_test = model.evaluate((X_test_A, X_test_B), y_test)\n",
        "y_pred = model.predict((X_new_A, X_new_B))"
      ],
      "execution_count": 51,
      "outputs": [
        {
          "output_type": "stream",
          "text": [
            "Epoch 1/20\n",
            "363/363 [==============================] - 1s 2ms/step - loss: 1.2986 - val_loss: 0.8496\n",
            "Epoch 2/20\n",
            "363/363 [==============================] - 0s 1ms/step - loss: 0.6403 - val_loss: 0.5643\n",
            "Epoch 3/20\n",
            "363/363 [==============================] - 0s 1ms/step - loss: 0.5119 - val_loss: 0.5184\n",
            "Epoch 4/20\n",
            "363/363 [==============================] - 0s 1ms/step - loss: 0.4774 - val_loss: 0.5094\n",
            "Epoch 5/20\n",
            "363/363 [==============================] - 0s 1ms/step - loss: 0.4557 - val_loss: 0.4800\n",
            "Epoch 6/20\n",
            "363/363 [==============================] - 0s 1ms/step - loss: 0.4281 - val_loss: 0.4663\n",
            "Epoch 7/20\n",
            "363/363 [==============================] - 0s 1ms/step - loss: 0.4265 - val_loss: 0.4609\n",
            "Epoch 8/20\n",
            "363/363 [==============================] - 1s 1ms/step - loss: 0.4067 - val_loss: 0.4516\n",
            "Epoch 9/20\n",
            "363/363 [==============================] - 0s 1ms/step - loss: 0.3889 - val_loss: 0.4485\n",
            "Epoch 10/20\n",
            "363/363 [==============================] - 0s 1ms/step - loss: 0.3941 - val_loss: 0.4331\n",
            "Epoch 11/20\n",
            "363/363 [==============================] - 0s 1ms/step - loss: 0.3793 - val_loss: 0.4358\n",
            "Epoch 12/20\n",
            "363/363 [==============================] - 0s 1ms/step - loss: 0.3854 - val_loss: 0.4497\n",
            "Epoch 13/20\n",
            "363/363 [==============================] - 0s 1ms/step - loss: 0.3830 - val_loss: 0.4070\n",
            "Epoch 14/20\n",
            "363/363 [==============================] - 1s 1ms/step - loss: 0.3838 - val_loss: 0.4243\n",
            "Epoch 15/20\n",
            "363/363 [==============================] - 0s 1ms/step - loss: 0.3599 - val_loss: 0.4079\n",
            "Epoch 16/20\n",
            "363/363 [==============================] - 0s 1ms/step - loss: 0.3652 - val_loss: 0.4075\n",
            "Epoch 17/20\n",
            "363/363 [==============================] - 0s 1ms/step - loss: 0.3540 - val_loss: 0.3964\n",
            "Epoch 18/20\n",
            "363/363 [==============================] - 0s 1ms/step - loss: 0.3411 - val_loss: 0.4314\n",
            "Epoch 19/20\n",
            "363/363 [==============================] - 1s 1ms/step - loss: 0.3516 - val_loss: 0.3858\n",
            "Epoch 20/20\n",
            "363/363 [==============================] - 0s 1ms/step - loss: 0.3428 - val_loss: 0.3999\n",
            "162/162 [==============================] - 0s 878us/step - loss: 7.8352\n",
            "WARNING:tensorflow:8 out of the last 10 calls to <function Model.make_predict_function.<locals>.predict_function at 0x7f881ee4bdd0> triggered tf.function retracing. Tracing is expensive and the excessive number of tracings could be due to (1) creating @tf.function repeatedly in a loop, (2) passing tensors with different shapes, (3) passing Python objects instead of tensors. For (1), please define your @tf.function outside of the loop. For (2), @tf.function has experimental_relax_shapes=True option that relaxes argument shapes that can avoid unnecessary retracing. For (3), please refer to https://www.tensorflow.org/guide/function#controlling_retracing and https://www.tensorflow.org/api_docs/python/tf/function for  more details.\n"
          ],
          "name": "stdout"
        }
      ]
    },
    {
      "cell_type": "code",
      "metadata": {
        "id": "h_BmBSzpZ4-u"
      },
      "source": [
        "# Making a neural network to give more than one output \n",
        "input_A = keras.layers.Input(shape = [5])\n",
        "input_B = keras.layers.Input(shape = [6])\n",
        "hidden1 = keras.layers.Dense(30, activation='relu')(input_B)\n",
        "hidden2 = keras.layers.Dense(30, activation='relu')(hidden1)\n",
        "concat = keras.layers.concatenate([input_A, hidden2])\n",
        "output = keras.layers.Dense(1)(concat)\n",
        "aux_output = keras.layers.Dense(1)(hidden2) # auxilary output \n",
        "model = keras.models.Model(inputs=[input_A, input_B], outputs=[output, aux_output])"
      ],
      "execution_count": 52,
      "outputs": []
    },
    {
      "cell_type": "code",
      "metadata": {
        "colab": {
          "base_uri": "https://localhost:8080/"
        },
        "id": "HVTgEYLmbPXE",
        "outputId": "b4683835-5b05-4327-c9dd-bc5f7054caea"
      },
      "source": [
        "model.summary()"
      ],
      "execution_count": 53,
      "outputs": [
        {
          "output_type": "stream",
          "text": [
            "Model: \"model_5\"\n",
            "__________________________________________________________________________________________________\n",
            "Layer (type)                    Output Shape         Param #     Connected to                     \n",
            "==================================================================================================\n",
            "input_11 (InputLayer)           [(None, 6)]          0                                            \n",
            "__________________________________________________________________________________________________\n",
            "dense_29 (Dense)                (None, 30)           210         input_11[0][0]                   \n",
            "__________________________________________________________________________________________________\n",
            "input_10 (InputLayer)           [(None, 5)]          0                                            \n",
            "__________________________________________________________________________________________________\n",
            "dense_30 (Dense)                (None, 30)           930         dense_29[0][0]                   \n",
            "__________________________________________________________________________________________________\n",
            "concatenate_6 (Concatenate)     (None, 35)           0           input_10[0][0]                   \n",
            "                                                                 dense_30[0][0]                   \n",
            "__________________________________________________________________________________________________\n",
            "dense_31 (Dense)                (None, 1)            36          concatenate_6[0][0]              \n",
            "__________________________________________________________________________________________________\n",
            "dense_32 (Dense)                (None, 1)            31          dense_30[0][0]                   \n",
            "==================================================================================================\n",
            "Total params: 1,207\n",
            "Trainable params: 1,207\n",
            "Non-trainable params: 0\n",
            "__________________________________________________________________________________________________\n"
          ],
          "name": "stdout"
        }
      ]
    },
    {
      "cell_type": "code",
      "metadata": {
        "colab": {
          "base_uri": "https://localhost:8080/"
        },
        "id": "kKRbGTopbRTr",
        "outputId": "34ac2ebb-7865-4d34-87f8-613d7a0a3523"
      },
      "source": [
        "# Compiling the model \n",
        "model.compile(loss = ['mse', 'mse'],loss_weights=[0.9, 0.1], optimizer = 'sgd')\n",
        "\n",
        "# Training the model \n",
        "history = model.fit(\n",
        "    [X_train_A, X_train_B], [y_train, y_train], epochs=20,\n",
        "    validation_data = ([X_valid_A, X_valid_B], [y_valid, y_valid])\n",
        ")\n",
        "\n",
        "# Getting all losses\n",
        "total_loss, main_loss, aux_loss = model.evaluate(\n",
        "    [X_test_A, X_test_B], [y_test, y_test]\n",
        ")\n",
        "\n",
        "print(total_loss, main_loss, aux_loss)"
      ],
      "execution_count": 54,
      "outputs": [
        {
          "output_type": "stream",
          "text": [
            "Epoch 1/20\n",
            "363/363 [==============================] - 1s 3ms/step - loss: 1.9730 - dense_31_loss: 1.8198 - dense_32_loss: 3.3513 - val_loss: 1.3523 - val_dense_31_loss: 1.3453 - val_dense_32_loss: 1.4151\n",
            "Epoch 2/20\n",
            "363/363 [==============================] - 1s 2ms/step - loss: 0.9589 - dense_31_loss: 0.9212 - dense_32_loss: 1.2980 - val_loss: 27.7902 - val_dense_31_loss: 29.5598 - val_dense_32_loss: 11.8637\n",
            "Epoch 3/20\n",
            "363/363 [==============================] - 1s 2ms/step - loss: nan - dense_31_loss: nan - dense_32_loss: nan - val_loss: nan - val_dense_31_loss: nan - val_dense_32_loss: nan\n",
            "Epoch 4/20\n",
            "363/363 [==============================] - 1s 2ms/step - loss: nan - dense_31_loss: nan - dense_32_loss: nan - val_loss: nan - val_dense_31_loss: nan - val_dense_32_loss: nan\n",
            "Epoch 5/20\n",
            "363/363 [==============================] - 1s 2ms/step - loss: nan - dense_31_loss: nan - dense_32_loss: nan - val_loss: nan - val_dense_31_loss: nan - val_dense_32_loss: nan\n",
            "Epoch 6/20\n",
            "363/363 [==============================] - 1s 1ms/step - loss: nan - dense_31_loss: nan - dense_32_loss: nan - val_loss: nan - val_dense_31_loss: nan - val_dense_32_loss: nan\n",
            "Epoch 7/20\n",
            "363/363 [==============================] - 1s 2ms/step - loss: nan - dense_31_loss: nan - dense_32_loss: nan - val_loss: nan - val_dense_31_loss: nan - val_dense_32_loss: nan\n",
            "Epoch 8/20\n",
            "363/363 [==============================] - 1s 2ms/step - loss: nan - dense_31_loss: nan - dense_32_loss: nan - val_loss: nan - val_dense_31_loss: nan - val_dense_32_loss: nan\n",
            "Epoch 9/20\n",
            "363/363 [==============================] - 1s 2ms/step - loss: nan - dense_31_loss: nan - dense_32_loss: nan - val_loss: nan - val_dense_31_loss: nan - val_dense_32_loss: nan\n",
            "Epoch 10/20\n",
            "363/363 [==============================] - 1s 2ms/step - loss: nan - dense_31_loss: nan - dense_32_loss: nan - val_loss: nan - val_dense_31_loss: nan - val_dense_32_loss: nan\n",
            "Epoch 11/20\n",
            "363/363 [==============================] - 1s 2ms/step - loss: nan - dense_31_loss: nan - dense_32_loss: nan - val_loss: nan - val_dense_31_loss: nan - val_dense_32_loss: nan\n",
            "Epoch 12/20\n",
            "363/363 [==============================] - 1s 2ms/step - loss: nan - dense_31_loss: nan - dense_32_loss: nan - val_loss: nan - val_dense_31_loss: nan - val_dense_32_loss: nan\n",
            "Epoch 13/20\n",
            "363/363 [==============================] - 1s 2ms/step - loss: nan - dense_31_loss: nan - dense_32_loss: nan - val_loss: nan - val_dense_31_loss: nan - val_dense_32_loss: nan\n",
            "Epoch 14/20\n",
            "363/363 [==============================] - 1s 2ms/step - loss: nan - dense_31_loss: nan - dense_32_loss: nan - val_loss: nan - val_dense_31_loss: nan - val_dense_32_loss: nan\n",
            "Epoch 15/20\n",
            "363/363 [==============================] - 1s 2ms/step - loss: nan - dense_31_loss: nan - dense_32_loss: nan - val_loss: nan - val_dense_31_loss: nan - val_dense_32_loss: nan\n",
            "Epoch 16/20\n",
            "363/363 [==============================] - 1s 2ms/step - loss: nan - dense_31_loss: nan - dense_32_loss: nan - val_loss: nan - val_dense_31_loss: nan - val_dense_32_loss: nan\n",
            "Epoch 17/20\n",
            "363/363 [==============================] - 1s 2ms/step - loss: nan - dense_31_loss: nan - dense_32_loss: nan - val_loss: nan - val_dense_31_loss: nan - val_dense_32_loss: nan\n",
            "Epoch 18/20\n",
            "363/363 [==============================] - 1s 2ms/step - loss: nan - dense_31_loss: nan - dense_32_loss: nan - val_loss: nan - val_dense_31_loss: nan - val_dense_32_loss: nan\n",
            "Epoch 19/20\n",
            "363/363 [==============================] - 1s 2ms/step - loss: nan - dense_31_loss: nan - dense_32_loss: nan - val_loss: nan - val_dense_31_loss: nan - val_dense_32_loss: nan\n",
            "Epoch 20/20\n",
            "363/363 [==============================] - 1s 1ms/step - loss: nan - dense_31_loss: nan - dense_32_loss: nan - val_loss: nan - val_dense_31_loss: nan - val_dense_32_loss: nan\n",
            "162/162 [==============================] - 0s 1ms/step - loss: nan - dense_31_loss: nan - dense_32_loss: nan\n",
            "nan nan nan\n"
          ],
          "name": "stdout"
        }
      ]
    },
    {
      "cell_type": "markdown",
      "metadata": {
        "id": "f81kbFhxcm1f"
      },
      "source": [
        "## Building a model using Subclassing API\n",
        "In, this method we can wrap our model around a class which can help us to do operations on it like loops, if-statements, etc."
      ]
    },
    {
      "cell_type": "code",
      "metadata": {
        "id": "soA2MbTgkX09"
      },
      "source": [
        "# Building a model with Subclassing API\n",
        "class WideAndDeep(keras.models.Model):\n",
        "  def __init__(self, units=30, activation='relu', **kwargs): # constructor\n",
        "    super().__init__(**kwargs)\n",
        "    self.hidden1 = keras.layers.Dense(units, activation=activation)\n",
        "    self.hidden2 = keras.layers.Dense(units, activation=activation)\n",
        "    self.main_output = keras.layers.Dense(1)\n",
        "    self.aux_output = keras.layers.Dense(1)\n",
        "\n",
        "  def call(self, inputs):\n",
        "    input_A, input_B = inputs \n",
        "    hidden1 = self.hidden1(input_B)\n",
        "    hidden2 = self.hidden2(hidden1)\n",
        "    concat = keras.layers.concatenate([input_A, hidden2])\n",
        "    main_output = self.main_output(concat)\n",
        "    aux_output = self.aux_output(hidden2)\n",
        "    \n",
        "    return main_output, aux_output\n",
        "\n",
        "model = WideAndDeep()"
      ],
      "execution_count": 56,
      "outputs": []
    },
    {
      "cell_type": "code",
      "metadata": {
        "id": "zUQmkSaBljqp"
      },
      "source": [
        ""
      ],
      "execution_count": null,
      "outputs": []
    }
  ]
}